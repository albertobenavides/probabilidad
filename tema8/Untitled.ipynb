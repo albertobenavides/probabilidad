{
 "cells": [
  {
   "cell_type": "code",
   "execution_count": 22,
   "metadata": {},
   "outputs": [],
   "source": [
    "df = read.csv(file = 'data/covid-mex.csv')"
   ]
  },
  {
   "cell_type": "code",
   "execution_count": 23,
   "metadata": {},
   "outputs": [
    {
     "data": {
      "text/html": [
       "<table>\n",
       "<caption>A data.frame: 6 × 38</caption>\n",
       "<thead>\n",
       "\t<tr><th></th><th scope=col>FECHA_ACTUALIZACION</th><th scope=col>ID_REGISTRO</th><th scope=col>ORIGEN</th><th scope=col>SECTOR</th><th scope=col>ENTIDAD_UM</th><th scope=col>SEXO</th><th scope=col>ENTIDAD_NAC</th><th scope=col>ENTIDAD_RES</th><th scope=col>MUNICIPIO_RES</th><th scope=col>TIPO_PACIENTE</th><th scope=col>...</th><th scope=col>RENAL_CRONICA</th><th scope=col>TABAQUISMO</th><th scope=col>OTRO_CASO</th><th scope=col>TOMA_MUESTRA</th><th scope=col>RESULTADO_LAB</th><th scope=col>CLASIFICACION_FINAL</th><th scope=col>MIGRANTE</th><th scope=col>PAIS_NACIONALIDAD</th><th scope=col>PAIS_ORIGEN</th><th scope=col>UCI</th></tr>\n",
       "\t<tr><th></th><th scope=col>&lt;chr&gt;</th><th scope=col>&lt;chr&gt;</th><th scope=col>&lt;int&gt;</th><th scope=col>&lt;int&gt;</th><th scope=col>&lt;int&gt;</th><th scope=col>&lt;int&gt;</th><th scope=col>&lt;int&gt;</th><th scope=col>&lt;int&gt;</th><th scope=col>&lt;int&gt;</th><th scope=col>&lt;int&gt;</th><th scope=col>...</th><th scope=col>&lt;int&gt;</th><th scope=col>&lt;int&gt;</th><th scope=col>&lt;int&gt;</th><th scope=col>&lt;int&gt;</th><th scope=col>&lt;int&gt;</th><th scope=col>&lt;int&gt;</th><th scope=col>&lt;int&gt;</th><th scope=col>&lt;chr&gt;</th><th scope=col>&lt;chr&gt;</th><th scope=col>&lt;int&gt;</th></tr>\n",
       "</thead>\n",
       "<tbody>\n",
       "\t<tr><th scope=row>1</th><td>2020-10-25</td><td>1c4583</td><td>2</td><td>12</td><td>9</td><td>2</td><td> 9</td><td>9</td><td> 4</td><td>1</td><td>...</td><td>2</td><td>2</td><td> 2</td><td>1</td><td>1</td><td>3</td><td>99</td><td>MÃ©xico</td><td>97</td><td>97</td></tr>\n",
       "\t<tr><th scope=row>2</th><td>2020-10-25</td><td>0d55c9</td><td>2</td><td>12</td><td>9</td><td>1</td><td> 9</td><td>9</td><td>16</td><td>1</td><td>...</td><td>2</td><td>2</td><td> 2</td><td>1</td><td>1</td><td>3</td><td>99</td><td>MÃ©xico</td><td>97</td><td>97</td></tr>\n",
       "\t<tr><th scope=row>3</th><td>2020-10-25</td><td>002371</td><td>1</td><td> 4</td><td>3</td><td>2</td><td> 3</td><td>3</td><td> 8</td><td>1</td><td>...</td><td>2</td><td>2</td><td>99</td><td>1</td><td>1</td><td>3</td><td>99</td><td>MÃ©xico</td><td>97</td><td>97</td></tr>\n",
       "\t<tr><th scope=row>4</th><td>2020-10-25</td><td>11fb00</td><td>1</td><td>12</td><td>9</td><td>2</td><td> 9</td><td>9</td><td>15</td><td>1</td><td>...</td><td>2</td><td>2</td><td> 1</td><td>1</td><td>1</td><td>3</td><td>99</td><td>MÃ©xico</td><td>97</td><td>97</td></tr>\n",
       "\t<tr><th scope=row>5</th><td>2020-10-25</td><td>092521</td><td>1</td><td>12</td><td>9</td><td>1</td><td> 9</td><td>9</td><td>17</td><td>1</td><td>...</td><td>2</td><td>2</td><td> 2</td><td>1</td><td>1</td><td>3</td><td>99</td><td>MÃ©xico</td><td>97</td><td>97</td></tr>\n",
       "\t<tr><th scope=row>6</th><td>2020-10-25</td><td>0955a5</td><td>2</td><td>12</td><td>6</td><td>1</td><td>14</td><td>6</td><td>10</td><td>1</td><td>...</td><td>2</td><td>2</td><td> 2</td><td>1</td><td>1</td><td>3</td><td>99</td><td>MÃ©xico</td><td>97</td><td>97</td></tr>\n",
       "</tbody>\n",
       "</table>\n"
      ],
      "text/latex": [
       "A data.frame: 6 × 38\n",
       "\\begin{tabular}{r|lllllllllllllllllllll}\n",
       "  & FECHA\\_ACTUALIZACION & ID\\_REGISTRO & ORIGEN & SECTOR & ENTIDAD\\_UM & SEXO & ENTIDAD\\_NAC & ENTIDAD\\_RES & MUNICIPIO\\_RES & TIPO\\_PACIENTE & ... & RENAL\\_CRONICA & TABAQUISMO & OTRO\\_CASO & TOMA\\_MUESTRA & RESULTADO\\_LAB & CLASIFICACION\\_FINAL & MIGRANTE & PAIS\\_NACIONALIDAD & PAIS\\_ORIGEN & UCI\\\\\n",
       "  & <chr> & <chr> & <int> & <int> & <int> & <int> & <int> & <int> & <int> & <int> & ... & <int> & <int> & <int> & <int> & <int> & <int> & <int> & <chr> & <chr> & <int>\\\\\n",
       "\\hline\n",
       "\t1 & 2020-10-25 & 1c4583 & 2 & 12 & 9 & 2 &  9 & 9 &  4 & 1 & ... & 2 & 2 &  2 & 1 & 1 & 3 & 99 & MÃ©xico & 97 & 97\\\\\n",
       "\t2 & 2020-10-25 & 0d55c9 & 2 & 12 & 9 & 1 &  9 & 9 & 16 & 1 & ... & 2 & 2 &  2 & 1 & 1 & 3 & 99 & MÃ©xico & 97 & 97\\\\\n",
       "\t3 & 2020-10-25 & 002371 & 1 &  4 & 3 & 2 &  3 & 3 &  8 & 1 & ... & 2 & 2 & 99 & 1 & 1 & 3 & 99 & MÃ©xico & 97 & 97\\\\\n",
       "\t4 & 2020-10-25 & 11fb00 & 1 & 12 & 9 & 2 &  9 & 9 & 15 & 1 & ... & 2 & 2 &  1 & 1 & 1 & 3 & 99 & MÃ©xico & 97 & 97\\\\\n",
       "\t5 & 2020-10-25 & 092521 & 1 & 12 & 9 & 1 &  9 & 9 & 17 & 1 & ... & 2 & 2 &  2 & 1 & 1 & 3 & 99 & MÃ©xico & 97 & 97\\\\\n",
       "\t6 & 2020-10-25 & 0955a5 & 2 & 12 & 6 & 1 & 14 & 6 & 10 & 1 & ... & 2 & 2 &  2 & 1 & 1 & 3 & 99 & MÃ©xico & 97 & 97\\\\\n",
       "\\end{tabular}\n"
      ],
      "text/markdown": [
       "\n",
       "A data.frame: 6 × 38\n",
       "\n",
       "| <!--/--> | FECHA_ACTUALIZACION &lt;chr&gt; | ID_REGISTRO &lt;chr&gt; | ORIGEN &lt;int&gt; | SECTOR &lt;int&gt; | ENTIDAD_UM &lt;int&gt; | SEXO &lt;int&gt; | ENTIDAD_NAC &lt;int&gt; | ENTIDAD_RES &lt;int&gt; | MUNICIPIO_RES &lt;int&gt; | TIPO_PACIENTE &lt;int&gt; | ... ... | RENAL_CRONICA &lt;int&gt; | TABAQUISMO &lt;int&gt; | OTRO_CASO &lt;int&gt; | TOMA_MUESTRA &lt;int&gt; | RESULTADO_LAB &lt;int&gt; | CLASIFICACION_FINAL &lt;int&gt; | MIGRANTE &lt;int&gt; | PAIS_NACIONALIDAD &lt;chr&gt; | PAIS_ORIGEN &lt;chr&gt; | UCI &lt;int&gt; |\n",
       "|---|---|---|---|---|---|---|---|---|---|---|---|---|---|---|---|---|---|---|---|---|---|\n",
       "| 1 | 2020-10-25 | 1c4583 | 2 | 12 | 9 | 2 |  9 | 9 |  4 | 1 | ... | 2 | 2 |  2 | 1 | 1 | 3 | 99 | MÃ©xico | 97 | 97 |\n",
       "| 2 | 2020-10-25 | 0d55c9 | 2 | 12 | 9 | 1 |  9 | 9 | 16 | 1 | ... | 2 | 2 |  2 | 1 | 1 | 3 | 99 | MÃ©xico | 97 | 97 |\n",
       "| 3 | 2020-10-25 | 002371 | 1 |  4 | 3 | 2 |  3 | 3 |  8 | 1 | ... | 2 | 2 | 99 | 1 | 1 | 3 | 99 | MÃ©xico | 97 | 97 |\n",
       "| 4 | 2020-10-25 | 11fb00 | 1 | 12 | 9 | 2 |  9 | 9 | 15 | 1 | ... | 2 | 2 |  1 | 1 | 1 | 3 | 99 | MÃ©xico | 97 | 97 |\n",
       "| 5 | 2020-10-25 | 092521 | 1 | 12 | 9 | 1 |  9 | 9 | 17 | 1 | ... | 2 | 2 |  2 | 1 | 1 | 3 | 99 | MÃ©xico | 97 | 97 |\n",
       "| 6 | 2020-10-25 | 0955a5 | 2 | 12 | 6 | 1 | 14 | 6 | 10 | 1 | ... | 2 | 2 |  2 | 1 | 1 | 3 | 99 | MÃ©xico | 97 | 97 |\n",
       "\n"
      ],
      "text/plain": [
       "  FECHA_ACTUALIZACION ID_REGISTRO ORIGEN SECTOR ENTIDAD_UM SEXO ENTIDAD_NAC\n",
       "1 2020-10-25          1c4583      2      12     9          2     9         \n",
       "2 2020-10-25          0d55c9      2      12     9          1     9         \n",
       "3 2020-10-25          002371      1       4     3          2     3         \n",
       "4 2020-10-25          11fb00      1      12     9          2     9         \n",
       "5 2020-10-25          092521      1      12     9          1     9         \n",
       "6 2020-10-25          0955a5      2      12     6          1    14         \n",
       "  ENTIDAD_RES MUNICIPIO_RES TIPO_PACIENTE ... RENAL_CRONICA TABAQUISMO\n",
       "1 9            4            1             ... 2             2         \n",
       "2 9           16            1             ... 2             2         \n",
       "3 3            8            1             ... 2             2         \n",
       "4 9           15            1             ... 2             2         \n",
       "5 9           17            1             ... 2             2         \n",
       "6 6           10            1             ... 2             2         \n",
       "  OTRO_CASO TOMA_MUESTRA RESULTADO_LAB CLASIFICACION_FINAL MIGRANTE\n",
       "1  2        1            1             3                   99      \n",
       "2  2        1            1             3                   99      \n",
       "3 99        1            1             3                   99      \n",
       "4  1        1            1             3                   99      \n",
       "5  2        1            1             3                   99      \n",
       "6  2        1            1             3                   99      \n",
       "  PAIS_NACIONALIDAD PAIS_ORIGEN UCI\n",
       "1 MÃ©xico           97          97 \n",
       "2 MÃ©xico           97          97 \n",
       "3 MÃ©xico           97          97 \n",
       "4 MÃ©xico           97          97 \n",
       "5 MÃ©xico           97          97 \n",
       "6 MÃ©xico           97          97 "
      ]
     },
     "metadata": {},
     "output_type": "display_data"
    }
   ],
   "source": [
    "head(df)"
   ]
  },
  {
   "cell_type": "code",
   "execution_count": 24,
   "metadata": {},
   "outputs": [
    {
     "data": {
      "text/html": [
       "<style>\n",
       ".list-inline {list-style: none; margin:0; padding: 0}\n",
       ".list-inline>li {display: inline-block}\n",
       ".list-inline>li:not(:last-child)::after {content: \"\\00b7\"; padding: 0 .5ex}\n",
       "</style>\n",
       "<ol class=list-inline><li>'FECHA_ACTUALIZACION'</li><li>'ID_REGISTRO'</li><li>'ORIGEN'</li><li>'SECTOR'</li><li>'ENTIDAD_UM'</li><li>'SEXO'</li><li>'ENTIDAD_NAC'</li><li>'ENTIDAD_RES'</li><li>'MUNICIPIO_RES'</li><li>'TIPO_PACIENTE'</li><li>'FECHA_INGRESO'</li><li>'FECHA_SINTOMAS'</li><li>'FECHA_DEF'</li><li>'INTUBADO'</li><li>'NEUMONIA'</li><li>'EDAD'</li><li>'NACIONALIDAD'</li><li>'EMBARAZO'</li><li>'HABLA_LENGUA_INDIG'</li><li>'INDIGENA'</li><li>'DIABETES'</li><li>'EPOC'</li><li>'ASMA'</li><li>'INMUSUPR'</li><li>'HIPERTENSION'</li><li>'OTRA_COM'</li><li>'CARDIOVASCULAR'</li><li>'OBESIDAD'</li><li>'RENAL_CRONICA'</li><li>'TABAQUISMO'</li><li>'OTRO_CASO'</li><li>'TOMA_MUESTRA'</li><li>'RESULTADO_LAB'</li><li>'CLASIFICACION_FINAL'</li><li>'MIGRANTE'</li><li>'PAIS_NACIONALIDAD'</li><li>'PAIS_ORIGEN'</li><li>'UCI'</li></ol>\n"
      ],
      "text/latex": [
       "\\begin{enumerate*}\n",
       "\\item 'FECHA\\_ACTUALIZACION'\n",
       "\\item 'ID\\_REGISTRO'\n",
       "\\item 'ORIGEN'\n",
       "\\item 'SECTOR'\n",
       "\\item 'ENTIDAD\\_UM'\n",
       "\\item 'SEXO'\n",
       "\\item 'ENTIDAD\\_NAC'\n",
       "\\item 'ENTIDAD\\_RES'\n",
       "\\item 'MUNICIPIO\\_RES'\n",
       "\\item 'TIPO\\_PACIENTE'\n",
       "\\item 'FECHA\\_INGRESO'\n",
       "\\item 'FECHA\\_SINTOMAS'\n",
       "\\item 'FECHA\\_DEF'\n",
       "\\item 'INTUBADO'\n",
       "\\item 'NEUMONIA'\n",
       "\\item 'EDAD'\n",
       "\\item 'NACIONALIDAD'\n",
       "\\item 'EMBARAZO'\n",
       "\\item 'HABLA\\_LENGUA\\_INDIG'\n",
       "\\item 'INDIGENA'\n",
       "\\item 'DIABETES'\n",
       "\\item 'EPOC'\n",
       "\\item 'ASMA'\n",
       "\\item 'INMUSUPR'\n",
       "\\item 'HIPERTENSION'\n",
       "\\item 'OTRA\\_COM'\n",
       "\\item 'CARDIOVASCULAR'\n",
       "\\item 'OBESIDAD'\n",
       "\\item 'RENAL\\_CRONICA'\n",
       "\\item 'TABAQUISMO'\n",
       "\\item 'OTRO\\_CASO'\n",
       "\\item 'TOMA\\_MUESTRA'\n",
       "\\item 'RESULTADO\\_LAB'\n",
       "\\item 'CLASIFICACION\\_FINAL'\n",
       "\\item 'MIGRANTE'\n",
       "\\item 'PAIS\\_NACIONALIDAD'\n",
       "\\item 'PAIS\\_ORIGEN'\n",
       "\\item 'UCI'\n",
       "\\end{enumerate*}\n"
      ],
      "text/markdown": [
       "1. 'FECHA_ACTUALIZACION'\n",
       "2. 'ID_REGISTRO'\n",
       "3. 'ORIGEN'\n",
       "4. 'SECTOR'\n",
       "5. 'ENTIDAD_UM'\n",
       "6. 'SEXO'\n",
       "7. 'ENTIDAD_NAC'\n",
       "8. 'ENTIDAD_RES'\n",
       "9. 'MUNICIPIO_RES'\n",
       "10. 'TIPO_PACIENTE'\n",
       "11. 'FECHA_INGRESO'\n",
       "12. 'FECHA_SINTOMAS'\n",
       "13. 'FECHA_DEF'\n",
       "14. 'INTUBADO'\n",
       "15. 'NEUMONIA'\n",
       "16. 'EDAD'\n",
       "17. 'NACIONALIDAD'\n",
       "18. 'EMBARAZO'\n",
       "19. 'HABLA_LENGUA_INDIG'\n",
       "20. 'INDIGENA'\n",
       "21. 'DIABETES'\n",
       "22. 'EPOC'\n",
       "23. 'ASMA'\n",
       "24. 'INMUSUPR'\n",
       "25. 'HIPERTENSION'\n",
       "26. 'OTRA_COM'\n",
       "27. 'CARDIOVASCULAR'\n",
       "28. 'OBESIDAD'\n",
       "29. 'RENAL_CRONICA'\n",
       "30. 'TABAQUISMO'\n",
       "31. 'OTRO_CASO'\n",
       "32. 'TOMA_MUESTRA'\n",
       "33. 'RESULTADO_LAB'\n",
       "34. 'CLASIFICACION_FINAL'\n",
       "35. 'MIGRANTE'\n",
       "36. 'PAIS_NACIONALIDAD'\n",
       "37. 'PAIS_ORIGEN'\n",
       "38. 'UCI'\n",
       "\n",
       "\n"
      ],
      "text/plain": [
       " [1] \"FECHA_ACTUALIZACION\" \"ID_REGISTRO\"         \"ORIGEN\"             \n",
       " [4] \"SECTOR\"              \"ENTIDAD_UM\"          \"SEXO\"               \n",
       " [7] \"ENTIDAD_NAC\"         \"ENTIDAD_RES\"         \"MUNICIPIO_RES\"      \n",
       "[10] \"TIPO_PACIENTE\"       \"FECHA_INGRESO\"       \"FECHA_SINTOMAS\"     \n",
       "[13] \"FECHA_DEF\"           \"INTUBADO\"            \"NEUMONIA\"           \n",
       "[16] \"EDAD\"                \"NACIONALIDAD\"        \"EMBARAZO\"           \n",
       "[19] \"HABLA_LENGUA_INDIG\"  \"INDIGENA\"            \"DIABETES\"           \n",
       "[22] \"EPOC\"                \"ASMA\"                \"INMUSUPR\"           \n",
       "[25] \"HIPERTENSION\"        \"OTRA_COM\"            \"CARDIOVASCULAR\"     \n",
       "[28] \"OBESIDAD\"            \"RENAL_CRONICA\"       \"TABAQUISMO\"         \n",
       "[31] \"OTRO_CASO\"           \"TOMA_MUESTRA\"        \"RESULTADO_LAB\"      \n",
       "[34] \"CLASIFICACION_FINAL\" \"MIGRANTE\"            \"PAIS_NACIONALIDAD\"  \n",
       "[37] \"PAIS_ORIGEN\"         \"UCI\"                "
      ]
     },
     "metadata": {},
     "output_type": "display_data"
    }
   ],
   "source": [
    "colnames(df)"
   ]
  },
  {
   "cell_type": "markdown",
   "metadata": {},
   "source": [
    "Todas las fechas:"
   ]
  },
  {
   "cell_type": "code",
   "execution_count": 25,
   "metadata": {},
   "outputs": [],
   "source": [
    "df$FECHA_SINTOMAS = as.Date(df$FECHA_SINTOMAS)\n",
    "df$FECHA_ACTUALIZACION = as.Date(df$FECHA_ACTUALIZACION)\n",
    "df$FECHA_DEF[df$FECHA_DEF == '9999-99-99'] = NA\n",
    "df$FECHA_DEF = as.Date(df$FECHA_DEF)"
   ]
  },
  {
   "cell_type": "markdown",
   "metadata": {},
   "source": [
    "Se separan los pacientes que sí y no tienen Covid-19."
   ]
  },
  {
   "cell_type": "code",
   "execution_count": 26,
   "metadata": {},
   "outputs": [
    {
     "data": {
      "text/html": [
       "<table>\n",
       "<caption>A data.frame: 6 × 38</caption>\n",
       "<thead>\n",
       "\t<tr><th></th><th scope=col>FECHA_ACTUALIZACION</th><th scope=col>ID_REGISTRO</th><th scope=col>ORIGEN</th><th scope=col>SECTOR</th><th scope=col>ENTIDAD_UM</th><th scope=col>SEXO</th><th scope=col>ENTIDAD_NAC</th><th scope=col>ENTIDAD_RES</th><th scope=col>MUNICIPIO_RES</th><th scope=col>TIPO_PACIENTE</th><th scope=col>...</th><th scope=col>RENAL_CRONICA</th><th scope=col>TABAQUISMO</th><th scope=col>OTRO_CASO</th><th scope=col>TOMA_MUESTRA</th><th scope=col>RESULTADO_LAB</th><th scope=col>CLASIFICACION_FINAL</th><th scope=col>MIGRANTE</th><th scope=col>PAIS_NACIONALIDAD</th><th scope=col>PAIS_ORIGEN</th><th scope=col>UCI</th></tr>\n",
       "\t<tr><th></th><th scope=col>&lt;date&gt;</th><th scope=col>&lt;chr&gt;</th><th scope=col>&lt;int&gt;</th><th scope=col>&lt;int&gt;</th><th scope=col>&lt;int&gt;</th><th scope=col>&lt;int&gt;</th><th scope=col>&lt;int&gt;</th><th scope=col>&lt;int&gt;</th><th scope=col>&lt;int&gt;</th><th scope=col>&lt;int&gt;</th><th scope=col>...</th><th scope=col>&lt;int&gt;</th><th scope=col>&lt;int&gt;</th><th scope=col>&lt;int&gt;</th><th scope=col>&lt;int&gt;</th><th scope=col>&lt;int&gt;</th><th scope=col>&lt;int&gt;</th><th scope=col>&lt;int&gt;</th><th scope=col>&lt;chr&gt;</th><th scope=col>&lt;chr&gt;</th><th scope=col>&lt;int&gt;</th></tr>\n",
       "</thead>\n",
       "<tbody>\n",
       "\t<tr><th scope=row>1</th><td>2020-10-25</td><td>1c4583</td><td>2</td><td>12</td><td>9</td><td>2</td><td> 9</td><td>9</td><td> 4</td><td>1</td><td>...</td><td>2</td><td>2</td><td> 2</td><td>1</td><td>1</td><td>3</td><td>99</td><td>MÃ©xico</td><td>97</td><td>97</td></tr>\n",
       "\t<tr><th scope=row>2</th><td>2020-10-25</td><td>0d55c9</td><td>2</td><td>12</td><td>9</td><td>1</td><td> 9</td><td>9</td><td>16</td><td>1</td><td>...</td><td>2</td><td>2</td><td> 2</td><td>1</td><td>1</td><td>3</td><td>99</td><td>MÃ©xico</td><td>97</td><td>97</td></tr>\n",
       "\t<tr><th scope=row>3</th><td>2020-10-25</td><td>002371</td><td>1</td><td> 4</td><td>3</td><td>2</td><td> 3</td><td>3</td><td> 8</td><td>1</td><td>...</td><td>2</td><td>2</td><td>99</td><td>1</td><td>1</td><td>3</td><td>99</td><td>MÃ©xico</td><td>97</td><td>97</td></tr>\n",
       "\t<tr><th scope=row>4</th><td>2020-10-25</td><td>11fb00</td><td>1</td><td>12</td><td>9</td><td>2</td><td> 9</td><td>9</td><td>15</td><td>1</td><td>...</td><td>2</td><td>2</td><td> 1</td><td>1</td><td>1</td><td>3</td><td>99</td><td>MÃ©xico</td><td>97</td><td>97</td></tr>\n",
       "\t<tr><th scope=row>5</th><td>2020-10-25</td><td>092521</td><td>1</td><td>12</td><td>9</td><td>1</td><td> 9</td><td>9</td><td>17</td><td>1</td><td>...</td><td>2</td><td>2</td><td> 2</td><td>1</td><td>1</td><td>3</td><td>99</td><td>MÃ©xico</td><td>97</td><td>97</td></tr>\n",
       "\t<tr><th scope=row>6</th><td>2020-10-25</td><td>0955a5</td><td>2</td><td>12</td><td>6</td><td>1</td><td>14</td><td>6</td><td>10</td><td>1</td><td>...</td><td>2</td><td>2</td><td> 2</td><td>1</td><td>1</td><td>3</td><td>99</td><td>MÃ©xico</td><td>97</td><td>97</td></tr>\n",
       "</tbody>\n",
       "</table>\n"
      ],
      "text/latex": [
       "A data.frame: 6 × 38\n",
       "\\begin{tabular}{r|lllllllllllllllllllll}\n",
       "  & FECHA\\_ACTUALIZACION & ID\\_REGISTRO & ORIGEN & SECTOR & ENTIDAD\\_UM & SEXO & ENTIDAD\\_NAC & ENTIDAD\\_RES & MUNICIPIO\\_RES & TIPO\\_PACIENTE & ... & RENAL\\_CRONICA & TABAQUISMO & OTRO\\_CASO & TOMA\\_MUESTRA & RESULTADO\\_LAB & CLASIFICACION\\_FINAL & MIGRANTE & PAIS\\_NACIONALIDAD & PAIS\\_ORIGEN & UCI\\\\\n",
       "  & <date> & <chr> & <int> & <int> & <int> & <int> & <int> & <int> & <int> & <int> & ... & <int> & <int> & <int> & <int> & <int> & <int> & <int> & <chr> & <chr> & <int>\\\\\n",
       "\\hline\n",
       "\t1 & 2020-10-25 & 1c4583 & 2 & 12 & 9 & 2 &  9 & 9 &  4 & 1 & ... & 2 & 2 &  2 & 1 & 1 & 3 & 99 & MÃ©xico & 97 & 97\\\\\n",
       "\t2 & 2020-10-25 & 0d55c9 & 2 & 12 & 9 & 1 &  9 & 9 & 16 & 1 & ... & 2 & 2 &  2 & 1 & 1 & 3 & 99 & MÃ©xico & 97 & 97\\\\\n",
       "\t3 & 2020-10-25 & 002371 & 1 &  4 & 3 & 2 &  3 & 3 &  8 & 1 & ... & 2 & 2 & 99 & 1 & 1 & 3 & 99 & MÃ©xico & 97 & 97\\\\\n",
       "\t4 & 2020-10-25 & 11fb00 & 1 & 12 & 9 & 2 &  9 & 9 & 15 & 1 & ... & 2 & 2 &  1 & 1 & 1 & 3 & 99 & MÃ©xico & 97 & 97\\\\\n",
       "\t5 & 2020-10-25 & 092521 & 1 & 12 & 9 & 1 &  9 & 9 & 17 & 1 & ... & 2 & 2 &  2 & 1 & 1 & 3 & 99 & MÃ©xico & 97 & 97\\\\\n",
       "\t6 & 2020-10-25 & 0955a5 & 2 & 12 & 6 & 1 & 14 & 6 & 10 & 1 & ... & 2 & 2 &  2 & 1 & 1 & 3 & 99 & MÃ©xico & 97 & 97\\\\\n",
       "\\end{tabular}\n"
      ],
      "text/markdown": [
       "\n",
       "A data.frame: 6 × 38\n",
       "\n",
       "| <!--/--> | FECHA_ACTUALIZACION &lt;date&gt; | ID_REGISTRO &lt;chr&gt; | ORIGEN &lt;int&gt; | SECTOR &lt;int&gt; | ENTIDAD_UM &lt;int&gt; | SEXO &lt;int&gt; | ENTIDAD_NAC &lt;int&gt; | ENTIDAD_RES &lt;int&gt; | MUNICIPIO_RES &lt;int&gt; | TIPO_PACIENTE &lt;int&gt; | ... ... | RENAL_CRONICA &lt;int&gt; | TABAQUISMO &lt;int&gt; | OTRO_CASO &lt;int&gt; | TOMA_MUESTRA &lt;int&gt; | RESULTADO_LAB &lt;int&gt; | CLASIFICACION_FINAL &lt;int&gt; | MIGRANTE &lt;int&gt; | PAIS_NACIONALIDAD &lt;chr&gt; | PAIS_ORIGEN &lt;chr&gt; | UCI &lt;int&gt; |\n",
       "|---|---|---|---|---|---|---|---|---|---|---|---|---|---|---|---|---|---|---|---|---|---|\n",
       "| 1 | 2020-10-25 | 1c4583 | 2 | 12 | 9 | 2 |  9 | 9 |  4 | 1 | ... | 2 | 2 |  2 | 1 | 1 | 3 | 99 | MÃ©xico | 97 | 97 |\n",
       "| 2 | 2020-10-25 | 0d55c9 | 2 | 12 | 9 | 1 |  9 | 9 | 16 | 1 | ... | 2 | 2 |  2 | 1 | 1 | 3 | 99 | MÃ©xico | 97 | 97 |\n",
       "| 3 | 2020-10-25 | 002371 | 1 |  4 | 3 | 2 |  3 | 3 |  8 | 1 | ... | 2 | 2 | 99 | 1 | 1 | 3 | 99 | MÃ©xico | 97 | 97 |\n",
       "| 4 | 2020-10-25 | 11fb00 | 1 | 12 | 9 | 2 |  9 | 9 | 15 | 1 | ... | 2 | 2 |  1 | 1 | 1 | 3 | 99 | MÃ©xico | 97 | 97 |\n",
       "| 5 | 2020-10-25 | 092521 | 1 | 12 | 9 | 1 |  9 | 9 | 17 | 1 | ... | 2 | 2 |  2 | 1 | 1 | 3 | 99 | MÃ©xico | 97 | 97 |\n",
       "| 6 | 2020-10-25 | 0955a5 | 2 | 12 | 6 | 1 | 14 | 6 | 10 | 1 | ... | 2 | 2 |  2 | 1 | 1 | 3 | 99 | MÃ©xico | 97 | 97 |\n",
       "\n"
      ],
      "text/plain": [
       "  FECHA_ACTUALIZACION ID_REGISTRO ORIGEN SECTOR ENTIDAD_UM SEXO ENTIDAD_NAC\n",
       "1 2020-10-25          1c4583      2      12     9          2     9         \n",
       "2 2020-10-25          0d55c9      2      12     9          1     9         \n",
       "3 2020-10-25          002371      1       4     3          2     3         \n",
       "4 2020-10-25          11fb00      1      12     9          2     9         \n",
       "5 2020-10-25          092521      1      12     9          1     9         \n",
       "6 2020-10-25          0955a5      2      12     6          1    14         \n",
       "  ENTIDAD_RES MUNICIPIO_RES TIPO_PACIENTE ... RENAL_CRONICA TABAQUISMO\n",
       "1 9            4            1             ... 2             2         \n",
       "2 9           16            1             ... 2             2         \n",
       "3 3            8            1             ... 2             2         \n",
       "4 9           15            1             ... 2             2         \n",
       "5 9           17            1             ... 2             2         \n",
       "6 6           10            1             ... 2             2         \n",
       "  OTRO_CASO TOMA_MUESTRA RESULTADO_LAB CLASIFICACION_FINAL MIGRANTE\n",
       "1  2        1            1             3                   99      \n",
       "2  2        1            1             3                   99      \n",
       "3 99        1            1             3                   99      \n",
       "4  1        1            1             3                   99      \n",
       "5  2        1            1             3                   99      \n",
       "6  2        1            1             3                   99      \n",
       "  PAIS_NACIONALIDAD PAIS_ORIGEN UCI\n",
       "1 MÃ©xico           97          97 \n",
       "2 MÃ©xico           97          97 \n",
       "3 MÃ©xico           97          97 \n",
       "4 MÃ©xico           97          97 \n",
       "5 MÃ©xico           97          97 \n",
       "6 MÃ©xico           97          97 "
      ]
     },
     "metadata": {},
     "output_type": "display_data"
    }
   ],
   "source": [
    "todos = df[df['RESULTADO_LAB'] < 3,]\n",
    "head(todos)"
   ]
  },
  {
   "cell_type": "code",
   "execution_count": 28,
   "metadata": {},
   "outputs": [
    {
     "data": {
      "image/png": "[encoded data removed]",
      "text/plain": [
       "Plot with title \"Histogram of Fecha de síntomas\""
      ]
     },
     "metadata": {
      "image/png": {
       "height": 420,
       "width": 420
      }
     },
     "output_type": "display_data"
    }
   ],
   "source": [
    "hist(todos$FECHA_SINTOMAS, breaks=\"months\", xlab=\"Fecha de síntomas\", ylab=\"Densidad\")"
   ]
  },
  {
   "cell_type": "code",
   "execution_count": 29,
   "metadata": {},
   "outputs": [
    {
     "data": {
      "text/plain": [
       "\n",
       "      1       2 \n",
       " 864696 1072760 "
      ]
     },
     "metadata": {},
     "output_type": "display_data"
    }
   ],
   "source": [
    "table(todos$RESULTADO_LAB)"
   ]
  },
  {
   "cell_type": "code",
   "execution_count": 32,
   "metadata": {},
   "outputs": [
    {
     "data": {
      "text/html": [
       "605287.2"
      ],
      "text/latex": [
       "605287.2"
      ],
      "text/markdown": [
       "605287.2"
      ],
      "text/plain": [
       "[1] 605287.2"
      ]
     },
     "metadata": {},
     "output_type": "display_data"
    }
   ],
   "source": [
    "# los verdaderos positivos\n",
    "0.7 * 864696"
   ]
  },
  {
   "cell_type": "code",
   "execution_count": 33,
   "metadata": {},
   "outputs": [
    {
     "data": {
      "text/html": [
       "259409"
      ],
      "text/latex": [
       "259409"
      ],
      "text/markdown": [
       "259409"
      ],
      "text/plain": [
       "[1] 259409"
      ]
     },
     "metadata": {},
     "output_type": "display_data"
    }
   ],
   "source": [
    "# los falsos positivos\n",
    "864696 - 605287"
   ]
  },
  {
   "cell_type": "code",
   "execution_count": 35,
   "metadata": {},
   "outputs": [
    {
     "data": {
      "text/html": [
       "750932"
      ],
      "text/latex": [
       "750932"
      ],
      "text/markdown": [
       "750932"
      ],
      "text/plain": [
       "[1] 750932"
      ]
     },
     "metadata": {},
     "output_type": "display_data"
    }
   ],
   "source": [
    "# verdaderos negativos\n",
    "0.7 * 1072760 "
   ]
  },
  {
   "cell_type": "code",
   "execution_count": 37,
   "metadata": {},
   "outputs": [
    {
     "data": {
      "text/html": [
       "321828"
      ],
      "text/latex": [
       "321828"
      ],
      "text/markdown": [
       "321828"
      ],
      "text/plain": [
       "[1] 321828"
      ]
     },
     "metadata": {},
     "output_type": "display_data"
    }
   ],
   "source": [
    "#falsos negativos\n",
    "1072760 - 750932"
   ]
  },
  {
   "cell_type": "code",
   "execution_count": 38,
   "metadata": {},
   "outputs": [
    {
     "data": {
      "text/html": [
       "927115"
      ],
      "text/latex": [
       "927115"
      ],
      "text/markdown": [
       "927115"
      ],
      "text/plain": [
       "[1] 927115"
      ]
     },
     "metadata": {},
     "output_type": "display_data"
    }
   ],
   "source": [
    "# estimado actualizado de positivos\n",
    "605287 + 321828"
   ]
  },
  {
   "cell_type": "code",
   "execution_count": 39,
   "metadata": {},
   "outputs": [
    {
     "data": {
      "text/html": [
       "1010341"
      ],
      "text/latex": [
       "1010341"
      ],
      "text/markdown": [
       "1010341"
      ],
      "text/plain": [
       "[1] 1010341"
      ]
     },
     "metadata": {},
     "output_type": "display_data"
    }
   ],
   "source": [
    "# estimado para negativos\n",
    "750932 + 259409"
   ]
  },
  {
   "cell_type": "code",
   "execution_count": 42,
   "metadata": {},
   "outputs": [
    {
     "data": {
      "text/html": [
       "1.07218606307882"
      ],
      "text/latex": [
       "1.07218606307882"
      ],
      "text/markdown": [
       "1.07218606307882"
      ],
      "text/plain": [
       "[1] 1.072186"
      ]
     },
     "metadata": {},
     "output_type": "display_data"
    }
   ],
   "source": [
    "# porcentaje de positivos\n",
    "927115 / 864696"
   ]
  },
  {
   "cell_type": "code",
   "execution_count": 43,
   "metadata": {},
   "outputs": [
    {
     "data": {
      "text/html": [
       "0.941814571758828"
      ],
      "text/latex": [
       "0.941814571758828"
      ],
      "text/markdown": [
       "0.941814571758828"
      ],
      "text/plain": [
       "[1] 0.9418146"
      ]
     },
     "metadata": {},
     "output_type": "display_data"
    }
   ],
   "source": [
    "# porcentaje de negativos\n",
    "1010341 / 1072760 "
   ]
  }
 ],
 "metadata": {
  "kernelspec": {
   "display_name": "R",
   "language": "R",
   "name": "ir"
  },
  "language_info": {
   "codemirror_mode": "r",
   "file_extension": ".r",
   "mimetype": "text/x-r-source",
   "name": "R",
   "pygments_lexer": "r",
   "version": "4.0.2"
  }
 },
 "nbformat": 4,
 "nbformat_minor": 4
}
