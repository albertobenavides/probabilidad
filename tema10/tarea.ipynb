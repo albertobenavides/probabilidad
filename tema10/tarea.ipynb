{
 "cells": [
  {
   "cell_type": "code",
   "execution_count": 46,
   "metadata": {},
   "outputs": [],
   "source": [
    "library(xtable)"
   ]
  },
  {
   "cell_type": "markdown",
   "metadata": {},
   "source": [
    "---"
   ]
  },
  {
   "cell_type": "code",
   "execution_count": 1,
   "metadata": {},
   "outputs": [],
   "source": [
    "df <- data.frame(numeric(), numeric(), numeric())\n",
    "for (i in 1:10000){\n",
    "    ganancias <- 0\n",
    "    for (j in 1:i){\n",
    "       ganancias <- ganancias -1 + 2 * sample(2:10, 1) %% 2\n",
    "    }\n",
    "    df[nrow(df) + 1,] <- c(i, ganancias, ganancias / i)\n",
    "}"
   ]
  },
  {
   "cell_type": "code",
   "execution_count": 22,
   "metadata": {},
   "outputs": [
    {
     "data": {
      "text/html": [
       "<strong>png:</strong> 2"
      ],
      "text/latex": [
       "\\textbf{png:} 2"
      ],
      "text/markdown": [
       "**png:** 2"
      ],
      "text/plain": [
       "png \n",
       "  2 "
      ]
     },
     "metadata": {},
     "output_type": "display_data"
    }
   ],
   "source": [
    "pdf(\"247_1.pdf\")\n",
    "plot(df[, 1], df[, 3], pch=20, xlab=\"Repeticiones\", ylab=\"Ganancia promedio\", cex.axis=1.4, cex.lab=1.4)\n",
    "abline(h=-1/9, col=\"red\", lwd=3)\n",
    "legend(5000, 0.9, legend=c(\"Valor esperado\"), col=c(\"red\"), lwd=c(1), cex=1.4)\n",
    "dev.off()"
   ]
  },
  {
   "cell_type": "markdown",
   "metadata": {},
   "source": [
    "----"
   ]
  },
  {
   "cell_type": "code",
   "execution_count": 1,
   "metadata": {},
   "outputs": [],
   "source": [
    "d1 <- c()\n",
    "d2 <- c()\n",
    "X <- c()\n",
    "Y <- c()\n",
    "XY <- c()\n",
    "for (i in 1:100000){\n",
    "    d1 <- c(d1, sample(1:6, 1))\n",
    "    d2 <- c(d2, sample(1:6, 1))\n",
    "    X <- c(X, d1[i] + d2[i])\n",
    "    Y <- c(Y, d1[i] - d2[i])\n",
    "    XY <- c(XY, X[i] * Y[i])\n",
    "}"
   ]
  },
  {
   "cell_type": "code",
   "execution_count": 2,
   "metadata": {},
   "outputs": [],
   "source": [
    "df = data.frame(d1, d2, X, Y, XY)"
   ]
  },
  {
   "cell_type": "code",
   "execution_count": 10,
   "metadata": {},
   "outputs": [],
   "source": [
    "s = df[sample(nrow(df), 5),]"
   ]
  },
  {
   "cell_type": "code",
   "execution_count": 11,
   "metadata": {},
   "outputs": [
    {
     "name": "stdout",
     "output_type": "stream",
     "text": [
      "% latex table generated in R 4.0.2 by xtable 1.8-4 package\n",
      "% Mon Nov 09 16:18:28 2020\n",
      "\\begin{table}[ht]\n",
      "\\centering\n",
      "\\begin{tabular}{rrrrrr}\n",
      "  \\hline\n",
      " & d1 & d2 & X & Y & XY \\\\ \n",
      "  \\hline\n",
      "17559 &   4 &   4 &   8 &   0 &   0 \\\\ \n",
      "  89759 &   3 &   6 &   9 &  -3 & -27 \\\\ \n",
      "  74313 &   2 &   1 &   3 &   1 &   3 \\\\ \n",
      "  91559 &   4 &   1 &   5 &   3 &  15 \\\\ \n",
      "  72739 &   5 &   1 &   6 &   4 &  24 \\\\ \n",
      "   \\hline\n",
      "\\end{tabular}\n",
      "\\end{table}\n"
     ]
    }
   ],
   "source": [
    "print(xtable(s), include.rownames = TRUE)"
   ]
  },
  {
   "cell_type": "code",
   "execution_count": 40,
   "metadata": {},
   "outputs": [
    {
     "data": {
      "text/html": [
       "<strong>png:</strong> 2"
      ],
      "text/latex": [
       "\\textbf{png:} 2"
      ],
      "text/markdown": [
       "**png:** 2"
      ],
      "text/plain": [
       "png \n",
       "  2 "
      ]
     },
     "metadata": {},
     "output_type": "display_data"
    },
    {
     "data": {
      "text/html": [
       "<strong>png:</strong> 2"
      ],
      "text/latex": [
       "\\textbf{png:} 2"
      ],
      "text/markdown": [
       "**png:** 2"
      ],
      "text/plain": [
       "png \n",
       "  2 "
      ]
     },
     "metadata": {},
     "output_type": "display_data"
    },
    {
     "data": {
      "text/html": [
       "<strong>png:</strong> 2"
      ],
      "text/latex": [
       "\\textbf{png:} 2"
      ],
      "text/markdown": [
       "**png:** 2"
      ],
      "text/plain": [
       "png \n",
       "  2 "
      ]
     },
     "metadata": {},
     "output_type": "display_data"
    }
   ],
   "source": [
    "pdf('247_6_X.pdf')\n",
    "barplot(table(df$X), xlab=\"X\", ylab=\"Frecuencia\", cex.lab=1.4, cex.axis=1.4, cex=1.4)\n",
    "dev.off()\n",
    "\n",
    "pdf('247_6_Y.pdf')\n",
    "barplot(table(df$Y), xlab=\"Y\", ylab=\"Frecuencia\", cex.lab=1.4, cex.axis=1.4, cex=1.4)\n",
    "dev.off()\n",
    "\n",
    "pdf('247_6_XY.pdf')\n",
    "barplot(table(df$XY), xlab=\"XY\", ylab=\"Frecuencia\", cex.lab=1.4, cex.axis=1.4, cex=1.4)\n",
    "dev.off()\n"
   ]
  },
  {
   "cell_type": "markdown",
   "metadata": {},
   "source": [
    "---"
   ]
  },
  {
   "cell_type": "code",
   "execution_count": 49,
   "metadata": {},
   "outputs": [
    {
     "data": {
      "text/html": [
       "<style>\n",
       ".list-inline {list-style: none; margin:0; padding: 0}\n",
       ".list-inline>li {display: inline-block}\n",
       ".list-inline>li:not(:last-child)::after {content: \"\\00b7\"; padding: 0 .5ex}\n",
       "</style>\n",
       "<ol class=list-inline><li>-1</li><li>-1</li><li>-1</li><li>1</li><li>1</li></ol>\n"
      ],
      "text/latex": [
       "\\begin{enumerate*}\n",
       "\\item -1\n",
       "\\item -1\n",
       "\\item -1\n",
       "\\item 1\n",
       "\\item 1\n",
       "\\end{enumerate*}\n"
      ],
      "text/markdown": [
       "1. -1\n",
       "2. -1\n",
       "3. -1\n",
       "4. 1\n",
       "5. 1\n",
       "\n",
       "\n"
      ],
      "text/plain": [
       "[1] -1 -1 -1  1  1"
      ]
     },
     "metadata": {},
     "output_type": "display_data"
    },
    {
     "data": {
      "text/html": [
       "<style>\n",
       ".list-inline {list-style: none; margin:0; padding: 0}\n",
       ".list-inline>li {display: inline-block}\n",
       ".list-inline>li:not(:last-child)::after {content: \"\\00b7\"; padding: 0 .5ex}\n",
       "</style>\n",
       "<ol class=list-inline><li>-1</li><li>-1</li><li>1</li><li>-1</li><li>1</li></ol>\n"
      ],
      "text/latex": [
       "\\begin{enumerate*}\n",
       "\\item -1\n",
       "\\item -1\n",
       "\\item 1\n",
       "\\item -1\n",
       "\\item 1\n",
       "\\end{enumerate*}\n"
      ],
      "text/markdown": [
       "1. -1\n",
       "2. -1\n",
       "3. 1\n",
       "4. -1\n",
       "5. 1\n",
       "\n",
       "\n"
      ],
      "text/plain": [
       "[1] -1 -1  1 -1  1"
      ]
     },
     "metadata": {},
     "output_type": "display_data"
    }
   ],
   "source": [
    "a = c(rep(-1, 3), rep(1, 2))\n",
    "a"
   ]
  },
  {
   "cell_type": "code",
   "execution_count": 38,
   "metadata": {},
   "outputs": [],
   "source": [
    "caja = c(rep(-1, 3), rep(1, 2))\n",
    "\n",
    "orden = c()\n",
    "ganancias = c()\n",
    "\n",
    "promedios = c()\n",
    "\n",
    "for (k in 1:10){\n",
    "    for (i in 1:10000){\n",
    "        muestra = sample(caja)\n",
    "        ganancia = 0\n",
    "        oro = 0\n",
    "        for (j in 1:length(caja)){\n",
    "            ganancia = ganancia + muestra[j]\n",
    "            if (ganancia == 1){\n",
    "                break\n",
    "            } else if (muestra[j] == 1){\n",
    "                oro = oro + 1\n",
    "                if (oro == 2){\n",
    "                    break\n",
    "                }\n",
    "            }\n",
    "        }\n",
    "        orden = c(orden, toString(caja))\n",
    "        ganancias = c(ganancias, ganancia)\n",
    "    }\n",
    "    promedios = c(promedios, mean(ganancias))\n",
    "}"
   ]
  },
  {
   "cell_type": "code",
   "execution_count": 55,
   "metadata": {},
   "outputs": [
    {
     "data": {
      "text/html": [
       "10"
      ],
      "text/latex": [
       "10"
      ],
      "text/markdown": [
       "10"
      ],
      "text/plain": [
       "[1] 10"
      ]
     },
     "metadata": {},
     "output_type": "display_data"
    },
    {
     "data": {
      "text/html": [
       "<strong>png:</strong> 2"
      ],
      "text/latex": [
       "\\textbf{png:} 2"
      ],
      "text/markdown": [
       "**png:** 2"
      ],
      "text/plain": [
       "png \n",
       "  2 "
      ]
     },
     "metadata": {},
     "output_type": "display_data"
    }
   ],
   "source": [
    "length(promedios)\n",
    "pdf('249_15.pdf')\n",
    "boxplot(promedios, cex.axis=1.4, cex.lab=1.4, ylab=\"Promedio de ganancias\")\n",
    "abline(h=1/5, col=\"red\", lwd=3)\n",
    "legend(1.02, 0.205, legend=c(\"Valor esperado\"), col=c(\"red\"), lwd=c(1), cex=1.4)\n",
    "dev.off()"
   ]
  },
  {
   "cell_type": "code",
   "execution_count": 47,
   "metadata": {},
   "outputs": [
    {
     "name": "stdout",
     "output_type": "stream",
     "text": [
      "% latex table generated in R 4.0.2 by xtable 1.8-4 package\n",
      "% Mon Nov 09 20:03:48 2020\n",
      "\\begin{table}[ht]\n",
      "\\centering\n",
      "\\begin{tabular}{rlr}\n",
      "  \\hline\n",
      " & orden & ganancias \\\\ \n",
      "  \\hline\n",
      "70391 & -1, -1, -1, 1, 1 & 1.00 \\\\ \n",
      "  40966 & -1, -1, -1, 1, 1 & -1.00 \\\\ \n",
      "  7286 & -1, -1, -1, 1, 1 & 1.00 \\\\ \n",
      "  93564 & -1, -1, -1, 1, 1 & 1.00 \\\\ \n",
      "  65944 & -1, -1, -1, 1, 1 & 1.00 \\\\ \n",
      "   \\hline\n",
      "\\end{tabular}\n",
      "\\end{table}\n"
     ]
    }
   ],
   "source": [
    "df = data.frame(orden, ganancias)\n",
    "s = df[sample(nrow(df), 5),]\n",
    "print(xtable(s), include.rownames = TRUE)"
   ]
  },
  {
   "cell_type": "markdown",
   "metadata": {},
   "source": [
    "---"
   ]
  },
  {
   "cell_type": "code",
   "execution_count": null,
   "metadata": {},
   "outputs": [],
   "source": [
    "mean(sample(0:5), 100000)"
   ]
  },
  {
   "cell_type": "markdown",
   "metadata": {},
   "source": [
    "---"
   ]
  },
  {
   "cell_type": "code",
   "execution_count": 1,
   "metadata": {},
   "outputs": [
    {
     "data": {
      "text/html": [
       "0.00628"
      ],
      "text/latex": [
       "0.00628"
      ],
      "text/markdown": [
       "0.00628"
      ],
      "text/plain": [
       "[1] 0.00628"
      ]
     },
     "metadata": {},
     "output_type": "display_data"
    }
   ],
   "source": [
    "mean(\n",
    "  unlist(\n",
    "    lapply(1:100000, \n",
    "      function(x) {\n",
    "        sum(\n",
    "          sample(c(-1, -1, -1, 3), \n",
    "            sample(1:4)\n",
    "          )\n",
    "        )\n",
    "      }\n",
    "    )\n",
    "  )\n",
    ")"
   ]
  },
  {
   "cell_type": "markdown",
   "metadata": {},
   "source": [
    "---"
   ]
  },
  {
   "cell_type": "code",
   "execution_count": 61,
   "metadata": {},
   "outputs": [
    {
     "data": {
      "text/html": [
       "4.33879"
      ],
      "text/latex": [
       "4.33879"
      ],
      "text/markdown": [
       "4.33879"
      ],
      "text/plain": [
       "[1] 4.33879"
      ]
     },
     "metadata": {},
     "output_type": "display_data"
    },
    {
     "data": {
      "text/html": [
       "2.21293346523465"
      ],
      "text/latex": [
       "2.21293346523465"
      ],
      "text/markdown": [
       "2.21293346523465"
      ],
      "text/plain": [
       "[1] 2.212933"
      ]
     },
     "metadata": {},
     "output_type": "display_data"
    },
    {
     "data": {
      "text/html": [
       "1.48759317867307"
      ],
      "text/latex": [
       "1.48759317867307"
      ],
      "text/markdown": [
       "1.48759317867307"
      ],
      "text/plain": [
       "[1] 1.487593"
      ]
     },
     "metadata": {},
     "output_type": "display_data"
    }
   ],
   "source": [
    "a = sample(1:6, prob=(1/21 * 1:6), 100000, replace = T)\n",
    "mean(a)\n",
    "var(a)\n",
    "sd(a)"
   ]
  },
  {
   "cell_type": "code",
   "execution_count": 62,
   "metadata": {},
   "outputs": [
    {
     "data": {
      "text/html": [
       "4.33333333333333"
      ],
      "text/latex": [
       "4.33333333333333"
      ],
      "text/markdown": [
       "4.33333333333333"
      ],
      "text/plain": [
       "[1] 4.333333"
      ]
     },
     "metadata": {},
     "output_type": "display_data"
    }
   ],
   "source": [
    "13/3"
   ]
  },
  {
   "cell_type": "markdown",
   "metadata": {},
   "source": [
    "---"
   ]
  },
  {
   "cell_type": "code",
   "execution_count": 110,
   "metadata": {},
   "outputs": [],
   "source": [
    "f <- function(x) 0.05^2 * x * exp(-0.05 * x)\n",
    "g <- function(x) x * f(x)\n",
    "h <- function(x) x^2 * f(x)"
   ]
  },
  {
   "cell_type": "code",
   "execution_count": 106,
   "metadata": {},
   "outputs": [
    {
     "data": {
      "text/html": [
       "39.9999999999927"
      ],
      "text/latex": [
       "39.9999999999927"
      ],
      "text/markdown": [
       "39.9999999999927"
      ],
      "text/plain": [
       "[1] 40"
      ]
     },
     "metadata": {},
     "output_type": "display_data"
    },
    {
     "data": {
      "text/html": [
       "2399.99999999775"
      ],
      "text/latex": [
       "2399.99999999775"
      ],
      "text/markdown": [
       "2399.99999999775"
      ],
      "text/plain": [
       "[1] 2400"
      ]
     },
     "metadata": {},
     "output_type": "display_data"
    }
   ],
   "source": [
    "E <- integrate(g, lower = 0, upper = Inf)$value\n",
    "E\n",
    "\n",
    "V <- integrate(h, lower = 0, upper = Inf)$value\n",
    "V"
   ]
  },
  {
   "cell_type": "code",
   "execution_count": 202,
   "metadata": {},
   "outputs": [
    {
     "data": {
      "text/html": [
       "<strong>png:</strong> 2"
      ],
      "text/latex": [
       "\\textbf{png:} 2"
      ],
      "text/markdown": [
       "**png:** 2"
      ],
      "text/plain": [
       "png \n",
       "  2 "
      ]
     },
     "metadata": {},
     "output_type": "display_data"
    }
   ],
   "source": [
    "a = runif(100000, 0, 150)\n",
    "p = f(a)\n",
    "pdf('278_3.pdf')\n",
    "hist(p, cex.axis = 1.2, cex.lab = 1.2, ylab = 'Frecuencia', xlab=\"Distribución de probabilidades\", main = NULL)\n",
    "dev.off()"
   ]
  },
  {
   "cell_type": "code",
   "execution_count": 182,
   "metadata": {},
   "outputs": [
    {
     "data": {
      "text/html": [
       "39.8002181954775"
      ],
      "text/latex": [
       "39.8002181954775"
      ],
      "text/markdown": [
       "39.8002181954775"
      ],
      "text/plain": [
       "[1] 39.80022"
      ]
     },
     "metadata": {},
     "output_type": "display_data"
    },
    {
     "data": {
      "text/html": [
       "801.738334987497"
      ],
      "text/latex": [
       "801.738334987497"
      ],
      "text/markdown": [
       "801.738334987497"
      ],
      "text/plain": [
       "[1] 801.7383"
      ]
     },
     "metadata": {},
     "output_type": "display_data"
    }
   ],
   "source": [
    "mean(sample(a, 100000, prob=p, replace=TRUE))\n",
    "var(sample(a, 100000, prob=p, replace=TRUE))"
   ]
  }
 ],
 "metadata": {
  "kernelspec": {
   "display_name": "R",
   "language": "R",
   "name": "ir"
  },
  "language_info": {
   "codemirror_mode": "r",
   "file_extension": ".r",
   "mimetype": "text/x-r-source",
   "name": "R",
   "pygments_lexer": "r",
   "version": "4.0.2"
  }
 },
 "nbformat": 4,
 "nbformat_minor": 4
}
