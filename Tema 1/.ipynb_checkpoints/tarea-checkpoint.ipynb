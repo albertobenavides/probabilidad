{
 "cells": [
  {
   "cell_type": "markdown",
   "metadata": {},
   "source": [
    "Los datos consisten en la cantidad de derechohabientes por estado en la república mexicana durante el año 2015. Fueron obtenidos de [aquí ](https://www.inegi.org.mx/app/tabulados/interactivos/?px=Derechohabiencia_02&bd=Derechohabiencia).\n",
    "\n",
    "Al archivo se le eliminan columnas y filas de datos que se escapan del interés de esta tarea.\n",
    "\n",
    "En primer lugar, se leen los datos."
   ]
  },
  {
   "cell_type": "code",
   "execution_count": 62,
   "metadata": {},
   "outputs": [],
   "source": [
    "require(gdata)\n",
    "df = read.xls(\"datos.xlsx\", sheet = 1)"
   ]
  },
  {
   "cell_type": "markdown",
   "metadata": {},
   "source": [
    "Se muestra un ejemplo de los datos obtenidos."
   ]
  },
  {
   "cell_type": "code",
   "execution_count": 63,
   "metadata": {},
   "outputs": [
    {
     "data": {
      "text/html": [
       "<table>\n",
       "<caption>A data.frame: 3 × 8</caption>\n",
       "<thead>\n",
       "\t<tr><th></th><th scope=col>lugar</th><th scope=col>cantidad</th><th scope=col>imss</th><th scope=col>issste</th><th scope=col>pemex</th><th scope=col>popular</th><th scope=col>privada</th><th scope=col>otras</th></tr>\n",
       "\t<tr><th></th><th scope=col>&lt;chr&gt;</th><th scope=col>&lt;int&gt;</th><th scope=col>&lt;int&gt;</th><th scope=col>&lt;int&gt;</th><th scope=col>&lt;int&gt;</th><th scope=col>&lt;int&gt;</th><th scope=col>&lt;int&gt;</th><th scope=col>&lt;int&gt;</th></tr>\n",
       "</thead>\n",
       "<tbody>\n",
       "\t<tr><th scope=row>27</th><td>Sonora </td><td>2440023</td><td>1352563</td><td>299291</td><td>18027</td><td> 734966</td><td>108834</td><td>23657</td></tr>\n",
       "\t<tr><th scope=row>11</th><td>Durango</td><td>1465781</td><td> 620648</td><td>182302</td><td> 9135</td><td> 672183</td><td> 21418</td><td> 9999</td></tr>\n",
       "\t<tr><th scope=row>21</th><td>Oaxaca </td><td>3216869</td><td> 468913</td><td>224850</td><td>47629</td><td>2520217</td><td> 22547</td><td>17744</td></tr>\n",
       "</tbody>\n",
       "</table>\n"
      ],
      "text/latex": [
       "A data.frame: 3 × 8\n",
       "\\begin{tabular}{r|llllllll}\n",
       "  & lugar & cantidad & imss & issste & pemex & popular & privada & otras\\\\\n",
       "  & <chr> & <int> & <int> & <int> & <int> & <int> & <int> & <int>\\\\\n",
       "\\hline\n",
       "\t27 & Sonora  & 2440023 & 1352563 & 299291 & 18027 &  734966 & 108834 & 23657\\\\\n",
       "\t11 & Durango & 1465781 &  620648 & 182302 &  9135 &  672183 &  21418 &  9999\\\\\n",
       "\t21 & Oaxaca  & 3216869 &  468913 & 224850 & 47629 & 2520217 &  22547 & 17744\\\\\n",
       "\\end{tabular}\n"
      ],
      "text/markdown": [
       "\n",
       "A data.frame: 3 × 8\n",
       "\n",
       "| <!--/--> | lugar &lt;chr&gt; | cantidad &lt;int&gt; | imss &lt;int&gt; | issste &lt;int&gt; | pemex &lt;int&gt; | popular &lt;int&gt; | privada &lt;int&gt; | otras &lt;int&gt; |\n",
       "|---|---|---|---|---|---|---|---|---|\n",
       "| 27 | Sonora  | 2440023 | 1352563 | 299291 | 18027 |  734966 | 108834 | 23657 |\n",
       "| 11 | Durango | 1465781 |  620648 | 182302 |  9135 |  672183 |  21418 |  9999 |\n",
       "| 21 | Oaxaca  | 3216869 |  468913 | 224850 | 47629 | 2520217 |  22547 | 17744 |\n",
       "\n"
      ],
      "text/plain": [
       "   lugar   cantidad imss    issste pemex popular privada otras\n",
       "27 Sonora  2440023  1352563 299291 18027  734966 108834  23657\n",
       "11 Durango 1465781   620648 182302  9135  672183  21418   9999\n",
       "21 Oaxaca  3216869   468913 224850 47629 2520217  22547  17744"
      ]
     },
     "metadata": {},
     "output_type": "display_data"
    }
   ],
   "source": [
    "s = sample(nrow(df), 3)\n",
    "\n",
    "df[s, ]"
   ]
  },
  {
   "cell_type": "markdown",
   "metadata": {},
   "source": [
    "Se pueden extraer las columnas con"
   ]
  },
  {
   "cell_type": "code",
   "execution_count": 64,
   "metadata": {},
   "outputs": [
    {
     "data": {
      "text/html": [
       "<style>\n",
       ".list-inline {list-style: none; margin:0; padding: 0}\n",
       ".list-inline>li {display: inline-block}\n",
       ".list-inline>li:not(:last-child)::after {content: \"\\00b7\"; padding: 0 .5ex}\n",
       "</style>\n",
       "<ol class=list-inline><li>'lugar'</li><li>'cantidad'</li><li>'imss'</li><li>'issste'</li><li>'pemex'</li><li>'popular'</li><li>'privada'</li><li>'otras'</li></ol>\n"
      ],
      "text/latex": [
       "\\begin{enumerate*}\n",
       "\\item 'lugar'\n",
       "\\item 'cantidad'\n",
       "\\item 'imss'\n",
       "\\item 'issste'\n",
       "\\item 'pemex'\n",
       "\\item 'popular'\n",
       "\\item 'privada'\n",
       "\\item 'otras'\n",
       "\\end{enumerate*}\n"
      ],
      "text/markdown": [
       "1. 'lugar'\n",
       "2. 'cantidad'\n",
       "3. 'imss'\n",
       "4. 'issste'\n",
       "5. 'pemex'\n",
       "6. 'popular'\n",
       "7. 'privada'\n",
       "8. 'otras'\n",
       "\n",
       "\n"
      ],
      "text/plain": [
       "[1] \"lugar\"    \"cantidad\" \"imss\"     \"issste\"   \"pemex\"    \"popular\"  \"privada\" \n",
       "[8] \"otras\"   "
      ]
     },
     "metadata": {},
     "output_type": "display_data"
    }
   ],
   "source": [
    "names(df)"
   ]
  },
  {
   "cell_type": "markdown",
   "metadata": {},
   "source": [
    "y la cantidad de filas y columnas con"
   ]
  },
  {
   "cell_type": "code",
   "execution_count": 65,
   "metadata": {},
   "outputs": [],
   "source": [
    "filas = nrow(df)\n",
    "cols = ncol(df)"
   ]
  },
  {
   "cell_type": "markdown",
   "metadata": {},
   "source": [
    "De estos datos, la primera muestra los totales de toda república mexicana."
   ]
  },
  {
   "cell_type": "code",
   "execution_count": 66,
   "metadata": {},
   "outputs": [
    {
     "data": {
      "text/html": [
       "<table>\n",
       "<caption>A data.frame: 1 × 8</caption>\n",
       "<thead>\n",
       "\t<tr><th></th><th scope=col>lugar</th><th scope=col>cantidad</th><th scope=col>imss</th><th scope=col>issste</th><th scope=col>pemex</th><th scope=col>popular</th><th scope=col>privada</th><th scope=col>otras</th></tr>\n",
       "\t<tr><th></th><th scope=col>&lt;chr&gt;</th><th scope=col>&lt;int&gt;</th><th scope=col>&lt;int&gt;</th><th scope=col>&lt;int&gt;</th><th scope=col>&lt;int&gt;</th><th scope=col>&lt;int&gt;</th><th scope=col>&lt;int&gt;</th><th scope=col>&lt;int&gt;</th></tr>\n",
       "</thead>\n",
       "<tbody>\n",
       "\t<tr><th scope=row>1</th><td>Estados Unidos Mexicanos</td><td>98224540</td><td>38488615</td><td>7568987</td><td>1129739</td><td>49018903</td><td>3210771</td><td>1522022</td></tr>\n",
       "</tbody>\n",
       "</table>\n"
      ],
      "text/latex": [
       "A data.frame: 1 × 8\n",
       "\\begin{tabular}{r|llllllll}\n",
       "  & lugar & cantidad & imss & issste & pemex & popular & privada & otras\\\\\n",
       "  & <chr> & <int> & <int> & <int> & <int> & <int> & <int> & <int>\\\\\n",
       "\\hline\n",
       "\t1 & Estados Unidos Mexicanos & 98224540 & 38488615 & 7568987 & 1129739 & 49018903 & 3210771 & 1522022\\\\\n",
       "\\end{tabular}\n"
      ],
      "text/markdown": [
       "\n",
       "A data.frame: 1 × 8\n",
       "\n",
       "| <!--/--> | lugar &lt;chr&gt; | cantidad &lt;int&gt; | imss &lt;int&gt; | issste &lt;int&gt; | pemex &lt;int&gt; | popular &lt;int&gt; | privada &lt;int&gt; | otras &lt;int&gt; |\n",
       "|---|---|---|---|---|---|---|---|---|\n",
       "| 1 | Estados Unidos Mexicanos | 98224540 | 38488615 | 7568987 | 1129739 | 49018903 | 3210771 | 1522022 |\n",
       "\n"
      ],
      "text/plain": [
       "  lugar                    cantidad imss     issste  pemex   popular  privada\n",
       "1 Estados Unidos Mexicanos 98224540 38488615 7568987 1129739 49018903 3210771\n",
       "  otras  \n",
       "1 1522022"
      ]
     },
     "metadata": {},
     "output_type": "display_data"
    }
   ],
   "source": [
    "df[1,]"
   ]
  },
  {
   "cell_type": "markdown",
   "metadata": {},
   "source": [
    "Interesa, primeramente, revisar si la suma por institución corresponde a la cantidad mostrada para el total del país. Para ello, primero se extraenlos datos de los estados."
   ]
  },
  {
   "cell_type": "code",
   "execution_count": 67,
   "metadata": {},
   "outputs": [
    {
     "data": {
      "text/html": [
       "<table>\n",
       "<caption>A data.frame: 1 × 8</caption>\n",
       "<thead>\n",
       "\t<tr><th></th><th scope=col>lugar</th><th scope=col>cantidad</th><th scope=col>imss</th><th scope=col>issste</th><th scope=col>pemex</th><th scope=col>popular</th><th scope=col>privada</th><th scope=col>otras</th></tr>\n",
       "\t<tr><th></th><th scope=col>&lt;chr&gt;</th><th scope=col>&lt;int&gt;</th><th scope=col>&lt;int&gt;</th><th scope=col>&lt;int&gt;</th><th scope=col>&lt;int&gt;</th><th scope=col>&lt;int&gt;</th><th scope=col>&lt;int&gt;</th><th scope=col>&lt;int&gt;</th></tr>\n",
       "</thead>\n",
       "<tbody>\n",
       "\t<tr><th scope=row>2</th><td>Aguascalientes</td><td>1140619</td><td>635381</td><td>89700</td><td>1889</td><td>425190</td><td>31167</td><td>3112</td></tr>\n",
       "</tbody>\n",
       "</table>\n"
      ],
      "text/latex": [
       "A data.frame: 1 × 8\n",
       "\\begin{tabular}{r|llllllll}\n",
       "  & lugar & cantidad & imss & issste & pemex & popular & privada & otras\\\\\n",
       "  & <chr> & <int> & <int> & <int> & <int> & <int> & <int> & <int>\\\\\n",
       "\\hline\n",
       "\t2 & Aguascalientes & 1140619 & 635381 & 89700 & 1889 & 425190 & 31167 & 3112\\\\\n",
       "\\end{tabular}\n"
      ],
      "text/markdown": [
       "\n",
       "A data.frame: 1 × 8\n",
       "\n",
       "| <!--/--> | lugar &lt;chr&gt; | cantidad &lt;int&gt; | imss &lt;int&gt; | issste &lt;int&gt; | pemex &lt;int&gt; | popular &lt;int&gt; | privada &lt;int&gt; | otras &lt;int&gt; |\n",
       "|---|---|---|---|---|---|---|---|---|\n",
       "| 2 | Aguascalientes | 1140619 | 635381 | 89700 | 1889 | 425190 | 31167 | 3112 |\n",
       "\n"
      ],
      "text/plain": [
       "  lugar          cantidad imss   issste pemex popular privada otras\n",
       "2 Aguascalientes 1140619  635381 89700  1889  425190  31167   3112 "
      ]
     },
     "metadata": {},
     "output_type": "display_data"
    }
   ],
   "source": [
    "indices_estados = seq(2,filas, 1)\n",
    "estados = df[indices_estados,]\n",
    "estados[1,]"
   ]
  },
  {
   "cell_type": "markdown",
   "metadata": {},
   "source": [
    "Se puede calcular la diferencia entre la suma de los registrados por cada estado respecto a los reportados para el país."
   ]
  },
  {
   "cell_type": "code",
   "execution_count": 68,
   "metadata": {},
   "outputs": [
    {
     "data": {
      "text/html": [
       "<style>\n",
       ".list-inline {list-style: none; margin:0; padding: 0}\n",
       ".list-inline>li {display: inline-block}\n",
       ".list-inline>li:not(:last-child)::after {content: \"\\00b7\"; padding: 0 .5ex}\n",
       "</style>\n",
       "<ol class=list-inline><li>'diferencia'</li><li>'0'</li><li>'0'</li><li>'0'</li><li>'0'</li><li>'0'</li><li>'0'</li><li>'0'</li></ol>\n"
      ],
      "text/latex": [
       "\\begin{enumerate*}\n",
       "\\item 'diferencia'\n",
       "\\item '0'\n",
       "\\item '0'\n",
       "\\item '0'\n",
       "\\item '0'\n",
       "\\item '0'\n",
       "\\item '0'\n",
       "\\item '0'\n",
       "\\end{enumerate*}\n"
      ],
      "text/markdown": [
       "1. 'diferencia'\n",
       "2. '0'\n",
       "3. '0'\n",
       "4. '0'\n",
       "5. '0'\n",
       "6. '0'\n",
       "7. '0'\n",
       "8. '0'\n",
       "\n",
       "\n"
      ],
      "text/plain": [
       "[1] \"diferencia\" \"0\"          \"0\"          \"0\"          \"0\"         \n",
       "[6] \"0\"          \"0\"          \"0\"         "
      ]
     },
     "metadata": {},
     "output_type": "display_data"
    }
   ],
   "source": [
    "instituciones = c('cantidad', 'imss','issste','pemex','popular','privada','otras')\n",
    "dif = c(\"diferencia\")\n",
    "for (i in instituciones){\n",
    "    t = df[1,i] - sum(estados[,i])\n",
    "    dif = append(dif, t)\n",
    "}\n",
    "dif"
   ]
  },
  {
   "cell_type": "markdown",
   "metadata": {},
   "source": [
    "Así se ve que la diferencia es de 0, por lo que se puede prescindir de la información de la república para analizar sólo los datos de los estados. Primero se verán los diagramas de cajas y bigotes por institución."
   ]
  },
  {
   "cell_type": "code",
   "execution_count": 73,
   "metadata": {},
   "outputs": [
    {
     "data": {
      "text/html": [
       "<strong>png:</strong> 2"
      ],
      "text/latex": [
       "\\textbf{png:} 2"
      ],
      "text/markdown": [
       "**png:** 2"
      ],
      "text/plain": [
       "png \n",
       "  2 "
      ]
     },
     "metadata": {},
     "output_type": "display_data"
    }
   ],
   "source": [
    "# http://www.sthda.com/english/wiki/creating-and-saving-graphs-r-base-graphs\n",
    "png(\"imgs/inst.png\")\n",
    "boxplot(estados[,3:8], xlab=\"Instituciones\", ylab=\"Afiliados\")\n",
    "dev.off()"
   ]
  },
  {
   "cell_type": "markdown",
   "metadata": {},
   "source": [
    "Esto mismo podría representarse en escala logarítmica para apreciar un poco mejor los diagramas:"
   ]
  },
  {
   "cell_type": "code",
   "execution_count": 74,
   "metadata": {},
   "outputs": [
    {
     "data": {
      "text/html": [
       "<strong>png:</strong> 2"
      ],
      "text/latex": [
       "\\textbf{png:} 2"
      ],
      "text/markdown": [
       "**png:** 2"
      ],
      "text/plain": [
       "png \n",
       "  2 "
      ]
     },
     "metadata": {},
     "output_type": "display_data"
    }
   ],
   "source": [
    "png(\"imgs/inst_log.png\")\n",
    "boxplot(log(estados[, 3:8]), xlab=\"Instituciones\", ylab=\"Log. de afiliados\")\n",
    "dev.off()"
   ]
  },
  {
   "cell_type": "code",
   "execution_count": 90,
   "metadata": {},
   "outputs": [
    {
     "data": {
      "text/html": [
       "<strong>png:</strong> 2"
      ],
      "text/latex": [
       "\\textbf{png:} 2"
      ],
      "text/markdown": [
       "**png:** 2"
      ],
      "text/plain": [
       "png \n",
       "  2 "
      ]
     },
     "metadata": {},
     "output_type": "display_data"
    }
   ],
   "source": [
    "# https://blog.revolutionanalytics.com/2015/09/resizing-plots-in-the-r-kernel-for-jupyter-notebooks.html\n",
    "library(repr)\n",
    "options(repr.plot.width=12, repr.plot.height=8)\n",
    "\n",
    "# https://stackoverflow.com/a/14872915/3113008\n",
    "png(\"imgs/estados.png\", width = 1200, height = 640, pointsize = 20)\n",
    "par(mgp = c(4, 0, 0))\n",
    "boxplot(t(estados[, 3:8]), names=estados[,1], las = 2, xlab=\"Estados\", ylab=\"Afiliados\")\n",
    "text(x = 1:length(estados[,1]),\n",
    "     y = estados[,1],\n",
    "     labels = names(dat),\n",
    "     xpd = NA,\n",
    "     ## Rotate the labels by 35 degrees.\n",
    "     srt = 35,\n",
    "     adj = 0.965,\n",
    "     cex = 1.2)\n",
    "dev.off()"
   ]
  },
  {
   "cell_type": "code",
   "execution_count": null,
   "metadata": {},
   "outputs": [],
   "source": []
  }
 ],
 "metadata": {
  "kernelspec": {
   "display_name": "R",
   "language": "R",
   "name": "ir"
  },
  "language_info": {
   "codemirror_mode": "r",
   "file_extension": ".r",
   "mimetype": "text/x-r-source",
   "name": "R",
   "pygments_lexer": "r",
   "version": "4.0.2"
  }
 },
 "nbformat": 4,
 "nbformat_minor": 4
}
