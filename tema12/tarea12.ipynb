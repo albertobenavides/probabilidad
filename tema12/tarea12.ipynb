{
 "cells": [
  {
   "cell_type": "markdown",
   "metadata": {},
   "source": [
    "Según lo que le he escrito a Gaby en Discord, esto puede funcionar:"
   ]
  },
  {
   "cell_type": "code",
   "execution_count": 93,
   "metadata": {},
   "outputs": [
    {
     "name": "stdout",
     "output_type": "stream",
     "text": [
      "generacion 1 ; h(z) =  0.5 \n",
      "generacion 2 ; h(z) =  0.6875 \n",
      "generacion 3 ; h(z) =  0.7900391 \n",
      "generacion 4 ; h(z) =  0.8535502 \n",
      "generacion 5 ; h(z) =  0.8955245 \n",
      "generacion 6 ; h(z) =  0.9243722 \n",
      "generacion 7 ; h(z) =  0.944709 \n",
      "generacion 8 ; h(z) =  0.959296 \n",
      "generacion 9 ; h(z) =  0.9698862 \n",
      "generacion 10 ; h(z) =  0.9776414 \n"
     ]
    }
   ],
   "source": [
    "# Estableces probabilidades\n",
    "probs <- c(1 / 2, 1 / 4, 1 / 4)\n",
    "# En el código que te mandé, puedes poner hasta 10 probabilidades; aquí es infinito, en caso de que eso tenga sentido, que no creo\n",
    "\n",
    "# Luego puedes calcular la probabilidad de que a las m generaciones desaparezca el apellido\n",
    "# Eso es equivalente al h(z) del libro, donde z es la probabilidad de que desaparezca en la generación anterior, o sea $d_{m - 1}$\n",
    "# Por eso se empieza con\n",
    "z <- 0 # o sea la probabilidad de que desaparezca en la generación 0 (un padre) es 0\n",
    "\n",
    "probs_n = length(probs) - 1 # Para luego iterar entre todas las probabilidades especificadas en probs\n",
    "# Luego haces este mugrero\n",
    "h <- function(probs, z){ # Metes las probabilidades junto con la de la generación anterior\n",
    "    sum <- 0 # Con esto calculas la probabilidad de que muera en esta generación (que más adelante llamaremos m)\n",
    "    for (i in 0:probs_n){ # Ese probs_n permite calcular tooooodas las probabilidades especificadas al inicio\n",
    "        if (i == 0){\n",
    "            sum = sum + probs[i + 1] # Los índices de R empiezan estúpidamente en 1 D:\n",
    "        } else {\n",
    "            sum = sum + probs[i + 1] * (z ** i) # Y esta operación es tal cual la del libro\n",
    "        }\n",
    "    }\n",
    "    return(sum)\n",
    "}\n",
    "\n",
    "# Por último, hacemos esa h(z) tantas generaciones como queramos e imprimimos el resultado de cada generación:\n",
    "ms <- 10 # O 100 o 1000 o las que quieras\n",
    "for (m in 1:ms){\n",
    "    z <- h(probs, z)\n",
    "    cat('generacion', m, '; h(z) = ', z, '\\n') # O display(...) no me acuerdo cómo se hace; esto lo estoy escribiendo directamente en Discord conforme lo voy entendiendo, jaja\n",
    "}"
   ]
  },
  {
   "cell_type": "markdown",
   "metadata": {},
   "source": [
    "En aras a tener un código más claro, se pueden separar estas cosas en células de Jupyter..."
   ]
  },
  {
   "cell_type": "code",
   "execution_count": 4,
   "metadata": {},
   "outputs": [],
   "source": [
    "h <- function(probs, z){\n",
    "    probs_n = length(probs) - 1\n",
    "    sum <- 0\n",
    "    for (i in 0:probs_n){\n",
    "        if (i == 0){\n",
    "            sum = sum + probs[i + 1]\n",
    "        } else {\n",
    "            sum = sum + probs[i + 1] * (z ** i)\n",
    "        }\n",
    "    }\n",
    "    return(sum)\n",
    "}"
   ]
  },
  {
   "cell_type": "code",
   "execution_count": null,
   "metadata": {},
   "outputs": [],
   "source": [
    "# probs <- c(1 / 2, 1 / 4, 1 / 4) # a)\n",
    "probs <- c(1 / 3, 1 / 3, 1 / 3) # b)\n",
    "# probs <- c(1 / 3, 0, 2 / 3) # c)\n",
    "z <- 0\n",
    "ms <- 100 # generaciones"
   ]
  },
  {
   "cell_type": "code",
   "execution_count": null,
   "metadata": {},
   "outputs": [],
   "source": [
    "for (m in 1:ms){\n",
    "    z <- h(probs, z)\n",
    "    cat('generacion', m, '; h(z) = ', z, '\\n')\n",
    "}"
   ]
  },
  {
   "cell_type": "markdown",
   "metadata": {},
   "source": [
    "Pero esto no sirve de nada si los primeros incisos se van a resolver analíticamente...\n",
    "\n",
    "Para el último:"
   ]
  },
  {
   "cell_type": "code",
   "execution_count": 20,
   "metadata": {},
   "outputs": [],
   "source": [
    "p = function(j){\n",
    "    return( (1/3) * (2/3)**j )\n",
    "}"
   ]
  },
  {
   "cell_type": "code",
   "execution_count": 13,
   "metadata": {},
   "outputs": [],
   "source": [
    "p = function(j){\n",
    "    return( exp(-2) * 2 ** j / factorial(j) )\n",
    "}"
   ]
  },
  {
   "cell_type": "code",
   "execution_count": 21,
   "metadata": {},
   "outputs": [
    {
     "data": {
      "text/html": [
       "0.5"
      ],
      "text/latex": [
       "0.5"
      ],
      "text/markdown": [
       "0.5"
      ],
      "text/plain": [
       "[1] 0.5"
      ]
     },
     "metadata": {},
     "output_type": "display_data"
    }
   ],
   "source": [
    "d = p(0)\n",
    "for (m in 1:1000){\n",
    "    sum = 0\n",
    "    for (j in 0:100){\n",
    "        sum = sum + p(j) * (d ** j)\n",
    "    }\n",
    "    d = sum\n",
    "    \n",
    "}\n",
    "d"
   ]
  },
  {
   "cell_type": "code",
   "execution_count": 24,
   "metadata": {},
   "outputs": [
    {
     "data": {
      "text/html": [
       "276.263311266598"
      ],
      "text/latex": [
       "276.263311266598"
      ],
      "text/markdown": [
       "276.263311266598"
      ],
      "text/plain": [
       "[1] 276.2633"
      ]
     },
     "metadata": {},
     "output_type": "display_data"
    }
   ],
   "source": [
    "50*(7/6 + (7/6)**12) - 100"
   ]
  }
 ],
 "metadata": {
  "kernelspec": {
   "display_name": "R",
   "language": "R",
   "name": "ir"
  },
  "language_info": {
   "codemirror_mode": "r",
   "file_extension": ".r",
   "mimetype": "text/x-r-source",
   "name": "R",
   "pygments_lexer": "r",
   "version": "4.0.2"
  }
 },
 "nbformat": 4,
 "nbformat_minor": 4
}
