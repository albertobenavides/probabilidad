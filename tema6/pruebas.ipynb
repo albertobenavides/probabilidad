{
 "cells": [
  {
   "cell_type": "markdown",
   "metadata": {},
   "source": [
    "Pruebas estadísticas"
   ]
  },
  {
   "cell_type": "code",
   "execution_count": 1,
   "metadata": {},
   "outputs": [],
   "source": [
    "norte = read.csv(\"norte.csv\")\n",
    "sur = read.csv(\"sur.csv\")\n",
    "norte = norte[1:5000, ]\n",
    "sur = sur[1:5000, ]"
   ]
  },
  {
   "cell_type": "code",
   "execution_count": 2,
   "metadata": {},
   "outputs": [],
   "source": [
    "norte$PM10 = as.numeric(norte$PM10)\n",
    "sur$PM10 = as.numeric(sur$PM10)\n",
    "norte_mu = mean(norte$PM10)\n",
    "sur_mu = mean(sur$PM10)"
   ]
  },
  {
   "cell_type": "code",
   "execution_count": 56,
   "metadata": {},
   "outputs": [],
   "source": [
    "# https://stackoverflow.com/q/8047668/3113008\n",
    "makeTransparent<-function(someColor, alpha=100){\n",
    "    newColor<-col2rgb(someColor)\n",
    "    apply(newColor, 2, function(curcoldata){rgb(red=curcoldata[1], green=curcoldata[2],\n",
    "    blue=curcoldata[3],alpha=alpha, maxColorValue=255)})\n",
    "}"
   ]
  },
  {
   "cell_type": "code",
   "execution_count": 57,
   "metadata": {},
   "outputs": [
    {
     "data": {
      "text/html": [
       "<strong>png:</strong> 2"
      ],
      "text/latex": [
       "\\textbf{png:} 2"
      ],
      "text/markdown": [
       "**png:** 2"
      ],
      "text/plain": [
       "png \n",
       "  2 "
      ]
     },
     "metadata": {},
     "output_type": "display_data"
    }
   ],
   "source": [
    "pdf(\"boxplots.pdf\")\n",
    "boxplot(norte$PM10, sur$PM10, names = c('Norte', 'Sur'), ylab=\"μg / m³\", ylim=c(30, 800))\n",
    "\n",
    "# https://stackoverflow.com/a/7237066/3113008\n",
    "rect(par(\"usr\")[1], -5, par(\"usr\")[2], 50, col = makeTransparent(\"green\"))\n",
    "rect(par(\"usr\")[1], 50, par(\"usr\")[2], 75, col = makeTransparent(\"yellow\"))\n",
    "rect(par(\"usr\")[1], 75, par(\"usr\")[2], 155, col = makeTransparent(\"orange\"))\n",
    "rect(par(\"usr\")[1], 155, par(\"usr\")[2], 235, col = makeTransparent(\"red\"))\n",
    "rect(par(\"usr\")[1], 235, par(\"usr\")[2], 850, col = makeTransparent(\"purple\"))\n",
    "legend(1.1, 750, legend=c('Súper mala', 'Muy mala', 'Mala', \"Aceptable\", \"Buena\"), cex=1.2, fill= c(\"purple\", \"red\", \"orange\", \"yellow\", \"green\"))\n",
    "dev.off()"
   ]
  },
  {
   "cell_type": "code",
   "execution_count": 104,
   "metadata": {},
   "outputs": [
    {
     "data": {
      "text/html": [
       "<strong>png:</strong> 2"
      ],
      "text/latex": [
       "\\textbf{png:} 2"
      ],
      "text/markdown": [
       "**png:** 2"
      ],
      "text/plain": [
       "png \n",
       "  2 "
      ]
     },
     "metadata": {},
     "output_type": "display_data"
    },
    {
     "data": {
      "text/html": [
       "<strong>png:</strong> 2"
      ],
      "text/latex": [
       "\\textbf{png:} 2"
      ],
      "text/markdown": [
       "**png:** 2"
      ],
      "text/plain": [
       "png \n",
       "  2 "
      ]
     },
     "metadata": {},
     "output_type": "display_data"
    }
   ],
   "source": [
    "pdf('norte_hist.pdf')\n",
    "hist(norte$PM10, xlab=\"μg / m³\", ylab=\"Frecuencia\", cex.lab=1.4, cex.axis=1.4)\n",
    "dev.off()\n",
    "\n",
    "pdf('sur_hist.pdf')\n",
    "hist(sur$PM10, xlab=\"μg / m³\", ylab=\"Frecuencia\", cex.lab=1.4, cex.axis=1.4)\n",
    "dev.off()"
   ]
  },
  {
   "cell_type": "code",
   "execution_count": 101,
   "metadata": {},
   "outputs": [
    {
     "data": {
      "image/png": "[encoded data removed]",
      "text/plain": [
       "Plot with title \"Histogram of rgeom(1000, 0.4)\""
      ]
     },
     "metadata": {
      "image/png": {
       "height": 420,
       "width": 420
      }
     },
     "output_type": "display_data"
    }
   ],
   "source": [
    "hist(rgeom(1000, 0.4))"
   ]
  },
  {
   "cell_type": "code",
   "execution_count": 67,
   "metadata": {},
   "outputs": [
    {
     "data": {
      "text/plain": [
       "\n",
       "\tShapiro-Wilk normality test\n",
       "\n",
       "data:  norte$PM10\n",
       "W = 0.85395, p-value < 2.2e-16\n"
      ]
     },
     "metadata": {},
     "output_type": "display_data"
    }
   ],
   "source": [
    "shapiro.test(norte$PM10)"
   ]
  },
  {
   "cell_type": "code",
   "execution_count": 94,
   "metadata": {},
   "outputs": [
    {
     "data": {
      "text/plain": [
       "\n",
       "\tShapiro-Wilk normality test\n",
       "\n",
       "data:  sur$PM10\n",
       "W = 0.74414, p-value < 2.2e-16\n"
      ]
     },
     "metadata": {},
     "output_type": "display_data"
    }
   ],
   "source": [
    "shapiro.test(sur$PM10)"
   ]
  },
  {
   "cell_type": "code",
   "execution_count": 158,
   "metadata": {},
   "outputs": [
    {
     "data": {
      "text/plain": [
       "\n",
       "\tWilcoxon signed rank test with continuity correction\n",
       "\n",
       "data:  norte$PM10\n",
       "V = 5283830, p-value = 9.868e-15\n",
       "alternative hypothesis: true location is not equal to 50\n",
       "95 percent confidence interval:\n",
       " 46.49998 47.99995\n",
       "sample estimates:\n",
       "(pseudo)median \n",
       "            47 \n"
      ]
     },
     "metadata": {},
     "output_type": "display_data"
    }
   ],
   "source": [
    "wilcox.test(norte$PM10, mu = 50, conf.int = TRUE)"
   ]
  },
  {
   "cell_type": "code",
   "execution_count": 155,
   "metadata": {},
   "outputs": [
    {
     "data": {
      "text/plain": [
       "\n",
       "\tWilcoxon signed rank test with continuity correction\n",
       "\n",
       "data:  sur$PM10\n",
       "V = 2541067, p-value < 2.2e-16\n",
       "alternative hypothesis: true location is not equal to 50\n",
       "95 percent confidence interval:\n",
       " 33.49993 34.50006\n",
       "sample estimates:\n",
       "(pseudo)median \n",
       "      33.99993 \n"
      ]
     },
     "metadata": {},
     "output_type": "display_data"
    }
   ],
   "source": [
    "wilcox.test(sur$PM10, mu = 50, conf.int = TRUE)"
   ]
  },
  {
   "cell_type": "code",
   "execution_count": 164,
   "metadata": {},
   "outputs": [
    {
     "data": {
      "text/plain": [
       "\n",
       "\tWilcoxon signed rank test with continuity correction\n",
       "\n",
       "data:  norte$PM10 and sur$PM10\n",
       "V = 8687650, p-value < 2.2e-16\n",
       "alternative hypothesis: true location shift is not equal to 0\n"
      ]
     },
     "metadata": {},
     "output_type": "display_data"
    }
   ],
   "source": [
    "wilcox.test(norte$PM10, sur$PM10, paired = TRUE)"
   ]
  },
  {
   "cell_type": "code",
   "execution_count": 168,
   "metadata": {},
   "outputs": [
    {
     "name": "stderr",
     "output_type": "stream",
     "text": [
      "Warning message in ks.test(norte$PM10, sur$PM10):\n",
      "\"p-value will be approximate in the presence of ties\"\n"
     ]
    },
    {
     "data": {
      "text/plain": [
       "\n",
       "\tTwo-sample Kolmogorov-Smirnov test\n",
       "\n",
       "data:  norte$PM10 and sur$PM10\n",
       "D = 0.2628, p-value < 2.2e-16\n",
       "alternative hypothesis: two-sided\n"
      ]
     },
     "metadata": {},
     "output_type": "display_data"
    }
   ],
   "source": [
    "ks.test(norte$PM10, sur$PM10)"
   ]
  },
  {
   "cell_type": "code",
   "execution_count": 172,
   "metadata": {},
   "outputs": [
    {
     "data": {
      "text/plain": [
       "\n",
       "\tF test to compare two variances\n",
       "\n",
       "data:  norte$PM10 and sur$PM10\n",
       "F = 1.0533, num df = 4999, denom df = 4999, p-value = 0.06665\n",
       "alternative hypothesis: true ratio of variances is not equal to 1\n",
       "95 percent confidence interval:\n",
       " 0.9964437 1.1133053\n",
       "sample estimates:\n",
       "ratio of variances \n",
       "          1.053255 \n"
      ]
     },
     "metadata": {},
     "output_type": "display_data"
    }
   ],
   "source": [
    "var.test(norte$PM10, sur$PM10)"
   ]
  },
  {
   "cell_type": "code",
   "execution_count": 174,
   "metadata": {},
   "outputs": [
    {
     "data": {
      "text/plain": [
       "\n",
       "\tPearson's product-moment correlation\n",
       "\n",
       "data:  norte$PM10 and sur$PM10\n",
       "t = 4.2701, df = 4998, p-value = 1.99e-05\n",
       "alternative hypothesis: true correlation is not equal to 0\n",
       "95 percent confidence interval:\n",
       " 0.03262590 0.08786313\n",
       "sample estimates:\n",
       "       cor \n",
       "0.06029067 \n"
      ]
     },
     "metadata": {},
     "output_type": "display_data"
    }
   ],
   "source": [
    "cor.test(norte$PM10, sur$PM10)"
   ]
  }
 ],
 "metadata": {
  "kernelspec": {
   "display_name": "R",
   "language": "R",
   "name": "ir"
  },
  "language_info": {
   "codemirror_mode": "r",
   "file_extension": ".r",
   "mimetype": "text/x-r-source",
   "name": "R",
   "pygments_lexer": "r",
   "version": "4.0.2"
  }
 },
 "nbformat": 4,
 "nbformat_minor": 4
}
