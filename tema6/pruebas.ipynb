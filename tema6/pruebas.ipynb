{
 "cells": [
  {
   "cell_type": "markdown",
   "metadata": {},
   "source": [
    "Pruebas estadísticas"
   ]
  },
  {
   "cell_type": "code",
   "execution_count": 1,
   "metadata": {},
   "outputs": [],
   "source": [
    "norte = read.csv(\"norte.csv\")\n",
    "sur = read.csv(\"sur.csv\")\n",
    "norte = norte[1:5000, ]\n",
    "sur = sur[1:5000, ]"
   ]
  },
  {
   "cell_type": "code",
   "execution_count": 3,
   "metadata": {},
   "outputs": [],
   "source": [
    "norte$PM10 = as.numeric(norte$PM10)\n",
    "sur$PM10 = as.numeric(sur$PM10)"
   ]
  },
  {
   "cell_type": "code",
   "execution_count": 56,
   "metadata": {},
   "outputs": [],
   "source": [
    "# https://stackoverflow.com/q/8047668/3113008\n",
    "makeTransparent<-function(someColor, alpha=100){\n",
    "    newColor<-col2rgb(someColor)\n",
    "    apply(newColor, 2, function(curcoldata){rgb(red=curcoldata[1], green=curcoldata[2],\n",
    "    blue=curcoldata[3],alpha=alpha, maxColorValue=255)})\n",
    "}"
   ]
  },
  {
   "cell_type": "code",
   "execution_count": 57,
   "metadata": {},
   "outputs": [
    {
     "data": {
      "text/html": [
       "<strong>png:</strong> 2"
      ],
      "text/latex": [
       "\\textbf{png:} 2"
      ],
      "text/markdown": [
       "**png:** 2"
      ],
      "text/plain": [
       "png \n",
       "  2 "
      ]
     },
     "metadata": {},
     "output_type": "display_data"
    }
   ],
   "source": [
    "pdf(\"boxplots.pdf\")\n",
    "boxplot(norte$PM10, sur$PM10, names = c('Norte', 'Sur'), ylab=\"μg / m³\", ylim=c(30, 800))\n",
    "\n",
    "# https://stackoverflow.com/a/7237066/3113008\n",
    "rect(par(\"usr\")[1], -5, par(\"usr\")[2], 50, col = makeTransparent(\"green\"))\n",
    "rect(par(\"usr\")[1], 50, par(\"usr\")[2], 75, col = makeTransparent(\"yellow\"))\n",
    "rect(par(\"usr\")[1], 75, par(\"usr\")[2], 155, col = makeTransparent(\"orange\"))\n",
    "rect(par(\"usr\")[1], 155, par(\"usr\")[2], 235, col = makeTransparent(\"red\"))\n",
    "rect(par(\"usr\")[1], 235, par(\"usr\")[2], 850, col = makeTransparent(\"purple\"))\n",
    "legend(1.1, 750, legend=c('Súper mala', 'Muy mala', 'Mala', \"Aceptable\", \"Buena\"), cex=1.2, fill= c(\"purple\", \"red\", \"orange\", \"yellow\", \"green\"))\n",
    "dev.off()"
   ]
  },
  {
   "cell_type": "code",
   "execution_count": 104,
   "metadata": {},
   "outputs": [
    {
     "data": {
      "text/html": [
       "<strong>png:</strong> 2"
      ],
      "text/latex": [
       "\\textbf{png:} 2"
      ],
      "text/markdown": [
       "**png:** 2"
      ],
      "text/plain": [
       "png \n",
       "  2 "
      ]
     },
     "metadata": {},
     "output_type": "display_data"
    },
    {
     "data": {
      "text/html": [
       "<strong>png:</strong> 2"
      ],
      "text/latex": [
       "\\textbf{png:} 2"
      ],
      "text/markdown": [
       "**png:** 2"
      ],
      "text/plain": [
       "png \n",
       "  2 "
      ]
     },
     "metadata": {},
     "output_type": "display_data"
    }
   ],
   "source": [
    "pdf('norte_hist.pdf')\n",
    "hist(norte$PM10, xlab=\"μg / m³\", ylab=\"Frecuencia\", cex.lab=1.4, cex.axis=1.4)\n",
    "dev.off()\n",
    "\n",
    "pdf('sur_hist.pdf')\n",
    "hist(sur$PM10, xlab=\"μg / m³\", ylab=\"Frecuencia\", cex.lab=1.4, cex.axis=1.4)\n",
    "dev.off()"
   ]
  },
  {
   "cell_type": "code",
   "execution_count": 101,
   "metadata": {},
   "outputs": [
    {
     "data": {
      "image/png": "[encoded data removed]",
      "text/plain": [
       "Plot with title \"Histogram of rgeom(1000, 0.4)\""
      ]
     },
     "metadata": {
      "image/png": {
       "height": 420,
       "width": 420
      }
     },
     "output_type": "display_data"
    }
   ],
   "source": [
    "hist(rgeom(1000, 0.4))"
   ]
  },
  {
   "cell_type": "code",
   "execution_count": 67,
   "metadata": {},
   "outputs": [
    {
     "data": {
      "text/plain": [
       "\n",
       "\tShapiro-Wilk normality test\n",
       "\n",
       "data:  norte$PM10\n",
       "W = 0.85395, p-value < 2.2e-16\n"
      ]
     },
     "metadata": {},
     "output_type": "display_data"
    }
   ],
   "source": [
    "shapiro.test(norte$PM10)"
   ]
  },
  {
   "cell_type": "code",
   "execution_count": 94,
   "metadata": {},
   "outputs": [
    {
     "data": {
      "text/plain": [
       "\n",
       "\tShapiro-Wilk normality test\n",
       "\n",
       "data:  sur$PM10\n",
       "W = 0.74414, p-value < 2.2e-16\n"
      ]
     },
     "metadata": {},
     "output_type": "display_data"
    }
   ],
   "source": [
    "shapiro.test(sur$PM10)"
   ]
  },
  {
   "cell_type": "code",
   "execution_count": 158,
   "metadata": {},
   "outputs": [
    {
     "data": {
      "text/plain": [
       "\n",
       "\tWilcoxon signed rank test with continuity correction\n",
       "\n",
       "data:  norte$PM10\n",
       "V = 5283830, p-value = 9.868e-15\n",
       "alternative hypothesis: true location is not equal to 50\n",
       "95 percent confidence interval:\n",
       " 46.49998 47.99995\n",
       "sample estimates:\n",
       "(pseudo)median \n",
       "            47 \n"
      ]
     },
     "metadata": {},
     "output_type": "display_data"
    }
   ],
   "source": [
    "wilcox.test(norte$PM10, mu = 50, conf.int = TRUE)"
   ]
  },
  {
   "cell_type": "code",
   "execution_count": 155,
   "metadata": {},
   "outputs": [
    {
     "data": {
      "text/plain": [
       "\n",
       "\tWilcoxon signed rank test with continuity correction\n",
       "\n",
       "data:  sur$PM10\n",
       "V = 2541067, p-value < 2.2e-16\n",
       "alternative hypothesis: true location is not equal to 50\n",
       "95 percent confidence interval:\n",
       " 33.49993 34.50006\n",
       "sample estimates:\n",
       "(pseudo)median \n",
       "      33.99993 \n"
      ]
     },
     "metadata": {},
     "output_type": "display_data"
    }
   ],
   "source": [
    "wilcox.test(sur$PM10, mu = 50, conf.int = TRUE)"
   ]
  },
  {
   "cell_type": "code",
   "execution_count": 164,
   "metadata": {},
   "outputs": [
    {
     "data": {
      "text/plain": [
       "\n",
       "\tWilcoxon signed rank test with continuity correction\n",
       "\n",
       "data:  norte$PM10 and sur$PM10\n",
       "V = 8687650, p-value < 2.2e-16\n",
       "alternative hypothesis: true location shift is not equal to 0\n"
      ]
     },
     "metadata": {},
     "output_type": "display_data"
    }
   ],
   "source": [
    "wilcox.test(norte$PM10, sur$PM10, paired = TRUE)"
   ]
  },
  {
   "cell_type": "code",
   "execution_count": 168,
   "metadata": {},
   "outputs": [
    {
     "name": "stderr",
     "output_type": "stream",
     "text": [
      "Warning message in ks.test(norte$PM10, sur$PM10):\n",
      "\"p-value will be approximate in the presence of ties\"\n"
     ]
    },
    {
     "data": {
      "text/plain": [
       "\n",
       "\tTwo-sample Kolmogorov-Smirnov test\n",
       "\n",
       "data:  norte$PM10 and sur$PM10\n",
       "D = 0.2628, p-value < 2.2e-16\n",
       "alternative hypothesis: two-sided\n"
      ]
     },
     "metadata": {},
     "output_type": "display_data"
    }
   ],
   "source": [
    "ks.test(norte$PM10, sur$PM10)"
   ]
  },
  {
   "cell_type": "code",
   "execution_count": 172,
   "metadata": {},
   "outputs": [
    {
     "data": {
      "text/plain": [
       "\n",
       "\tF test to compare two variances\n",
       "\n",
       "data:  norte$PM10 and sur$PM10\n",
       "F = 1.0533, num df = 4999, denom df = 4999, p-value = 0.06665\n",
       "alternative hypothesis: true ratio of variances is not equal to 1\n",
       "95 percent confidence interval:\n",
       " 0.9964437 1.1133053\n",
       "sample estimates:\n",
       "ratio of variances \n",
       "          1.053255 \n"
      ]
     },
     "metadata": {},
     "output_type": "display_data"
    }
   ],
   "source": [
    "var.test(norte$PM10, sur$PM10)"
   ]
  },
  {
   "cell_type": "code",
   "execution_count": 25,
   "metadata": {},
   "outputs": [
    {
     "data": {
      "text/plain": [
       "\n",
       "\tPearson's product-moment correlation\n",
       "\n",
       "data:  log(norte$PM10) and log(sur$PM10)\n",
       "t = 4.6531, df = 4998, p-value = 3.354e-06\n",
       "alternative hypothesis: true correlation is not equal to 0\n",
       "95 percent confidence interval:\n",
       " 0.03802607 0.09322572\n",
       "sample estimates:\n",
       "       cor \n",
       "0.06567614 \n"
      ]
     },
     "metadata": {},
     "output_type": "display_data"
    }
   ],
   "source": [
    "cor.test(norte$PM10, sur$PM10)"
   ]
  },
  {
   "cell_type": "code",
   "execution_count": 52,
   "metadata": {},
   "outputs": [
    {
     "data": {
      "text/html": [
       "<strong>png:</strong> 2"
      ],
      "text/latex": [
       "\\textbf{png:} 2"
      ],
      "text/markdown": [
       "**png:** 2"
      ],
      "text/plain": [
       "png \n",
       "  2 "
      ]
     },
     "metadata": {},
     "output_type": "display_data"
    }
   ],
   "source": [
    "pdf(\"scatter.pdf\")\n",
    "plot(log(norte$PM10), log(sur$PM10), pch=19, xlab=\"Log. valores E. Norte\", ylab=\"Log. valores E. Sur\", cex.lab=1.2, cex.axis=1.2)\n",
    "abline(lm(log(norte$PM10)~log(sur$PM10)), col=\"red\") # regression line (y~x)\n",
    "legend(4.5, 6.5, legend=c('Correlación'), cex=1.2, fill= c(\"red\"))\n",
    "dev.off()"
   ]
  },
  {
   "cell_type": "code",
   "execution_count": 9,
   "metadata": {},
   "outputs": [],
   "source": [
    "library(corrplot)"
   ]
  },
  {
   "cell_type": "code",
   "execution_count": 10,
   "metadata": {},
   "outputs": [
    {
     "data": {
      "text/html": [
       "<table>\n",
       "<caption>A data.frame: 5000 × 2</caption>\n",
       "<thead>\n",
       "\t<tr><th scope=col>norte.PM10</th><th scope=col>sur.PM10</th></tr>\n",
       "\t<tr><th scope=col>&lt;dbl&gt;</th><th scope=col>&lt;dbl&gt;</th></tr>\n",
       "</thead>\n",
       "<tbody>\n",
       "\t<tr><td>12</td><td>16</td></tr>\n",
       "\t<tr><td>17</td><td> 8</td></tr>\n",
       "\t<tr><td> 8</td><td>24</td></tr>\n",
       "\t<tr><td> 6</td><td> 8</td></tr>\n",
       "\t<tr><td> 6</td><td> 9</td></tr>\n",
       "\t<tr><td> 6</td><td> 8</td></tr>\n",
       "\t<tr><td> 5</td><td> 7</td></tr>\n",
       "\t<tr><td> 6</td><td> 9</td></tr>\n",
       "\t<tr><td> 9</td><td> 6</td></tr>\n",
       "\t<tr><td>15</td><td> 5</td></tr>\n",
       "\t<tr><td>13</td><td>23</td></tr>\n",
       "\t<tr><td>13</td><td>29</td></tr>\n",
       "\t<tr><td> 8</td><td>45</td></tr>\n",
       "\t<tr><td>10</td><td>53</td></tr>\n",
       "\t<tr><td> 6</td><td>52</td></tr>\n",
       "\t<tr><td> 5</td><td>51</td></tr>\n",
       "\t<tr><td> 6</td><td>39</td></tr>\n",
       "\t<tr><td> 9</td><td>12</td></tr>\n",
       "\t<tr><td> 6</td><td> 6</td></tr>\n",
       "\t<tr><td> 6</td><td> 5</td></tr>\n",
       "\t<tr><td>12</td><td>11</td></tr>\n",
       "\t<tr><td>16</td><td>16</td></tr>\n",
       "\t<tr><td>21</td><td>15</td></tr>\n",
       "\t<tr><td>27</td><td>19</td></tr>\n",
       "\t<tr><td>29</td><td>24</td></tr>\n",
       "\t<tr><td>27</td><td>28</td></tr>\n",
       "\t<tr><td>22</td><td>55</td></tr>\n",
       "\t<tr><td>17</td><td>66</td></tr>\n",
       "\t<tr><td> 9</td><td>70</td></tr>\n",
       "\t<tr><td> 5</td><td>71</td></tr>\n",
       "\t<tr><td>...</td><td>...</td></tr>\n",
       "\t<tr><td>18</td><td>14</td></tr>\n",
       "\t<tr><td>20</td><td>16</td></tr>\n",
       "\t<tr><td>23</td><td>14</td></tr>\n",
       "\t<tr><td>29</td><td>13</td></tr>\n",
       "\t<tr><td>27</td><td>14</td></tr>\n",
       "\t<tr><td>26</td><td>23</td></tr>\n",
       "\t<tr><td>25</td><td>57</td></tr>\n",
       "\t<tr><td>39</td><td>65</td></tr>\n",
       "\t<tr><td>35</td><td>69</td></tr>\n",
       "\t<tr><td>24</td><td>69</td></tr>\n",
       "\t<tr><td>26</td><td>63</td></tr>\n",
       "\t<tr><td>23</td><td>60</td></tr>\n",
       "\t<tr><td>27</td><td>56</td></tr>\n",
       "\t<tr><td>28</td><td>36</td></tr>\n",
       "\t<tr><td>26</td><td>34</td></tr>\n",
       "\t<tr><td>15</td><td>79</td></tr>\n",
       "\t<tr><td>32</td><td>65</td></tr>\n",
       "\t<tr><td>40</td><td>57</td></tr>\n",
       "\t<tr><td>43</td><td>38</td></tr>\n",
       "\t<tr><td>31</td><td>24</td></tr>\n",
       "\t<tr><td>35</td><td>20</td></tr>\n",
       "\t<tr><td>24</td><td>15</td></tr>\n",
       "\t<tr><td>12</td><td>21</td></tr>\n",
       "\t<tr><td>34</td><td>25</td></tr>\n",
       "\t<tr><td>22</td><td>17</td></tr>\n",
       "\t<tr><td>29</td><td> 9</td></tr>\n",
       "\t<tr><td>34</td><td>16</td></tr>\n",
       "\t<tr><td>33</td><td>16</td></tr>\n",
       "\t<tr><td>38</td><td>28</td></tr>\n",
       "\t<tr><td>47</td><td>16</td></tr>\n",
       "</tbody>\n",
       "</table>\n"
      ],
      "text/latex": [
       "A data.frame: 5000 × 2\n",
       "\\begin{tabular}{ll}\n",
       " norte.PM10 & sur.PM10\\\\\n",
       " <dbl> & <dbl>\\\\\n",
       "\\hline\n",
       "\t 12 & 16\\\\\n",
       "\t 17 &  8\\\\\n",
       "\t  8 & 24\\\\\n",
       "\t  6 &  8\\\\\n",
       "\t  6 &  9\\\\\n",
       "\t  6 &  8\\\\\n",
       "\t  5 &  7\\\\\n",
       "\t  6 &  9\\\\\n",
       "\t  9 &  6\\\\\n",
       "\t 15 &  5\\\\\n",
       "\t 13 & 23\\\\\n",
       "\t 13 & 29\\\\\n",
       "\t  8 & 45\\\\\n",
       "\t 10 & 53\\\\\n",
       "\t  6 & 52\\\\\n",
       "\t  5 & 51\\\\\n",
       "\t  6 & 39\\\\\n",
       "\t  9 & 12\\\\\n",
       "\t  6 &  6\\\\\n",
       "\t  6 &  5\\\\\n",
       "\t 12 & 11\\\\\n",
       "\t 16 & 16\\\\\n",
       "\t 21 & 15\\\\\n",
       "\t 27 & 19\\\\\n",
       "\t 29 & 24\\\\\n",
       "\t 27 & 28\\\\\n",
       "\t 22 & 55\\\\\n",
       "\t 17 & 66\\\\\n",
       "\t  9 & 70\\\\\n",
       "\t  5 & 71\\\\\n",
       "\t ... & ...\\\\\n",
       "\t 18 & 14\\\\\n",
       "\t 20 & 16\\\\\n",
       "\t 23 & 14\\\\\n",
       "\t 29 & 13\\\\\n",
       "\t 27 & 14\\\\\n",
       "\t 26 & 23\\\\\n",
       "\t 25 & 57\\\\\n",
       "\t 39 & 65\\\\\n",
       "\t 35 & 69\\\\\n",
       "\t 24 & 69\\\\\n",
       "\t 26 & 63\\\\\n",
       "\t 23 & 60\\\\\n",
       "\t 27 & 56\\\\\n",
       "\t 28 & 36\\\\\n",
       "\t 26 & 34\\\\\n",
       "\t 15 & 79\\\\\n",
       "\t 32 & 65\\\\\n",
       "\t 40 & 57\\\\\n",
       "\t 43 & 38\\\\\n",
       "\t 31 & 24\\\\\n",
       "\t 35 & 20\\\\\n",
       "\t 24 & 15\\\\\n",
       "\t 12 & 21\\\\\n",
       "\t 34 & 25\\\\\n",
       "\t 22 & 17\\\\\n",
       "\t 29 &  9\\\\\n",
       "\t 34 & 16\\\\\n",
       "\t 33 & 16\\\\\n",
       "\t 38 & 28\\\\\n",
       "\t 47 & 16\\\\\n",
       "\\end{tabular}\n"
      ],
      "text/markdown": [
       "\n",
       "A data.frame: 5000 × 2\n",
       "\n",
       "| norte.PM10 &lt;dbl&gt; | sur.PM10 &lt;dbl&gt; |\n",
       "|---|---|\n",
       "| 12 | 16 |\n",
       "| 17 |  8 |\n",
       "|  8 | 24 |\n",
       "|  6 |  8 |\n",
       "|  6 |  9 |\n",
       "|  6 |  8 |\n",
       "|  5 |  7 |\n",
       "|  6 |  9 |\n",
       "|  9 |  6 |\n",
       "| 15 |  5 |\n",
       "| 13 | 23 |\n",
       "| 13 | 29 |\n",
       "|  8 | 45 |\n",
       "| 10 | 53 |\n",
       "|  6 | 52 |\n",
       "|  5 | 51 |\n",
       "|  6 | 39 |\n",
       "|  9 | 12 |\n",
       "|  6 |  6 |\n",
       "|  6 |  5 |\n",
       "| 12 | 11 |\n",
       "| 16 | 16 |\n",
       "| 21 | 15 |\n",
       "| 27 | 19 |\n",
       "| 29 | 24 |\n",
       "| 27 | 28 |\n",
       "| 22 | 55 |\n",
       "| 17 | 66 |\n",
       "|  9 | 70 |\n",
       "|  5 | 71 |\n",
       "| ... | ... |\n",
       "| 18 | 14 |\n",
       "| 20 | 16 |\n",
       "| 23 | 14 |\n",
       "| 29 | 13 |\n",
       "| 27 | 14 |\n",
       "| 26 | 23 |\n",
       "| 25 | 57 |\n",
       "| 39 | 65 |\n",
       "| 35 | 69 |\n",
       "| 24 | 69 |\n",
       "| 26 | 63 |\n",
       "| 23 | 60 |\n",
       "| 27 | 56 |\n",
       "| 28 | 36 |\n",
       "| 26 | 34 |\n",
       "| 15 | 79 |\n",
       "| 32 | 65 |\n",
       "| 40 | 57 |\n",
       "| 43 | 38 |\n",
       "| 31 | 24 |\n",
       "| 35 | 20 |\n",
       "| 24 | 15 |\n",
       "| 12 | 21 |\n",
       "| 34 | 25 |\n",
       "| 22 | 17 |\n",
       "| 29 |  9 |\n",
       "| 34 | 16 |\n",
       "| 33 | 16 |\n",
       "| 38 | 28 |\n",
       "| 47 | 16 |\n",
       "\n"
      ],
      "text/plain": [
       "     norte.PM10 sur.PM10\n",
       "1    12         16      \n",
       "2    17          8      \n",
       "3     8         24      \n",
       "4     6          8      \n",
       "5     6          9      \n",
       "6     6          8      \n",
       "7     5          7      \n",
       "8     6          9      \n",
       "9     9          6      \n",
       "10   15          5      \n",
       "11   13         23      \n",
       "12   13         29      \n",
       "13    8         45      \n",
       "14   10         53      \n",
       "15    6         52      \n",
       "16    5         51      \n",
       "17    6         39      \n",
       "18    9         12      \n",
       "19    6          6      \n",
       "20    6          5      \n",
       "21   12         11      \n",
       "22   16         16      \n",
       "23   21         15      \n",
       "24   27         19      \n",
       "25   29         24      \n",
       "26   27         28      \n",
       "27   22         55      \n",
       "28   17         66      \n",
       "29    9         70      \n",
       "30    5         71      \n",
       "...  ...        ...     \n",
       "4971 18         14      \n",
       "4972 20         16      \n",
       "4973 23         14      \n",
       "4974 29         13      \n",
       "4975 27         14      \n",
       "4976 26         23      \n",
       "4977 25         57      \n",
       "4978 39         65      \n",
       "4979 35         69      \n",
       "4980 24         69      \n",
       "4981 26         63      \n",
       "4982 23         60      \n",
       "4983 27         56      \n",
       "4984 28         36      \n",
       "4985 26         34      \n",
       "4986 15         79      \n",
       "4987 32         65      \n",
       "4988 40         57      \n",
       "4989 43         38      \n",
       "4990 31         24      \n",
       "4991 35         20      \n",
       "4992 24         15      \n",
       "4993 12         21      \n",
       "4994 34         25      \n",
       "4995 22         17      \n",
       "4996 29          9      \n",
       "4997 34         16      \n",
       "4998 33         16      \n",
       "4999 38         28      \n",
       "5000 47         16      "
      ]
     },
     "metadata": {},
     "output_type": "display_data"
    }
   ],
   "source": [
    "t = data.frame(norte$PM10, sur$PM10)\n",
    "t"
   ]
  },
  {
   "cell_type": "code",
   "execution_count": 18,
   "metadata": {},
   "outputs": [
    {
     "data": {
      "text/html": [
       "<table>\n",
       "<caption>A matrix: 2 × 2 of type dbl</caption>\n",
       "<thead>\n",
       "\t<tr><th></th><th scope=col>norte.PM10</th><th scope=col>sur.PM10</th></tr>\n",
       "</thead>\n",
       "<tbody>\n",
       "\t<tr><th scope=row>norte.PM10</th><td>1.00000000</td><td>0.06029067</td></tr>\n",
       "\t<tr><th scope=row>sur.PM10</th><td>0.06029067</td><td>1.00000000</td></tr>\n",
       "</tbody>\n",
       "</table>\n"
      ],
      "text/latex": [
       "A matrix: 2 × 2 of type dbl\n",
       "\\begin{tabular}{r|ll}\n",
       "  & norte.PM10 & sur.PM10\\\\\n",
       "\\hline\n",
       "\tnorte.PM10 & 1.00000000 & 0.06029067\\\\\n",
       "\tsur.PM10 & 0.06029067 & 1.00000000\\\\\n",
       "\\end{tabular}\n"
      ],
      "text/markdown": [
       "\n",
       "A matrix: 2 × 2 of type dbl\n",
       "\n",
       "| <!--/--> | norte.PM10 | sur.PM10 |\n",
       "|---|---|---|\n",
       "| norte.PM10 | 1.00000000 | 0.06029067 |\n",
       "| sur.PM10 | 0.06029067 | 1.00000000 |\n",
       "\n"
      ],
      "text/plain": [
       "           norte.PM10 sur.PM10  \n",
       "norte.PM10 1.00000000 0.06029067\n",
       "sur.PM10   0.06029067 1.00000000"
      ]
     },
     "metadata": {},
     "output_type": "display_data"
    }
   ],
   "source": [
    "cor(t)"
   ]
  }
 ],
 "metadata": {
  "kernelspec": {
   "display_name": "R",
   "language": "R",
   "name": "ir"
  },
  "language_info": {
   "codemirror_mode": "r",
   "file_extension": ".r",
   "mimetype": "text/x-r-source",
   "name": "R",
   "pygments_lexer": "r",
   "version": "4.0.2"
  }
 },
 "nbformat": 4,
 "nbformat_minor": 4
}
