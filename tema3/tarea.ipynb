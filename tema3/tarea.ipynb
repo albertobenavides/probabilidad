{
 "cells": [
  {
   "cell_type": "markdown",
   "metadata": {},
   "source": [
    "# Frecuencia por oración en *Dracula* de Bram Stocker\n",
    "## Alberto Benavides"
   ]
  },
  {
   "cell_type": "markdown",
   "metadata": {},
   "source": [
    "Un análisis estadístico básico de un libro consiste en analizar la frecuencia con que aparecen las palabras con que está escrito. Una guía bastante completa para lograrlo en R puede consultarse [aquí](https://compsocialscience.github.io/summer-institute/2018/materials/day3-text-analysis/basic-text-analysis/rmarkdown/Basic_Text_Analysis_in_R.html).\n",
    "\n",
    "El libro de *Dracula* se encuentra disponible de manera gratuita en el sitio de [Project Gutemberg](https://www.gutenberg.org/) que alberga libros cuya propiedad intelectual ha caducado y, por lo tanto, se trata de obras que forman parte del dominio público. Se puede acceder a los textos planos de estas obras mediante la librería [`gutembergr`](https://cran.r-project.org/web/packages/gutenbergr/vignettes/intro.html) de R y la descomposición en palabras de la obra se facilita con el uso de [`tidytext`](https://cran.r-project.org/web/packages/tidytext/index.html) que, a su vez, utiliza para su funcionamiento la librería [`dplyr`](https://www.rdocumentation.org/packages/dplyr/versions/0.7.8)."
   ]
  },
  {
   "cell_type": "code",
   "execution_count": 38,
   "metadata": {},
   "outputs": [],
   "source": [
    "suppressWarnings({\n",
    "    if (!require('gutenbergr')) install.packages('gutenbergr'); library('gutenbergr')\n",
    "    if (!require('tidytext')) install.packages('tidytext'); library('tidytext')\n",
    "    if (!require('dplyr')) install.packages('dplyr'); library('dplyr')\n",
    "    if (!require('igraph')) install.packages('igraph'); library('igraph')\n",
    "    if (!require('corpus')) install.packages('corpus'); library('corpus')\n",
    "    if (!require('stringr')) install.packages('stringr'); library('stringr')\n",
    "})"
   ]
  },
  {
   "cell_type": "code",
   "execution_count": 3,
   "metadata": {},
   "outputs": [],
   "source": [
    "# https://github.com/IRkernel/IRkernel/issues/470#issuecomment-296786927\n",
    "# Muestra más filas y columnas en Jupyter R\n",
    "options(repr.matrix.max.rows=10, repr.matrix.max.cols=20)"
   ]
  },
  {
   "cell_type": "code",
   "execution_count": 4,
   "metadata": {},
   "outputs": [
    {
     "name": "stderr",
     "output_type": "stream",
     "text": [
      "Determining mirror for Project Gutenberg from http://www.gutenberg.org/robot/harvest\n",
      "\n",
      "Using mirror http://aleph.gutenberg.org\n",
      "\n"
     ]
    }
   ],
   "source": [
    "dra = gutenberg_download(c(345))\n",
    "fra = gutenberg_download(c(42324))"
   ]
  },
  {
   "cell_type": "code",
   "execution_count": 5,
   "metadata": {},
   "outputs": [
    {
     "data": {
      "text/html": [
       "<table>\n",
       "<caption>A tibble: 6 × 2</caption>\n",
       "<thead>\n",
       "\t<tr><th scope=col>gutenberg_id</th><th scope=col>text</th></tr>\n",
       "\t<tr><th scope=col>&lt;int&gt;</th><th scope=col>&lt;chr&gt;</th></tr>\n",
       "</thead>\n",
       "<tbody>\n",
       "\t<tr><td>345</td><td><span style=white-space:pre-wrap>They lay in a sort of or-orderly=&gt; They lay in a sort of orderly {pg  </span></td></tr>\n",
       "\t<tr><td>345</td><td>279}                                                                  </td></tr>\n",
       "\t<tr><td>345</td><td>                                                                      </td></tr>\n",
       "\t<tr><td>345</td><td><span style=white-space:pre-wrap>Translyvania=&gt; Transylvania {pg 294}                                  </span></td></tr>\n",
       "\t<tr><td>345</td><td>                                                                      </td></tr>\n",
       "\t<tr><td>345</td><td>this mrrning from Dardanelles=&gt; this morning from Dardanelles {pg 313}</td></tr>\n",
       "</tbody>\n",
       "</table>\n"
      ],
      "text/latex": [
       "A tibble: 6 × 2\n",
       "\\begin{tabular}{ll}\n",
       " gutenberg\\_id & text\\\\\n",
       " <int> & <chr>\\\\\n",
       "\\hline\n",
       "\t 345 & They lay in a sort of or-orderly=> They lay in a sort of orderly \\{pg  \\\\\n",
       "\t 345 & 279\\}                                                                  \\\\\n",
       "\t 345 &                                                                       \\\\\n",
       "\t 345 & Translyvania=> Transylvania \\{pg 294\\}                                  \\\\\n",
       "\t 345 &                                                                       \\\\\n",
       "\t 345 & this mrrning from Dardanelles=> this morning from Dardanelles \\{pg 313\\}\\\\\n",
       "\\end{tabular}\n"
      ],
      "text/markdown": [
       "\n",
       "A tibble: 6 × 2\n",
       "\n",
       "| gutenberg_id &lt;int&gt; | text &lt;chr&gt; |\n",
       "|---|---|\n",
       "| 345 | They lay in a sort of or-orderly=&gt; They lay in a sort of orderly {pg   |\n",
       "| 345 | 279}                                                                   |\n",
       "| 345 | <!----> |\n",
       "| 345 | Translyvania=&gt; Transylvania {pg 294}                                   |\n",
       "| 345 | <!----> |\n",
       "| 345 | this mrrning from Dardanelles=&gt; this morning from Dardanelles {pg 313} |\n",
       "\n"
      ],
      "text/plain": [
       "  gutenberg_id\n",
       "1 345         \n",
       "2 345         \n",
       "3 345         \n",
       "4 345         \n",
       "5 345         \n",
       "6 345         \n",
       "  text                                                                  \n",
       "1 They lay in a sort of or-orderly=> They lay in a sort of orderly {pg  \n",
       "2 279}                                                                  \n",
       "3                                                                       \n",
       "4 Translyvania=> Transylvania {pg 294}                                  \n",
       "5                                                                       \n",
       "6 this mrrning from Dardanelles=> this morning from Dardanelles {pg 313}"
      ]
     },
     "metadata": {},
     "output_type": "display_data"
    }
   ],
   "source": [
    "tail(dra)"
   ]
  },
  {
   "cell_type": "markdown",
   "metadata": {},
   "source": [
    "Hay una sección de erratas y otros datos que se escapan del contenido del libro, por lo que se procederá a eliminarlos, lo que sucede a partir de la línea que contienen \"THE END\"."
   ]
  },
  {
   "cell_type": "code",
   "execution_count": 6,
   "metadata": {},
   "outputs": [],
   "source": [
    "t = grep(\"THE END\", dra$text) # línea donde se termina el libro"
   ]
  },
  {
   "cell_type": "markdown",
   "metadata": {},
   "source": [
    "Tampoco interesa el Índice."
   ]
  },
  {
   "cell_type": "code",
   "execution_count": 7,
   "metadata": {},
   "outputs": [
    {
     "data": {
      "text/html": [
       "<table>\n",
       "<caption>A tibble: 3 × 2</caption>\n",
       "<thead>\n",
       "\t<tr><th scope=col>gutenberg_id</th><th scope=col>text</th></tr>\n",
       "\t<tr><th scope=col>&lt;int&gt;</th><th scope=col>&lt;chr&gt;</th></tr>\n",
       "</thead>\n",
       "<tbody>\n",
       "\t<tr><td>345</td><td>CHAPTER I                </td></tr>\n",
       "\t<tr><td>345</td><td>                         </td></tr>\n",
       "\t<tr><td>345</td><td>JONATHAN HARKER'S JOURNAL</td></tr>\n",
       "</tbody>\n",
       "</table>\n"
      ],
      "text/latex": [
       "A tibble: 3 × 2\n",
       "\\begin{tabular}{ll}\n",
       " gutenberg\\_id & text\\\\\n",
       " <int> & <chr>\\\\\n",
       "\\hline\n",
       "\t 345 & CHAPTER I                \\\\\n",
       "\t 345 &                          \\\\\n",
       "\t 345 & JONATHAN HARKER'S JOURNAL\\\\\n",
       "\\end{tabular}\n"
      ],
      "text/markdown": [
       "\n",
       "A tibble: 3 × 2\n",
       "\n",
       "| gutenberg_id &lt;int&gt; | text &lt;chr&gt; |\n",
       "|---|---|\n",
       "| 345 | CHAPTER I                 |\n",
       "| 345 | <!----> |\n",
       "| 345 | JONATHAN HARKER'S JOURNAL |\n",
       "\n"
      ],
      "text/plain": [
       "  gutenberg_id text                     \n",
       "1 345          CHAPTER I                \n",
       "2 345                                   \n",
       "3 345          JONATHAN HARKER'S JOURNAL"
      ]
     },
     "metadata": {},
     "output_type": "display_data"
    },
    {
     "data": {
      "text/html": [
       "<table>\n",
       "<caption>A tibble: 3 × 2</caption>\n",
       "<thead>\n",
       "\t<tr><th scope=col>gutenberg_id</th><th scope=col>text</th></tr>\n",
       "\t<tr><th scope=col>&lt;int&gt;</th><th scope=col>&lt;chr&gt;</th></tr>\n",
       "</thead>\n",
       "<tbody>\n",
       "\t<tr><td>345</td><td>JONATHAN HARKER.                       </td></tr>\n",
       "\t<tr><td>345</td><td>                                       </td></tr>\n",
       "\t<tr><td>345</td><td>                                THE END</td></tr>\n",
       "</tbody>\n",
       "</table>\n"
      ],
      "text/latex": [
       "A tibble: 3 × 2\n",
       "\\begin{tabular}{ll}\n",
       " gutenberg\\_id & text\\\\\n",
       " <int> & <chr>\\\\\n",
       "\\hline\n",
       "\t 345 & JONATHAN HARKER.                       \\\\\n",
       "\t 345 &                                        \\\\\n",
       "\t 345 &                                 THE END\\\\\n",
       "\\end{tabular}\n"
      ],
      "text/markdown": [
       "\n",
       "A tibble: 3 × 2\n",
       "\n",
       "| gutenberg_id &lt;int&gt; | text &lt;chr&gt; |\n",
       "|---|---|\n",
       "| 345 | JONATHAN HARKER.                        |\n",
       "| 345 | <!----> |\n",
       "| 345 |                                 THE END |\n",
       "\n"
      ],
      "text/plain": [
       "  gutenberg_id text                                   \n",
       "1 345          JONATHAN HARKER.                       \n",
       "2 345                                                 \n",
       "3 345                                          THE END"
      ]
     },
     "metadata": {},
     "output_type": "display_data"
    }
   ],
   "source": [
    "dra = dra[162:t, ] # 161 inicia el capítulo 1\n",
    "head(dra, 3)\n",
    "tail(dra, 3)"
   ]
  },
  {
   "cell_type": "markdown",
   "metadata": {},
   "source": [
    "Se eliminan las líneas vacías y los `_`"
   ]
  },
  {
   "cell_type": "code",
   "execution_count": 8,
   "metadata": {},
   "outputs": [],
   "source": [
    "dra = dra[dra$text != \"\",]\n",
    "\n",
    "dra = lapply(dra, gsub, pattern=\"_\", replacement=\"\")\n",
    "dra = as.data.frame(dra)\n",
    "#dra"
   ]
  },
  {
   "cell_type": "code",
   "execution_count": 9,
   "metadata": {},
   "outputs": [
    {
     "data": {
      "text/html": [
       "<table>\n",
       "<caption>A tibble: 6 × 2</caption>\n",
       "<thead>\n",
       "\t<tr><th scope=col>gutenberg_id</th><th scope=col>text</th></tr>\n",
       "\t<tr><th scope=col>&lt;int&gt;</th><th scope=col>&lt;chr&gt;</th></tr>\n",
       "</thead>\n",
       "<tbody>\n",
       "\t<tr><td>42324</td><td><span style=white-space:pre-wrap>    Printed by A. &amp; R Spottiswoode,                                   </span></td></tr>\n",
       "\t<tr><td>42324</td><td>    New-Street-Square.                                                </td></tr>\n",
       "\t<tr><td>42324</td><td>                                                                      </td></tr>\n",
       "\t<tr><td>42324</td><td>    [Transcriber's Note: Possible printer errors corrected:           </td></tr>\n",
       "\t<tr><td>42324</td><td>    Line 2863: \"I do no not fear to die\" to \"I do now not fear to die\"</td></tr>\n",
       "\t<tr><td>42324</td><td>    Line 6375: \"fulfil the wishes of you parents\" to \"your parents\"]  </td></tr>\n",
       "</tbody>\n",
       "</table>\n"
      ],
      "text/latex": [
       "A tibble: 6 × 2\n",
       "\\begin{tabular}{ll}\n",
       " gutenberg\\_id & text\\\\\n",
       " <int> & <chr>\\\\\n",
       "\\hline\n",
       "\t 42324 &     Printed by A. \\& R Spottiswoode,                                   \\\\\n",
       "\t 42324 &     New-Street-Square.                                                \\\\\n",
       "\t 42324 &                                                                       \\\\\n",
       "\t 42324 &     {[}Transcriber's Note: Possible printer errors corrected:           \\\\\n",
       "\t 42324 &     Line 2863: \"I do no not fear to die\" to \"I do now not fear to die\"\\\\\n",
       "\t 42324 &     Line 6375: \"fulfil the wishes of you parents\" to \"your parents\"{]}  \\\\\n",
       "\\end{tabular}\n"
      ],
      "text/markdown": [
       "\n",
       "A tibble: 6 × 2\n",
       "\n",
       "| gutenberg_id &lt;int&gt; | text &lt;chr&gt; |\n",
       "|---|---|\n",
       "| 42324 |     Printed by A. &amp; R Spottiswoode,                                    |\n",
       "| 42324 |     New-Street-Square.                                                 |\n",
       "| 42324 | <!----> |\n",
       "| 42324 |     [Transcriber's Note: Possible printer errors corrected:            |\n",
       "| 42324 |     Line 2863: \"I do no not fear to die\" to \"I do now not fear to die\" |\n",
       "| 42324 |     Line 6375: \"fulfil the wishes of you parents\" to \"your parents\"]   |\n",
       "\n"
      ],
      "text/plain": [
       "  gutenberg_id\n",
       "1 42324       \n",
       "2 42324       \n",
       "3 42324       \n",
       "4 42324       \n",
       "5 42324       \n",
       "6 42324       \n",
       "  text                                                                  \n",
       "1     Printed by A. & R Spottiswoode,                                   \n",
       "2     New-Street-Square.                                                \n",
       "3                                                                       \n",
       "4     [Transcriber's Note: Possible printer errors corrected:           \n",
       "5     Line 2863: \"I do no not fear to die\" to \"I do now not fear to die\"\n",
       "6     Line 6375: \"fulfil the wishes of you parents\" to \"your parents\"]  "
      ]
     },
     "metadata": {},
     "output_type": "display_data"
    }
   ],
   "source": [
    "tail(fra)"
   ]
  },
  {
   "cell_type": "code",
   "execution_count": 10,
   "metadata": {},
   "outputs": [
    {
     "data": {
      "text/html": [
       "7622"
      ],
      "text/latex": [
       "7622"
      ],
      "text/markdown": [
       "7622"
      ],
      "text/plain": [
       "[1] 7622"
      ]
     },
     "metadata": {},
     "output_type": "display_data"
    }
   ],
   "source": [
    "t = grep(\"THE END.\", fra$text) # línea donde se termina el libro\n",
    "t"
   ]
  },
  {
   "cell_type": "code",
   "execution_count": 11,
   "metadata": {},
   "outputs": [
    {
     "data": {
      "text/html": [
       "<table>\n",
       "<caption>A tibble: 3 × 2</caption>\n",
       "<thead>\n",
       "\t<tr><th scope=col>gutenberg_id</th><th scope=col>text</th></tr>\n",
       "\t<tr><th scope=col>&lt;int&gt;</th><th scope=col>&lt;chr&gt;</th></tr>\n",
       "</thead>\n",
       "<tbody>\n",
       "\t<tr><td>42324</td><td>FRANKENSTEIN;</td></tr>\n",
       "\t<tr><td>42324</td><td>             </td></tr>\n",
       "\t<tr><td>42324</td><td>OR,          </td></tr>\n",
       "</tbody>\n",
       "</table>\n"
      ],
      "text/latex": [
       "A tibble: 3 × 2\n",
       "\\begin{tabular}{ll}\n",
       " gutenberg\\_id & text\\\\\n",
       " <int> & <chr>\\\\\n",
       "\\hline\n",
       "\t 42324 & FRANKENSTEIN;\\\\\n",
       "\t 42324 &              \\\\\n",
       "\t 42324 & OR,          \\\\\n",
       "\\end{tabular}\n"
      ],
      "text/markdown": [
       "\n",
       "A tibble: 3 × 2\n",
       "\n",
       "| gutenberg_id &lt;int&gt; | text &lt;chr&gt; |\n",
       "|---|---|\n",
       "| 42324 | FRANKENSTEIN; |\n",
       "| 42324 | <!----> |\n",
       "| 42324 | OR,           |\n",
       "\n"
      ],
      "text/plain": [
       "  gutenberg_id text         \n",
       "1 42324        FRANKENSTEIN;\n",
       "2 42324                     \n",
       "3 42324        OR,          "
      ]
     },
     "metadata": {},
     "output_type": "display_data"
    },
    {
     "data": {
      "text/html": [
       "<table>\n",
       "<caption>A tibble: 3 × 2</caption>\n",
       "<thead>\n",
       "\t<tr><th scope=col>gutenberg_id</th><th scope=col>text</th></tr>\n",
       "\t<tr><th scope=col>&lt;int&gt;</th><th scope=col>&lt;chr&gt;</th></tr>\n",
       "</thead>\n",
       "<tbody>\n",
       "\t<tr><td>42324</td><td>        </td></tr>\n",
       "\t<tr><td>42324</td><td>        </td></tr>\n",
       "\t<tr><td>42324</td><td>THE END.</td></tr>\n",
       "</tbody>\n",
       "</table>\n"
      ],
      "text/latex": [
       "A tibble: 3 × 2\n",
       "\\begin{tabular}{ll}\n",
       " gutenberg\\_id & text\\\\\n",
       " <int> & <chr>\\\\\n",
       "\\hline\n",
       "\t 42324 &         \\\\\n",
       "\t 42324 &         \\\\\n",
       "\t 42324 & THE END.\\\\\n",
       "\\end{tabular}\n"
      ],
      "text/markdown": [
       "\n",
       "A tibble: 3 × 2\n",
       "\n",
       "| gutenberg_id &lt;int&gt; | text &lt;chr&gt; |\n",
       "|---|---|\n",
       "| 42324 | <!----> |\n",
       "| 42324 | <!----> |\n",
       "| 42324 | THE END. |\n",
       "\n"
      ],
      "text/plain": [
       "  gutenberg_id text    \n",
       "1 42324                \n",
       "2 42324                \n",
       "3 42324        THE END."
      ]
     },
     "metadata": {},
     "output_type": "display_data"
    }
   ],
   "source": [
    "fra = fra[301:t,]\n",
    "head(fra, 3)\n",
    "tail(fra, 3)"
   ]
  },
  {
   "cell_type": "code",
   "execution_count": 12,
   "metadata": {},
   "outputs": [
    {
     "data": {
      "text/html": [
       "<table>\n",
       "<caption>A data.frame: 6402 × 2</caption>\n",
       "<thead>\n",
       "\t<tr><th scope=col>gutenberg_id</th><th scope=col>text</th></tr>\n",
       "\t<tr><th scope=col>&lt;chr&gt;</th><th scope=col>&lt;chr&gt;</th></tr>\n",
       "</thead>\n",
       "<tbody>\n",
       "\t<tr><td>42324</td><td>FRANKENSTEIN;            </td></tr>\n",
       "\t<tr><td>42324</td><td>OR,                      </td></tr>\n",
       "\t<tr><td>42324</td><td>THE MODERN PROMETHEUS.   </td></tr>\n",
       "\t<tr><td>42324</td><td>LETTER I.                </td></tr>\n",
       "\t<tr><td>42324</td><td>To Mrs. Saville, England.</td></tr>\n",
       "\t<tr><td>...</td><td>...</td></tr>\n",
       "\t<tr><td>42324</td><td>Farewell.\"                                                             </td></tr>\n",
       "\t<tr><td>42324</td><td>He sprung from the cabin-window, as he said this, upon the ice-raft    </td></tr>\n",
       "\t<tr><td>42324</td><td>which lay close to the vessel. He was soon borne away by the waves, and</td></tr>\n",
       "\t<tr><td>42324</td><td>lost in darkness and distance.                                         </td></tr>\n",
       "\t<tr><td>42324</td><td>THE END.                                                               </td></tr>\n",
       "</tbody>\n",
       "</table>\n"
      ],
      "text/latex": [
       "A data.frame: 6402 × 2\n",
       "\\begin{tabular}{ll}\n",
       " gutenberg\\_id & text\\\\\n",
       " <chr> & <chr>\\\\\n",
       "\\hline\n",
       "\t 42324 & FRANKENSTEIN;            \\\\\n",
       "\t 42324 & OR,                      \\\\\n",
       "\t 42324 & THE MODERN PROMETHEUS.   \\\\\n",
       "\t 42324 & LETTER I.                \\\\\n",
       "\t 42324 & To Mrs. Saville, England.\\\\\n",
       "\t ... & ...\\\\\n",
       "\t 42324 & Farewell.\"                                                             \\\\\n",
       "\t 42324 & He sprung from the cabin-window, as he said this, upon the ice-raft    \\\\\n",
       "\t 42324 & which lay close to the vessel. He was soon borne away by the waves, and\\\\\n",
       "\t 42324 & lost in darkness and distance.                                         \\\\\n",
       "\t 42324 & THE END.                                                               \\\\\n",
       "\\end{tabular}\n"
      ],
      "text/markdown": [
       "\n",
       "A data.frame: 6402 × 2\n",
       "\n",
       "| gutenberg_id &lt;chr&gt; | text &lt;chr&gt; |\n",
       "|---|---|\n",
       "| 42324 | FRANKENSTEIN;             |\n",
       "| 42324 | OR,                       |\n",
       "| 42324 | THE MODERN PROMETHEUS.    |\n",
       "| 42324 | LETTER I.                 |\n",
       "| 42324 | To Mrs. Saville, England. |\n",
       "| ... | ... |\n",
       "| 42324 | Farewell.\"                                                              |\n",
       "| 42324 | He sprung from the cabin-window, as he said this, upon the ice-raft     |\n",
       "| 42324 | which lay close to the vessel. He was soon borne away by the waves, and |\n",
       "| 42324 | lost in darkness and distance.                                          |\n",
       "| 42324 | THE END.                                                                |\n",
       "\n"
      ],
      "text/plain": [
       "     gutenberg_id\n",
       "1    42324       \n",
       "2    42324       \n",
       "3    42324       \n",
       "4    42324       \n",
       "5    42324       \n",
       "...  ...         \n",
       "6398 42324       \n",
       "6399 42324       \n",
       "6400 42324       \n",
       "6401 42324       \n",
       "6402 42324       \n",
       "     text                                                                   \n",
       "1    FRANKENSTEIN;                                                          \n",
       "2    OR,                                                                    \n",
       "3    THE MODERN PROMETHEUS.                                                 \n",
       "4    LETTER I.                                                              \n",
       "5    To Mrs. Saville, England.                                              \n",
       "...  ...                                                                    \n",
       "6398 Farewell.\"                                                             \n",
       "6399 He sprung from the cabin-window, as he said this, upon the ice-raft    \n",
       "6400 which lay close to the vessel. He was soon borne away by the waves, and\n",
       "6401 lost in darkness and distance.                                         \n",
       "6402 THE END.                                                               "
      ]
     },
     "metadata": {},
     "output_type": "display_data"
    }
   ],
   "source": [
    "fra = fra[fra$text != \"\",]\n",
    "\n",
    "fra = lapply(fra, gsub, pattern=\"_\", replacement=\"\")\n",
    "fra = as.data.frame(fra)\n",
    "fra"
   ]
  },
  {
   "cell_type": "markdown",
   "metadata": {},
   "source": [
    "Se convierte en una sola cadena de texto."
   ]
  },
  {
   "cell_type": "code",
   "execution_count": 13,
   "metadata": {},
   "outputs": [],
   "source": [
    "# https://pvanb.wordpress.com/2011/03/02/combining-text-from-data-frame-in-one-text-string-in-r/\n",
    "s_dra = paste(dra$text, collapse = \" \")\n",
    "#s_dra\n",
    "\n",
    "s_fra = paste(fra$text, collapse = \" \")\n",
    "#s_fra"
   ]
  },
  {
   "cell_type": "markdown",
   "metadata": {},
   "source": [
    "Ahora se procede a extraer los caracteres usados y las palabras completas."
   ]
  },
  {
   "cell_type": "code",
   "execution_count": 14,
   "metadata": {},
   "outputs": [
    {
     "data": {
      "text/html": [
       "<table>\n",
       "<caption>A corpus_frame: 8582 × 3</caption>\n",
       "<thead>\n",
       "\t<tr><th scope=col>parent</th><th scope=col>index</th><th scope=col>text</th></tr>\n",
       "\t<tr><th scope=col>&lt;fct&gt;</th><th scope=col>&lt;int&gt;</th><th scope=col>&lt;crps_txt&gt;</th></tr>\n",
       "</thead>\n",
       "<tbody>\n",
       "\t<tr><td>1</td><td>1</td><td>CHAPTER I JONATHAN HARKER'S JOURNAL (Kept in shorthand.)                    </td></tr>\n",
       "\t<tr><td>1</td><td>2</td><td>3 May.                                                                      </td></tr>\n",
       "\t<tr><td>1</td><td>3</td><td>Bistritz.--Left Munich at 8:35 P. M., on 1st May, arriving at Vienna early …</td></tr>\n",
       "\t<tr><td>1</td><td>4</td><td>Buda-Pesth seems a wonderful place, from the glimpse which I got of it from…</td></tr>\n",
       "\t<tr><td>1</td><td>5</td><td>I feared to go very far from the station, as we had arrived late and would …</td></tr>\n",
       "\t<tr><td>...</td><td>...</td><td>...</td></tr>\n",
       "\t<tr><td>1</td><td>8578</td><td>Van Helsing summed it all up as he said, with our boy on his knee:-- \"We wa…</td></tr>\n",
       "\t<tr><td>1</td><td>8579</td><td>This boy will some day know what a brave and gallant woman his mother is.   </td></tr>\n",
       "\t<tr><td>1</td><td>8580</td><td>Already he knows her sweetness and loving care; later on he will understand…</td></tr>\n",
       "\t<tr><td>1</td><td>8581</td><td>JONATHAN HARKER.                                                            </td></tr>\n",
       "\t<tr><td>1</td><td>8582</td><td>THE END                                                                     </td></tr>\n",
       "</tbody>\n",
       "</table>\n"
      ],
      "text/latex": [
       "A corpus\\_frame: 8582 × 3\n",
       "\\begin{tabular}{lll}\n",
       " parent & index & text\\\\\n",
       " <fct> & <int> & <crps\\_txt>\\\\\n",
       "\\hline\n",
       "\t 1 & 1 & CHAPTER I JONATHAN HARKER'S JOURNAL (Kept in shorthand.)                    \\\\\n",
       "\t 1 & 2 & 3 May.                                                                      \\\\\n",
       "\t 1 & 3 & Bistritz.--Left Munich at 8:35 P. M., on 1st May, arriving at Vienna early …\\\\\n",
       "\t 1 & 4 & Buda-Pesth seems a wonderful place, from the glimpse which I got of it from…\\\\\n",
       "\t 1 & 5 & I feared to go very far from the station, as we had arrived late and would …\\\\\n",
       "\t ... & ... & ...\\\\\n",
       "\t 1 & 8578 & Van Helsing summed it all up as he said, with our boy on his knee:-- \"We wa…\\\\\n",
       "\t 1 & 8579 & This boy will some day know what a brave and gallant woman his mother is.   \\\\\n",
       "\t 1 & 8580 & Already he knows her sweetness and loving care; later on he will understand…\\\\\n",
       "\t 1 & 8581 & JONATHAN HARKER.                                                            \\\\\n",
       "\t 1 & 8582 & THE END                                                                     \\\\\n",
       "\\end{tabular}\n"
      ],
      "text/markdown": [
       "\n",
       "A corpus_frame: 8582 × 3\n",
       "\n",
       "| parent &lt;fct&gt; | index &lt;int&gt; | text &lt;crps_txt&gt; |\n",
       "|---|---|---|\n",
       "| 1 | 1 | CHAPTER I JONATHAN HARKER'S JOURNAL (Kept in shorthand.)                     |\n",
       "| 1 | 2 | 3 May.                                                                       |\n",
       "| 1 | 3 | Bistritz.--Left Munich at 8:35 P. M., on 1st May, arriving at Vienna early … |\n",
       "| 1 | 4 | Buda-Pesth seems a wonderful place, from the glimpse which I got of it from… |\n",
       "| 1 | 5 | I feared to go very far from the station, as we had arrived late and would … |\n",
       "| ... | ... | ... |\n",
       "| 1 | 8578 | Van Helsing summed it all up as he said, with our boy on his knee:-- \"We wa… |\n",
       "| 1 | 8579 | This boy will some day know what a brave and gallant woman his mother is.    |\n",
       "| 1 | 8580 | Already he knows her sweetness and loving care; later on he will understand… |\n",
       "| 1 | 8581 | JONATHAN HARKER.                                                             |\n",
       "| 1 | 8582 | THE END                                                                      |\n",
       "\n"
      ],
      "text/plain": [
       "     parent index\n",
       "1    1      1    \n",
       "2    1      2    \n",
       "3    1      3    \n",
       "4    1      4    \n",
       "5    1      5    \n",
       "...  ...    ...  \n",
       "8578 1      8578 \n",
       "8579 1      8579 \n",
       "8580 1      8580 \n",
       "8581 1      8581 \n",
       "8582 1      8582 \n",
       "     text                                                                        \n",
       "1    CHAPTER I JONATHAN HARKER'S JOURNAL (Kept in shorthand.)                    \n",
       "2    3 May.                                                                      \n",
       "3    Bistritz.--Left Munich at 8:35 P. M., on 1st May, arriving at Vienna early …\n",
       "4    Buda-Pesth seems a wonderful place, from the glimpse which I got of it from…\n",
       "5    I feared to go very far from the station, as we had arrived late and would …\n",
       "...  ...                                                                         \n",
       "8578 Van Helsing summed it all up as he said, with our boy on his knee:-- \"We wa…\n",
       "8579 This boy will some day know what a brave and gallant woman his mother is.   \n",
       "8580 Already he knows her sweetness and loving care; later on he will understand…\n",
       "8581 JONATHAN HARKER.                                                            \n",
       "8582 THE END                                                                     "
      ]
     },
     "metadata": {},
     "output_type": "display_data"
    },
    {
     "data": {
      "text/html": [
       "<table>\n",
       "<caption>A corpus_frame: 3329 × 3</caption>\n",
       "<thead>\n",
       "\t<tr><th scope=col>parent</th><th scope=col>index</th><th scope=col>text</th></tr>\n",
       "\t<tr><th scope=col>&lt;fct&gt;</th><th scope=col>&lt;int&gt;</th><th scope=col>&lt;crps_txt&gt;</th></tr>\n",
       "</thead>\n",
       "<tbody>\n",
       "\t<tr><td>1</td><td>1</td><td>FRANKENSTEIN; OR, THE MODERN PROMETHEUS.                                    </td></tr>\n",
       "\t<tr><td>1</td><td>2</td><td>LETTER I. To Mrs. Saville, England.                                         </td></tr>\n",
       "\t<tr><td>1</td><td>3</td><td>St. Petersburgh, Dec. 11th, 17--.                                           </td></tr>\n",
       "\t<tr><td>1</td><td>4</td><td>You will rejoice to hear that no disaster has accompanied the commencement …</td></tr>\n",
       "\t<tr><td>1</td><td>5</td><td>I arrived here yesterday; and my first task is to assure my dear sister of …</td></tr>\n",
       "\t<tr><td>...</td><td>...</td><td>...</td></tr>\n",
       "\t<tr><td>1</td><td>3325</td><td>My spirit will sleep in peace; or if it thinks, it will not surely think th…</td></tr>\n",
       "\t<tr><td>1</td><td>3326</td><td>Farewell.\"                                                                  </td></tr>\n",
       "\t<tr><td>1</td><td>3327</td><td>He sprung from the cabin-window, as he said this, upon the ice-raft which l…</td></tr>\n",
       "\t<tr><td>1</td><td>3328</td><td>He was soon borne away by the waves, and lost in darkness and distance.     </td></tr>\n",
       "\t<tr><td>1</td><td>3329</td><td>THE END.                                                                    </td></tr>\n",
       "</tbody>\n",
       "</table>\n"
      ],
      "text/latex": [
       "A corpus\\_frame: 3329 × 3\n",
       "\\begin{tabular}{lll}\n",
       " parent & index & text\\\\\n",
       " <fct> & <int> & <crps\\_txt>\\\\\n",
       "\\hline\n",
       "\t 1 & 1 & FRANKENSTEIN; OR, THE MODERN PROMETHEUS.                                    \\\\\n",
       "\t 1 & 2 & LETTER I. To Mrs. Saville, England.                                         \\\\\n",
       "\t 1 & 3 & St. Petersburgh, Dec. 11th, 17--.                                           \\\\\n",
       "\t 1 & 4 & You will rejoice to hear that no disaster has accompanied the commencement …\\\\\n",
       "\t 1 & 5 & I arrived here yesterday; and my first task is to assure my dear sister of …\\\\\n",
       "\t ... & ... & ...\\\\\n",
       "\t 1 & 3325 & My spirit will sleep in peace; or if it thinks, it will not surely think th…\\\\\n",
       "\t 1 & 3326 & Farewell.\"                                                                  \\\\\n",
       "\t 1 & 3327 & He sprung from the cabin-window, as he said this, upon the ice-raft which l…\\\\\n",
       "\t 1 & 3328 & He was soon borne away by the waves, and lost in darkness and distance.     \\\\\n",
       "\t 1 & 3329 & THE END.                                                                    \\\\\n",
       "\\end{tabular}\n"
      ],
      "text/markdown": [
       "\n",
       "A corpus_frame: 3329 × 3\n",
       "\n",
       "| parent &lt;fct&gt; | index &lt;int&gt; | text &lt;crps_txt&gt; |\n",
       "|---|---|---|\n",
       "| 1 | 1 | FRANKENSTEIN; OR, THE MODERN PROMETHEUS.                                     |\n",
       "| 1 | 2 | LETTER I. To Mrs. Saville, England.                                          |\n",
       "| 1 | 3 | St. Petersburgh, Dec. 11th, 17--.                                            |\n",
       "| 1 | 4 | You will rejoice to hear that no disaster has accompanied the commencement … |\n",
       "| 1 | 5 | I arrived here yesterday; and my first task is to assure my dear sister of … |\n",
       "| ... | ... | ... |\n",
       "| 1 | 3325 | My spirit will sleep in peace; or if it thinks, it will not surely think th… |\n",
       "| 1 | 3326 | Farewell.\"                                                                   |\n",
       "| 1 | 3327 | He sprung from the cabin-window, as he said this, upon the ice-raft which l… |\n",
       "| 1 | 3328 | He was soon borne away by the waves, and lost in darkness and distance.      |\n",
       "| 1 | 3329 | THE END.                                                                     |\n",
       "\n"
      ],
      "text/plain": [
       "     parent index\n",
       "1    1      1    \n",
       "2    1      2    \n",
       "3    1      3    \n",
       "4    1      4    \n",
       "5    1      5    \n",
       "...  ...    ...  \n",
       "3325 1      3325 \n",
       "3326 1      3326 \n",
       "3327 1      3327 \n",
       "3328 1      3328 \n",
       "3329 1      3329 \n",
       "     text                                                                        \n",
       "1    FRANKENSTEIN; OR, THE MODERN PROMETHEUS.                                    \n",
       "2    LETTER I. To Mrs. Saville, England.                                         \n",
       "3    St. Petersburgh, Dec. 11th, 17--.                                           \n",
       "4    You will rejoice to hear that no disaster has accompanied the commencement …\n",
       "5    I arrived here yesterday; and my first task is to assure my dear sister of …\n",
       "...  ...                                                                         \n",
       "3325 My spirit will sleep in peace; or if it thinks, it will not surely think th…\n",
       "3326 Farewell.\"                                                                  \n",
       "3327 He sprung from the cabin-window, as he said this, upon the ice-raft which l…\n",
       "3328 He was soon borne away by the waves, and lost in darkness and distance.     \n",
       "3329 THE END.                                                                    "
      ]
     },
     "metadata": {},
     "output_type": "display_data"
    }
   ],
   "source": [
    "# https://stackoverflow.com/a/47224409/3113008\n",
    "dra_oraciones = text_split(s_dra, \"sentences\")\n",
    "dra_oraciones\n",
    "\n",
    "fra_oraciones = text_split(s_fra, \"sentences\")\n",
    "fra_oraciones"
   ]
  },
  {
   "cell_type": "markdown",
   "metadata": {},
   "source": [
    "Se pueden extraer algunos dartos interesantes, a partir de las oraciones. Cantidad de palabras por oración, cantidad de `,` y `;` por oración y riqueza de vocabulario, por ejemplo (ver http://www.aicbt.com/authorship-attribution/). Para ello primero se convierte en `dataframe`."
   ]
  },
  {
   "cell_type": "code",
   "execution_count": 15,
   "metadata": {},
   "outputs": [
    {
     "data": {
      "text/html": [
       "<table>\n",
       "<caption>A data.frame: 8582 × 3</caption>\n",
       "<thead>\n",
       "\t<tr><th scope=col>parent</th><th scope=col>index</th><th scope=col>text</th></tr>\n",
       "\t<tr><th scope=col>&lt;chr&gt;</th><th scope=col>&lt;chr&gt;</th><th scope=col>&lt;chr&gt;</th></tr>\n",
       "</thead>\n",
       "<tbody>\n",
       "\t<tr><td>1</td><td>1</td><td>CHAPTER I JONATHAN HARKER'S JOURNAL (Kept in shorthand.)                                                                                          </td></tr>\n",
       "\t<tr><td>1</td><td>2</td><td>3 May.                                                                                                                                            </td></tr>\n",
       "\t<tr><td>1</td><td>3</td><td>Bistritz.--Left Munich at 8:35 P. M., on 1st May, arriving at Vienna early next morning; should have arrived at 6:46, but train was an hour late. </td></tr>\n",
       "\t<tr><td>1</td><td>4</td><td>Buda-Pesth seems a wonderful place, from the glimpse which I got of it from the train and the little I could walk through the streets.            </td></tr>\n",
       "\t<tr><td>1</td><td>5</td><td>I feared to go very far from the station, as we had arrived late and would start as near the correct time as possible.                            </td></tr>\n",
       "\t<tr><td>...</td><td>...</td><td>...</td></tr>\n",
       "\t<tr><td>1</td><td>8578</td><td>Van Helsing summed it all up as he said, with our boy on his knee:-- \"We want no proofs; we ask none to believe us!                           </td></tr>\n",
       "\t<tr><td>1</td><td>8579</td><td>This boy will some day know what a brave and gallant woman his mother is.                                                                     </td></tr>\n",
       "\t<tr><td>1</td><td>8580</td><td>Already he knows her sweetness and loving care; later on he will understand how some men so loved her, that they did dare much for her sake.\" </td></tr>\n",
       "\t<tr><td>1</td><td>8581</td><td>JONATHAN HARKER.                                                                                                                              </td></tr>\n",
       "\t<tr><td>1</td><td>8582</td><td>THE END                                                                                                                                       </td></tr>\n",
       "</tbody>\n",
       "</table>\n"
      ],
      "text/latex": [
       "A data.frame: 8582 × 3\n",
       "\\begin{tabular}{lll}\n",
       " parent & index & text\\\\\n",
       " <chr> & <chr> & <chr>\\\\\n",
       "\\hline\n",
       "\t 1 & 1 & CHAPTER I JONATHAN HARKER'S JOURNAL (Kept in shorthand.)                                                                                          \\\\\n",
       "\t 1 & 2 & 3 May.                                                                                                                                            \\\\\n",
       "\t 1 & 3 & Bistritz.--Left Munich at 8:35 P. M., on 1st May, arriving at Vienna early next morning; should have arrived at 6:46, but train was an hour late. \\\\\n",
       "\t 1 & 4 & Buda-Pesth seems a wonderful place, from the glimpse which I got of it from the train and the little I could walk through the streets.            \\\\\n",
       "\t 1 & 5 & I feared to go very far from the station, as we had arrived late and would start as near the correct time as possible.                            \\\\\n",
       "\t ... & ... & ...\\\\\n",
       "\t 1 & 8578 & Van Helsing summed it all up as he said, with our boy on his knee:-- \"We want no proofs; we ask none to believe us!                           \\\\\n",
       "\t 1 & 8579 & This boy will some day know what a brave and gallant woman his mother is.                                                                     \\\\\n",
       "\t 1 & 8580 & Already he knows her sweetness and loving care; later on he will understand how some men so loved her, that they did dare much for her sake.\" \\\\\n",
       "\t 1 & 8581 & JONATHAN HARKER.                                                                                                                              \\\\\n",
       "\t 1 & 8582 & THE END                                                                                                                                       \\\\\n",
       "\\end{tabular}\n"
      ],
      "text/markdown": [
       "\n",
       "A data.frame: 8582 × 3\n",
       "\n",
       "| parent &lt;chr&gt; | index &lt;chr&gt; | text &lt;chr&gt; |\n",
       "|---|---|---|\n",
       "| 1 | 1 | CHAPTER I JONATHAN HARKER'S JOURNAL (Kept in shorthand.)                                                                                           |\n",
       "| 1 | 2 | 3 May.                                                                                                                                             |\n",
       "| 1 | 3 | Bistritz.--Left Munich at 8:35 P. M., on 1st May, arriving at Vienna early next morning; should have arrived at 6:46, but train was an hour late.  |\n",
       "| 1 | 4 | Buda-Pesth seems a wonderful place, from the glimpse which I got of it from the train and the little I could walk through the streets.             |\n",
       "| 1 | 5 | I feared to go very far from the station, as we had arrived late and would start as near the correct time as possible.                             |\n",
       "| ... | ... | ... |\n",
       "| 1 | 8578 | Van Helsing summed it all up as he said, with our boy on his knee:-- \"We want no proofs; we ask none to believe us!                            |\n",
       "| 1 | 8579 | This boy will some day know what a brave and gallant woman his mother is.                                                                      |\n",
       "| 1 | 8580 | Already he knows her sweetness and loving care; later on he will understand how some men so loved her, that they did dare much for her sake.\"  |\n",
       "| 1 | 8581 | JONATHAN HARKER.                                                                                                                               |\n",
       "| 1 | 8582 | THE END                                                                                                                                        |\n",
       "\n"
      ],
      "text/plain": [
       "     parent index\n",
       "1    1      1    \n",
       "2    1      2    \n",
       "3    1      3    \n",
       "4    1      4    \n",
       "5    1      5    \n",
       "...  ...    ...  \n",
       "8578 1      8578 \n",
       "8579 1      8579 \n",
       "8580 1      8580 \n",
       "8581 1      8581 \n",
       "8582 1      8582 \n",
       "     text                                                                                                                                              \n",
       "1    CHAPTER I JONATHAN HARKER'S JOURNAL (Kept in shorthand.)                                                                                          \n",
       "2    3 May.                                                                                                                                            \n",
       "3    Bistritz.--Left Munich at 8:35 P. M., on 1st May, arriving at Vienna early next morning; should have arrived at 6:46, but train was an hour late. \n",
       "4    Buda-Pesth seems a wonderful place, from the glimpse which I got of it from the train and the little I could walk through the streets.            \n",
       "5    I feared to go very far from the station, as we had arrived late and would start as near the correct time as possible.                            \n",
       "...  ...                                                                                                                                               \n",
       "8578 Van Helsing summed it all up as he said, with our boy on his knee:-- \"We want no proofs; we ask none to believe us!                               \n",
       "8579 This boy will some day know what a brave and gallant woman his mother is.                                                                         \n",
       "8580 Already he knows her sweetness and loving care; later on he will understand how some men so loved her, that they did dare much for her sake.\"     \n",
       "8581 JONATHAN HARKER.                                                                                                                                  \n",
       "8582 THE END                                                                                                                                           "
      ]
     },
     "metadata": {},
     "output_type": "display_data"
    },
    {
     "data": {
      "text/html": [
       "<table>\n",
       "<caption>A data.frame: 3329 × 3</caption>\n",
       "<thead>\n",
       "\t<tr><th scope=col>parent</th><th scope=col>index</th><th scope=col>text</th></tr>\n",
       "\t<tr><th scope=col>&lt;chr&gt;</th><th scope=col>&lt;chr&gt;</th><th scope=col>&lt;chr&gt;</th></tr>\n",
       "</thead>\n",
       "<tbody>\n",
       "\t<tr><td>1</td><td>1</td><td>FRANKENSTEIN; OR, THE MODERN PROMETHEUS.                                                                                                           </td></tr>\n",
       "\t<tr><td>1</td><td>2</td><td>LETTER I. To Mrs. Saville, England.                                                                                                                </td></tr>\n",
       "\t<tr><td>1</td><td>3</td><td>St. Petersburgh, Dec. 11th, 17--.                                                                                                                  </td></tr>\n",
       "\t<tr><td>1</td><td>4</td><td>You will rejoice to hear that no disaster has accompanied the commencement of an enterprise which you have regarded with such evil forebodings.    </td></tr>\n",
       "\t<tr><td>1</td><td>5</td><td>I arrived here yesterday; and my first task is to assure my dear sister of my welfare, and increasing confidence in the success of my undertaking. </td></tr>\n",
       "\t<tr><td>...</td><td>...</td><td>...</td></tr>\n",
       "\t<tr><td>1</td><td>3325</td><td>My spirit will sleep in peace; or if it thinks, it will not surely think thus.                     </td></tr>\n",
       "\t<tr><td>1</td><td>3326</td><td>Farewell.\"                                                                                         </td></tr>\n",
       "\t<tr><td>1</td><td>3327</td><td>He sprung from the cabin-window, as he said this, upon the ice-raft which lay close to the vessel. </td></tr>\n",
       "\t<tr><td>1</td><td>3328</td><td>He was soon borne away by the waves, and lost in darkness and distance.                            </td></tr>\n",
       "\t<tr><td>1</td><td>3329</td><td>THE END.                                                                                           </td></tr>\n",
       "</tbody>\n",
       "</table>\n"
      ],
      "text/latex": [
       "A data.frame: 3329 × 3\n",
       "\\begin{tabular}{lll}\n",
       " parent & index & text\\\\\n",
       " <chr> & <chr> & <chr>\\\\\n",
       "\\hline\n",
       "\t 1 & 1 & FRANKENSTEIN; OR, THE MODERN PROMETHEUS.                                                                                                           \\\\\n",
       "\t 1 & 2 & LETTER I. To Mrs. Saville, England.                                                                                                                \\\\\n",
       "\t 1 & 3 & St. Petersburgh, Dec. 11th, 17--.                                                                                                                  \\\\\n",
       "\t 1 & 4 & You will rejoice to hear that no disaster has accompanied the commencement of an enterprise which you have regarded with such evil forebodings.    \\\\\n",
       "\t 1 & 5 & I arrived here yesterday; and my first task is to assure my dear sister of my welfare, and increasing confidence in the success of my undertaking. \\\\\n",
       "\t ... & ... & ...\\\\\n",
       "\t 1 & 3325 & My spirit will sleep in peace; or if it thinks, it will not surely think thus.                     \\\\\n",
       "\t 1 & 3326 & Farewell.\"                                                                                         \\\\\n",
       "\t 1 & 3327 & He sprung from the cabin-window, as he said this, upon the ice-raft which lay close to the vessel. \\\\\n",
       "\t 1 & 3328 & He was soon borne away by the waves, and lost in darkness and distance.                            \\\\\n",
       "\t 1 & 3329 & THE END.                                                                                           \\\\\n",
       "\\end{tabular}\n"
      ],
      "text/markdown": [
       "\n",
       "A data.frame: 3329 × 3\n",
       "\n",
       "| parent &lt;chr&gt; | index &lt;chr&gt; | text &lt;chr&gt; |\n",
       "|---|---|---|\n",
       "| 1 | 1 | FRANKENSTEIN; OR, THE MODERN PROMETHEUS.                                                                                                            |\n",
       "| 1 | 2 | LETTER I. To Mrs. Saville, England.                                                                                                                 |\n",
       "| 1 | 3 | St. Petersburgh, Dec. 11th, 17--.                                                                                                                   |\n",
       "| 1 | 4 | You will rejoice to hear that no disaster has accompanied the commencement of an enterprise which you have regarded with such evil forebodings.     |\n",
       "| 1 | 5 | I arrived here yesterday; and my first task is to assure my dear sister of my welfare, and increasing confidence in the success of my undertaking.  |\n",
       "| ... | ... | ... |\n",
       "| 1 | 3325 | My spirit will sleep in peace; or if it thinks, it will not surely think thus.                      |\n",
       "| 1 | 3326 | Farewell.\"                                                                                          |\n",
       "| 1 | 3327 | He sprung from the cabin-window, as he said this, upon the ice-raft which lay close to the vessel.  |\n",
       "| 1 | 3328 | He was soon borne away by the waves, and lost in darkness and distance.                             |\n",
       "| 1 | 3329 | THE END.                                                                                            |\n",
       "\n"
      ],
      "text/plain": [
       "     parent index\n",
       "1    1      1    \n",
       "2    1      2    \n",
       "3    1      3    \n",
       "4    1      4    \n",
       "5    1      5    \n",
       "...  ...    ...  \n",
       "3325 1      3325 \n",
       "3326 1      3326 \n",
       "3327 1      3327 \n",
       "3328 1      3328 \n",
       "3329 1      3329 \n",
       "     text                                                                                                                                               \n",
       "1    FRANKENSTEIN; OR, THE MODERN PROMETHEUS.                                                                                                           \n",
       "2    LETTER I. To Mrs. Saville, England.                                                                                                                \n",
       "3    St. Petersburgh, Dec. 11th, 17--.                                                                                                                  \n",
       "4    You will rejoice to hear that no disaster has accompanied the commencement of an enterprise which you have regarded with such evil forebodings.    \n",
       "5    I arrived here yesterday; and my first task is to assure my dear sister of my welfare, and increasing confidence in the success of my undertaking. \n",
       "...  ...                                                                                                                                                \n",
       "3325 My spirit will sleep in peace; or if it thinks, it will not surely think thus.                                                                     \n",
       "3326 Farewell.\"                                                                                                                                         \n",
       "3327 He sprung from the cabin-window, as he said this, upon the ice-raft which lay close to the vessel.                                                 \n",
       "3328 He was soon borne away by the waves, and lost in darkness and distance.                                                                            \n",
       "3329 THE END.                                                                                                                                           "
      ]
     },
     "metadata": {},
     "output_type": "display_data"
    }
   ],
   "source": [
    "# https://stackoverflow.com/a/33193705/3113008\n",
    "dra_oraciones = data.frame(sapply(dra_oraciones, as.character), stringsAsFactors = FALSE)\n",
    "dra_oraciones\n",
    "\n",
    "fra_oraciones = data.frame(sapply(fra_oraciones, as.character), stringsAsFactors = FALSE)\n",
    "fra_oraciones"
   ]
  },
  {
   "cell_type": "markdown",
   "metadata": {},
   "source": [
    "Ahora se cuentan las palabras, comas, y puntos y comas por oración."
   ]
  },
  {
   "cell_type": "code",
   "execution_count": 17,
   "metadata": {},
   "outputs": [
    {
     "data": {
      "text/html": [
       "<table>\n",
       "<caption>A data.frame: 8582 × 6</caption>\n",
       "<thead>\n",
       "\t<tr><th scope=col>parent</th><th scope=col>index</th><th scope=col>text</th><th scope=col>n_palabras</th><th scope=col>n_comas</th><th scope=col>n_pcomas</th></tr>\n",
       "\t<tr><th scope=col>&lt;chr&gt;</th><th scope=col>&lt;chr&gt;</th><th scope=col>&lt;chr&gt;</th><th scope=col>&lt;int&gt;</th><th scope=col>&lt;int&gt;</th><th scope=col>&lt;int&gt;</th></tr>\n",
       "</thead>\n",
       "<tbody>\n",
       "\t<tr><td>1</td><td>1</td><td>CHAPTER I JONATHAN HARKER'S JOURNAL (Kept in shorthand.)                                                                                          </td><td> 8</td><td>0</td><td>0</td></tr>\n",
       "\t<tr><td>1</td><td>2</td><td>3 May.                                                                                                                                            </td><td> 2</td><td>0</td><td>0</td></tr>\n",
       "\t<tr><td>1</td><td>3</td><td>Bistritz.--Left Munich at 8:35 P. M., on 1st May, arriving at Vienna early next morning; should have arrived at 6:46, but train was an hour late. </td><td>26</td><td>3</td><td>1</td></tr>\n",
       "\t<tr><td>1</td><td>4</td><td>Buda-Pesth seems a wonderful place, from the glimpse which I got of it from the train and the little I could walk through the streets.            </td><td>25</td><td>1</td><td>0</td></tr>\n",
       "\t<tr><td>1</td><td>5</td><td>I feared to go very far from the station, as we had arrived late and would start as near the correct time as possible.                            </td><td>24</td><td>1</td><td>0</td></tr>\n",
       "\t<tr><td>...</td><td>...</td><td>...</td><td>...</td><td>...</td><td>...</td></tr>\n",
       "\t<tr><td>1</td><td>8578</td><td>Van Helsing summed it all up as he said, with our boy on his knee:-- \"We want no proofs; we ask none to believe us!                           </td><td>25</td><td>1</td><td>1</td></tr>\n",
       "\t<tr><td>1</td><td>8579</td><td>This boy will some day know what a brave and gallant woman his mother is.                                                                     </td><td>15</td><td>0</td><td>0</td></tr>\n",
       "\t<tr><td>1</td><td>8580</td><td>Already he knows her sweetness and loving care; later on he will understand how some men so loved her, that they did dare much for her sake.\" </td><td>27</td><td>1</td><td>1</td></tr>\n",
       "\t<tr><td>1</td><td>8581</td><td>JONATHAN HARKER.                                                                                                                              </td><td>34</td><td>0</td><td>0</td></tr>\n",
       "\t<tr><td>1</td><td>8582</td><td>THE END                                                                                                                                       </td><td> 2</td><td>0</td><td>0</td></tr>\n",
       "</tbody>\n",
       "</table>\n"
      ],
      "text/latex": [
       "A data.frame: 8582 × 6\n",
       "\\begin{tabular}{llllll}\n",
       " parent & index & text & n\\_palabras & n\\_comas & n\\_pcomas\\\\\n",
       " <chr> & <chr> & <chr> & <int> & <int> & <int>\\\\\n",
       "\\hline\n",
       "\t 1 & 1 & CHAPTER I JONATHAN HARKER'S JOURNAL (Kept in shorthand.)                                                                                           &  8 & 0 & 0\\\\\n",
       "\t 1 & 2 & 3 May.                                                                                                                                             &  2 & 0 & 0\\\\\n",
       "\t 1 & 3 & Bistritz.--Left Munich at 8:35 P. M., on 1st May, arriving at Vienna early next morning; should have arrived at 6:46, but train was an hour late.  & 26 & 3 & 1\\\\\n",
       "\t 1 & 4 & Buda-Pesth seems a wonderful place, from the glimpse which I got of it from the train and the little I could walk through the streets.             & 25 & 1 & 0\\\\\n",
       "\t 1 & 5 & I feared to go very far from the station, as we had arrived late and would start as near the correct time as possible.                             & 24 & 1 & 0\\\\\n",
       "\t ... & ... & ... & ... & ... & ...\\\\\n",
       "\t 1 & 8578 & Van Helsing summed it all up as he said, with our boy on his knee:-- \"We want no proofs; we ask none to believe us!                            & 25 & 1 & 1\\\\\n",
       "\t 1 & 8579 & This boy will some day know what a brave and gallant woman his mother is.                                                                      & 15 & 0 & 0\\\\\n",
       "\t 1 & 8580 & Already he knows her sweetness and loving care; later on he will understand how some men so loved her, that they did dare much for her sake.\"  & 27 & 1 & 1\\\\\n",
       "\t 1 & 8581 & JONATHAN HARKER.                                                                                                                               & 34 & 0 & 0\\\\\n",
       "\t 1 & 8582 & THE END                                                                                                                                        &  2 & 0 & 0\\\\\n",
       "\\end{tabular}\n"
      ],
      "text/markdown": [
       "\n",
       "A data.frame: 8582 × 6\n",
       "\n",
       "| parent &lt;chr&gt; | index &lt;chr&gt; | text &lt;chr&gt; | n_palabras &lt;int&gt; | n_comas &lt;int&gt; | n_pcomas &lt;int&gt; |\n",
       "|---|---|---|---|---|---|\n",
       "| 1 | 1 | CHAPTER I JONATHAN HARKER'S JOURNAL (Kept in shorthand.)                                                                                           |  8 | 0 | 0 |\n",
       "| 1 | 2 | 3 May.                                                                                                                                             |  2 | 0 | 0 |\n",
       "| 1 | 3 | Bistritz.--Left Munich at 8:35 P. M., on 1st May, arriving at Vienna early next morning; should have arrived at 6:46, but train was an hour late.  | 26 | 3 | 1 |\n",
       "| 1 | 4 | Buda-Pesth seems a wonderful place, from the glimpse which I got of it from the train and the little I could walk through the streets.             | 25 | 1 | 0 |\n",
       "| 1 | 5 | I feared to go very far from the station, as we had arrived late and would start as near the correct time as possible.                             | 24 | 1 | 0 |\n",
       "| ... | ... | ... | ... | ... | ... |\n",
       "| 1 | 8578 | Van Helsing summed it all up as he said, with our boy on his knee:-- \"We want no proofs; we ask none to believe us!                            | 25 | 1 | 1 |\n",
       "| 1 | 8579 | This boy will some day know what a brave and gallant woman his mother is.                                                                      | 15 | 0 | 0 |\n",
       "| 1 | 8580 | Already he knows her sweetness and loving care; later on he will understand how some men so loved her, that they did dare much for her sake.\"  | 27 | 1 | 1 |\n",
       "| 1 | 8581 | JONATHAN HARKER.                                                                                                                               | 34 | 0 | 0 |\n",
       "| 1 | 8582 | THE END                                                                                                                                        |  2 | 0 | 0 |\n",
       "\n"
      ],
      "text/plain": [
       "     parent index\n",
       "1    1      1    \n",
       "2    1      2    \n",
       "3    1      3    \n",
       "4    1      4    \n",
       "5    1      5    \n",
       "...  ...    ...  \n",
       "8578 1      8578 \n",
       "8579 1      8579 \n",
       "8580 1      8580 \n",
       "8581 1      8581 \n",
       "8582 1      8582 \n",
       "     text                                                                                                                                              \n",
       "1    CHAPTER I JONATHAN HARKER'S JOURNAL (Kept in shorthand.)                                                                                          \n",
       "2    3 May.                                                                                                                                            \n",
       "3    Bistritz.--Left Munich at 8:35 P. M., on 1st May, arriving at Vienna early next morning; should have arrived at 6:46, but train was an hour late. \n",
       "4    Buda-Pesth seems a wonderful place, from the glimpse which I got of it from the train and the little I could walk through the streets.            \n",
       "5    I feared to go very far from the station, as we had arrived late and would start as near the correct time as possible.                            \n",
       "...  ...                                                                                                                                               \n",
       "8578 Van Helsing summed it all up as he said, with our boy on his knee:-- \"We want no proofs; we ask none to believe us!                               \n",
       "8579 This boy will some day know what a brave and gallant woman his mother is.                                                                         \n",
       "8580 Already he knows her sweetness and loving care; later on he will understand how some men so loved her, that they did dare much for her sake.\"     \n",
       "8581 JONATHAN HARKER.                                                                                                                                  \n",
       "8582 THE END                                                                                                                                           \n",
       "     n_palabras n_comas n_pcomas\n",
       "1     8         0       0       \n",
       "2     2         0       0       \n",
       "3    26         3       1       \n",
       "4    25         1       0       \n",
       "5    24         1       0       \n",
       "...  ...        ...     ...     \n",
       "8578 25         1       1       \n",
       "8579 15         0       0       \n",
       "8580 27         1       1       \n",
       "8581 34         0       0       \n",
       "8582  2         0       0       "
      ]
     },
     "metadata": {},
     "output_type": "display_data"
    },
    {
     "data": {
      "text/html": [
       "<table>\n",
       "<caption>A data.frame: 3329 × 6</caption>\n",
       "<thead>\n",
       "\t<tr><th scope=col>parent</th><th scope=col>index</th><th scope=col>text</th><th scope=col>n_palabras</th><th scope=col>n_comas</th><th scope=col>n_pcomas</th></tr>\n",
       "\t<tr><th scope=col>&lt;chr&gt;</th><th scope=col>&lt;chr&gt;</th><th scope=col>&lt;chr&gt;</th><th scope=col>&lt;int&gt;</th><th scope=col>&lt;int&gt;</th><th scope=col>&lt;int&gt;</th></tr>\n",
       "</thead>\n",
       "<tbody>\n",
       "\t<tr><td>1</td><td>1</td><td>FRANKENSTEIN; OR, THE MODERN PROMETHEUS.                                                                                                           </td><td> 5</td><td>1</td><td>1</td></tr>\n",
       "\t<tr><td>1</td><td>2</td><td>LETTER I. To Mrs. Saville, England.                                                                                                                </td><td> 6</td><td>1</td><td>0</td></tr>\n",
       "\t<tr><td>1</td><td>3</td><td>St. Petersburgh, Dec. 11th, 17--.                                                                                                                  </td><td> 5</td><td>2</td><td>0</td></tr>\n",
       "\t<tr><td>1</td><td>4</td><td>You will rejoice to hear that no disaster has accompanied the commencement of an enterprise which you have regarded with such evil forebodings.    </td><td>23</td><td>0</td><td>0</td></tr>\n",
       "\t<tr><td>1</td><td>5</td><td>I arrived here yesterday; and my first task is to assure my dear sister of my welfare, and increasing confidence in the success of my undertaking. </td><td>26</td><td>1</td><td>1</td></tr>\n",
       "\t<tr><td>...</td><td>...</td><td>...</td><td>...</td><td>...</td><td>...</td></tr>\n",
       "\t<tr><td>1</td><td>3325</td><td>My spirit will sleep in peace; or if it thinks, it will not surely think thus.                     </td><td>16</td><td>1</td><td>1</td></tr>\n",
       "\t<tr><td>1</td><td>3326</td><td>Farewell.\"                                                                                         </td><td> 1</td><td>0</td><td>0</td></tr>\n",
       "\t<tr><td>1</td><td>3327</td><td>He sprung from the cabin-window, as he said this, upon the ice-raft which lay close to the vessel. </td><td>18</td><td>2</td><td>0</td></tr>\n",
       "\t<tr><td>1</td><td>3328</td><td>He was soon borne away by the waves, and lost in darkness and distance.                            </td><td>14</td><td>1</td><td>0</td></tr>\n",
       "\t<tr><td>1</td><td>3329</td><td>THE END.                                                                                           </td><td> 2</td><td>0</td><td>0</td></tr>\n",
       "</tbody>\n",
       "</table>\n"
      ],
      "text/latex": [
       "A data.frame: 3329 × 6\n",
       "\\begin{tabular}{llllll}\n",
       " parent & index & text & n\\_palabras & n\\_comas & n\\_pcomas\\\\\n",
       " <chr> & <chr> & <chr> & <int> & <int> & <int>\\\\\n",
       "\\hline\n",
       "\t 1 & 1 & FRANKENSTEIN; OR, THE MODERN PROMETHEUS.                                                                                                            &  5 & 1 & 1\\\\\n",
       "\t 1 & 2 & LETTER I. To Mrs. Saville, England.                                                                                                                 &  6 & 1 & 0\\\\\n",
       "\t 1 & 3 & St. Petersburgh, Dec. 11th, 17--.                                                                                                                   &  5 & 2 & 0\\\\\n",
       "\t 1 & 4 & You will rejoice to hear that no disaster has accompanied the commencement of an enterprise which you have regarded with such evil forebodings.     & 23 & 0 & 0\\\\\n",
       "\t 1 & 5 & I arrived here yesterday; and my first task is to assure my dear sister of my welfare, and increasing confidence in the success of my undertaking.  & 26 & 1 & 1\\\\\n",
       "\t ... & ... & ... & ... & ... & ...\\\\\n",
       "\t 1 & 3325 & My spirit will sleep in peace; or if it thinks, it will not surely think thus.                      & 16 & 1 & 1\\\\\n",
       "\t 1 & 3326 & Farewell.\"                                                                                          &  1 & 0 & 0\\\\\n",
       "\t 1 & 3327 & He sprung from the cabin-window, as he said this, upon the ice-raft which lay close to the vessel.  & 18 & 2 & 0\\\\\n",
       "\t 1 & 3328 & He was soon borne away by the waves, and lost in darkness and distance.                             & 14 & 1 & 0\\\\\n",
       "\t 1 & 3329 & THE END.                                                                                            &  2 & 0 & 0\\\\\n",
       "\\end{tabular}\n"
      ],
      "text/markdown": [
       "\n",
       "A data.frame: 3329 × 6\n",
       "\n",
       "| parent &lt;chr&gt; | index &lt;chr&gt; | text &lt;chr&gt; | n_palabras &lt;int&gt; | n_comas &lt;int&gt; | n_pcomas &lt;int&gt; |\n",
       "|---|---|---|---|---|---|\n",
       "| 1 | 1 | FRANKENSTEIN; OR, THE MODERN PROMETHEUS.                                                                                                            |  5 | 1 | 1 |\n",
       "| 1 | 2 | LETTER I. To Mrs. Saville, England.                                                                                                                 |  6 | 1 | 0 |\n",
       "| 1 | 3 | St. Petersburgh, Dec. 11th, 17--.                                                                                                                   |  5 | 2 | 0 |\n",
       "| 1 | 4 | You will rejoice to hear that no disaster has accompanied the commencement of an enterprise which you have regarded with such evil forebodings.     | 23 | 0 | 0 |\n",
       "| 1 | 5 | I arrived here yesterday; and my first task is to assure my dear sister of my welfare, and increasing confidence in the success of my undertaking.  | 26 | 1 | 1 |\n",
       "| ... | ... | ... | ... | ... | ... |\n",
       "| 1 | 3325 | My spirit will sleep in peace; or if it thinks, it will not surely think thus.                      | 16 | 1 | 1 |\n",
       "| 1 | 3326 | Farewell.\"                                                                                          |  1 | 0 | 0 |\n",
       "| 1 | 3327 | He sprung from the cabin-window, as he said this, upon the ice-raft which lay close to the vessel.  | 18 | 2 | 0 |\n",
       "| 1 | 3328 | He was soon borne away by the waves, and lost in darkness and distance.                             | 14 | 1 | 0 |\n",
       "| 1 | 3329 | THE END.                                                                                            |  2 | 0 | 0 |\n",
       "\n"
      ],
      "text/plain": [
       "     parent index\n",
       "1    1      1    \n",
       "2    1      2    \n",
       "3    1      3    \n",
       "4    1      4    \n",
       "5    1      5    \n",
       "...  ...    ...  \n",
       "3325 1      3325 \n",
       "3326 1      3326 \n",
       "3327 1      3327 \n",
       "3328 1      3328 \n",
       "3329 1      3329 \n",
       "     text                                                                                                                                               \n",
       "1    FRANKENSTEIN; OR, THE MODERN PROMETHEUS.                                                                                                           \n",
       "2    LETTER I. To Mrs. Saville, England.                                                                                                                \n",
       "3    St. Petersburgh, Dec. 11th, 17--.                                                                                                                  \n",
       "4    You will rejoice to hear that no disaster has accompanied the commencement of an enterprise which you have regarded with such evil forebodings.    \n",
       "5    I arrived here yesterday; and my first task is to assure my dear sister of my welfare, and increasing confidence in the success of my undertaking. \n",
       "...  ...                                                                                                                                                \n",
       "3325 My spirit will sleep in peace; or if it thinks, it will not surely think thus.                                                                     \n",
       "3326 Farewell.\"                                                                                                                                         \n",
       "3327 He sprung from the cabin-window, as he said this, upon the ice-raft which lay close to the vessel.                                                 \n",
       "3328 He was soon borne away by the waves, and lost in darkness and distance.                                                                            \n",
       "3329 THE END.                                                                                                                                           \n",
       "     n_palabras n_comas n_pcomas\n",
       "1     5         1       1       \n",
       "2     6         1       0       \n",
       "3     5         2       0       \n",
       "4    23         0       0       \n",
       "5    26         1       1       \n",
       "...  ...        ...     ...     \n",
       "3325 16         1       1       \n",
       "3326  1         0       0       \n",
       "3327 18         2       0       \n",
       "3328 14         1       0       \n",
       "3329  2         0       0       "
      ]
     },
     "metadata": {},
     "output_type": "display_data"
    }
   ],
   "source": [
    "# https://stackoverflow.com/a/11516135/3113008\n",
    "dra_oraciones$n_palabras = sapply(strsplit(dra_oraciones$text, \" \"), length)\n",
    "# https://stackoverflow.com/a/9671466/3113008\n",
    "dra_oraciones$n_comas = sapply(dra_oraciones$text, function(x) str_count(x, ','))\n",
    "dra_oraciones$n_pcomas = sapply(dra_oraciones$text, function(x) str_count(x, ';'))\n",
    "dra_oraciones\n",
    "                                \n",
    "fra_oraciones$n_palabras = sapply(strsplit(fra_oraciones$text, \" \"), length)\n",
    "fra_oraciones$n_comas = sapply(fra_oraciones$text, function(x) str_count(x, ','))\n",
    "fra_oraciones$n_pcomas = sapply(fra_oraciones$text, function(x) str_count(x, ';'))\n",
    "fra_oraciones"
   ]
  },
  {
   "cell_type": "code",
   "execution_count": 74,
   "metadata": {},
   "outputs": [
    {
     "data": {
      "text/html": [
       "<strong>png:</strong> 2"
      ],
      "text/latex": [
       "\\textbf{png:} 2"
      ],
      "text/markdown": [
       "**png:** 2"
      ],
      "text/plain": [
       "png \n",
       "  2 "
      ]
     },
     "metadata": {},
     "output_type": "display_data"
    },
    {
     "data": {
      "text/html": [
       "<strong>png:</strong> 2"
      ],
      "text/latex": [
       "\\textbf{png:} 2"
      ],
      "text/markdown": [
       "**png:** 2"
      ],
      "text/plain": [
       "png \n",
       "  2 "
      ]
     },
     "metadata": {},
     "output_type": "display_data"
    },
    {
     "data": {
      "text/html": [
       "<strong>png:</strong> 2"
      ],
      "text/latex": [
       "\\textbf{png:} 2"
      ],
      "text/markdown": [
       "**png:** 2"
      ],
      "text/plain": [
       "png \n",
       "  2 "
      ]
     },
     "metadata": {},
     "output_type": "display_data"
    },
    {
     "data": {
      "text/html": [
       "<strong>png:</strong> 2"
      ],
      "text/latex": [
       "\\textbf{png:} 2"
      ],
      "text/markdown": [
       "**png:** 2"
      ],
      "text/plain": [
       "png \n",
       "  2 "
      ]
     },
     "metadata": {},
     "output_type": "display_data"
    },
    {
     "data": {
      "text/html": [
       "<strong>png:</strong> 2"
      ],
      "text/latex": [
       "\\textbf{png:} 2"
      ],
      "text/markdown": [
       "**png:** 2"
      ],
      "text/plain": [
       "png \n",
       "  2 "
      ]
     },
     "metadata": {},
     "output_type": "display_data"
    },
    {
     "data": {
      "text/html": [
       "<strong>png:</strong> 2"
      ],
      "text/latex": [
       "\\textbf{png:} 2"
      ],
      "text/markdown": [
       "**png:** 2"
      ],
      "text/plain": [
       "png \n",
       "  2 "
      ]
     },
     "metadata": {},
     "output_type": "display_data"
    }
   ],
   "source": [
    "pdf('dra_palabras.pdf')\n",
    "a1 = hist(dra_oraciones$n_palabras, ylim=c(0,0.04), xlim=c(0, 150), breaks = 15, main = NULL, freq = FALSE, xlab=\"Palabras por oración\", ylab=\"Densidad\", cex.axis=1.3, cex.lab=1.3)\n",
    "dev.off()\n",
    "pdf('fra_palabras.pdf')\n",
    "a2 = hist(fra_oraciones$n_palabras, ylim=c(0,0.04), xlim=c(0, 150), breaks = 15, main = NULL, freq = FALSE, xlab=\"Palabras por oración\", ylab=\"Densidad\", cex.axis=1.3, cex.lab=1.3)\n",
    "dev.off()\n",
    "\n",
    "pdf('dra_comas.pdf')\n",
    "b2 = hist(fra_oraciones$n_comas, ylim=c(0,0.7), , xlim=c(0,15), breaks = 15, main = NULL, freq = FALSE, xlab=\"Comas por oración\", ylab=\"Densidad\", cex.axis=1.3, cex.lab=1.3)\n",
    "dev.off()\n",
    "\n",
    "pdf('fra_comas.pdf')\n",
    "b1 = hist(dra_oraciones$n_comas, ylim=c(0,0.7), , xlim=c(0,15), breaks = 15, main = NULL, freq = FALSE, xlab=\"Comas por oración\", ylab=\"Densidad\", cex.axis=1.3, cex.lab=1.3)\n",
    "dev.off()\n",
    "\n",
    "pdf('dra_pcomas.pdf')\n",
    "c2 = hist(fra_oraciones$n_pcomas, ylim=c(0,1.2), xlim=c(0, 10), breaks = 5, main=NULL, freq = FALSE, xlab=\"Punto y comas por oración\", ylab=\"Densidad\", cex.axis=1.3, cex.lab=1.3)\n",
    "dev.off()\n",
    "pdf('fra_pcomas.pdf')\n",
    "c1 = hist(dra_oraciones$n_pcomas, ylim=c(0,1.2), xlim=c(0, 10), breaks = 10, main=NULL, freq = FALSE, xlab=\"Punto y comas por oración\", ylab=\"Densidad\", cex.axis=1.3, cex.lab=1.3)\n",
    "dev.off()"
   ]
  },
  {
   "cell_type": "code",
   "execution_count": 18,
   "metadata": {},
   "outputs": [],
   "source": [
    "binom_negativa = function(p, k, r){ # Recibe una probabilidad y una cantidad de veces que se desea que se dé un evento y una cantidad de repeticiones del experimento\n",
    "    resultados = c()\n",
    "    for(i in 1:r){\n",
    "        veces = 0\n",
    "        exitos = 0\n",
    "\n",
    "        while(TRUE){\n",
    "            veces = veces + 1\n",
    "            b = runif(1) < p # Se repite un experimento de Bernoulli\n",
    "            if (b == TRUE){ # hasta que se cumple el experimento\n",
    "                exitos = exitos + 1\n",
    "                if (exitos == k){\n",
    "                    break\n",
    "                }\n",
    "            }\n",
    "        }\n",
    "        resultados = c(resultados, veces)\n",
    "    }\n",
    "    return (resultados)\n",
    "}"
   ]
  },
  {
   "cell_type": "code",
   "execution_count": 19,
   "metadata": {},
   "outputs": [
    {
     "data": {
      "text/html": [
       "<strong>png:</strong> 2"
      ],
      "text/latex": [
       "\\textbf{png:} 2"
      ],
      "text/markdown": [
       "**png:** 2"
      ],
      "text/plain": [
       "png \n",
       "  2 "
      ]
     },
     "metadata": {},
     "output_type": "display_data"
    }
   ],
   "source": [
    "# https://www.dataanalytics.org.uk/plot-two-overlapping-histograms-on-one-chart-in-r/\n",
    "\n",
    "a = hist(dra_oraciones$n_palabras, plot = FALSE)\n",
    "c1 <- rgb(173,216,230,max = 255, alpha = 80, names = \"lt.blue\")\n",
    "c2 <- rgb(255,192,203, max = 255, alpha = 80, names = \"lt.pink\")\n",
    "\n",
    "repeticiones = 9000\n",
    "e = 2\n",
    "p = 0.087\n",
    "c = hist(binom_negativa(p, e, repeticiones), plot = FALSE, breaks=15)\n",
    "pdf(\"palabras.pdf\")\n",
    "plot(a, col = c1, main=NULL, xlab=\"Palabras por oración o repeticiones\", ylab=\"Frecuencia\", cex.axis=1.3, cex.lab=1.3) # Plot 1st histogram using a transparent color\n",
    "plot(c, col = c2, add = T) # Add 2nd histogram using different color\n",
    "legend(70, 2300, legend=c(\"Palabras por oración\", \"Distribución binomial\"), col=c('blue', 'red'), cex=1.3, pt.cex=1.5, pch = c(15,15), )\n",
    "dev.off()"
   ]
  },
  {
   "cell_type": "code",
   "execution_count": 20,
   "metadata": {},
   "outputs": [],
   "source": [
    "geometrica = function(p, r){ # recibe una probabilidad entre 0 y 1 y un número de repeticiones\n",
    "    resultados = c()\n",
    "    for(i in 1:r){\n",
    "        veces = -1\n",
    "\n",
    "        while(TRUE){\n",
    "            veces = veces + 1\n",
    "            b = runif(1) < p # Se repite un experimento de Bernoulli\n",
    "            if (b == TRUE){ # hasta que se cumple el experimento\n",
    "                break\n",
    "            }\n",
    "        }\n",
    "        resultados = c(resultados, veces)\n",
    "    }\n",
    "    return (resultados)\n",
    "}"
   ]
  },
  {
   "cell_type": "code",
   "execution_count": 21,
   "metadata": {},
   "outputs": [
    {
     "data": {
      "text/html": [
       "<strong>png:</strong> 2"
      ],
      "text/latex": [
       "\\textbf{png:} 2"
      ],
      "text/markdown": [
       "**png:** 2"
      ],
      "text/plain": [
       "png \n",
       "  2 "
      ]
     },
     "metadata": {},
     "output_type": "display_data"
    }
   ],
   "source": [
    "repeticiones = 10000\n",
    "p = 0.35\n",
    "b = hist(dra_oraciones$n_comas, plot = FALSE)\n",
    "c = hist(geometrica(p, repeticiones), plot = FALSE, breaks=25)\n",
    "\n",
    "pdf(\"comas.pdf\")\n",
    "plot(b, col = c1, main=NULL, xlab=\"Comas por oración o repeticiones\", ylab=\"Frecuencia\", cex.axis=1.3, cex.lab=1.3) # Plot 1st histogram using a transparent color\n",
    "plot(c, col = c2, add = T, cex.axis=1.3, cex.lab=1.3) # Add 2nd histogram using different color\n",
    "legend(8, 5000, legend=c(\"Comas por oración\", \"Distribución geométrica\"), col=c('blue', 'red'), cex=1.3, pt.cex=1.5, pch = c(15,15), )\n",
    "dev.off()"
   ]
  }
 ],
 "metadata": {
  "kernelspec": {
   "display_name": "R",
   "language": "R",
   "name": "ir"
  },
  "language_info": {
   "codemirror_mode": "r",
   "file_extension": ".r",
   "mimetype": "text/x-r-source",
   "name": "R",
   "pygments_lexer": "r",
   "version": "4.0.2"
  }
 },
 "nbformat": 4,
 "nbformat_minor": 4
}
