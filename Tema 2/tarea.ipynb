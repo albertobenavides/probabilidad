{
 "cells": [
  {
   "cell_type": "markdown",
   "metadata": {},
   "source": [
    "# Conteo, frecuencias"
   ]
  },
  {
   "cell_type": "code",
   "execution_count": 4,
   "metadata": {},
   "outputs": [],
   "source": [
    "if (!require('gutenbergr')) install.packages('gutenbergr'); library('gutenbergr')\n",
    "if (!require('dplyr')) install.packages('dplyr'); library('dplyr')\n",
    "if (!require('tidytext')) install.packages('tidytext'); library('tidytext')"
   ]
  },
  {
   "cell_type": "code",
   "execution_count": 5,
   "metadata": {},
   "outputs": [],
   "source": [
    "libro = gutenberg_download(c(345))"
   ]
  },
  {
   "cell_type": "code",
   "execution_count": 6,
   "metadata": {},
   "outputs": [
    {
     "data": {
      "text/html": [
       "<table>\n",
       "<caption>A tibble: 100 × 2</caption>\n",
       "<thead>\n",
       "\t<tr><th scope=col>gutenberg_id</th><th scope=col>text</th></tr>\n",
       "\t<tr><th scope=col>&lt;int&gt;</th><th scope=col>&lt;chr&gt;</th></tr>\n",
       "</thead>\n",
       "<tbody>\n",
       "\t<tr><td>345</td><td>authentic document; nothing but a mass of typewriting, except the later </td></tr>\n",
       "\t<tr><td>345</td><td>note-books of Mina and Seward and myself, and Van Helsing's memorandum. </td></tr>\n",
       "\t<tr><td>345</td><td>We could hardly ask any one, even did we wish to, to accept these as    </td></tr>\n",
       "\t<tr><td>345</td><td>proofs of so wild a story. Van Helsing summed it all up as he said, with</td></tr>\n",
       "\t<tr><td>345</td><td>our boy on his knee:--                                                  </td></tr>\n",
       "\t<tr><td>345</td><td>                                                                        </td></tr>\n",
       "\t<tr><td>345</td><td>\"We want no proofs; we ask none to believe us! This boy will some day   </td></tr>\n",
       "\t<tr><td>345</td><td>know what a brave and gallant woman his mother is. Already he knows her </td></tr>\n",
       "\t<tr><td>345</td><td>sweetness and loving care; later on he will understand how some men so  </td></tr>\n",
       "\t<tr><td>345</td><td>loved her, that they did dare much for her sake.\"                       </td></tr>\n",
       "\t<tr><td>345</td><td>                                                                        </td></tr>\n",
       "\t<tr><td>345</td><td>JONATHAN HARKER.                                                        </td></tr>\n",
       "\t<tr><td>345</td><td>                                                                        </td></tr>\n",
       "\t<tr><td>345</td><td>                                THE END                                 </td></tr>\n",
       "\t<tr><td>345</td><td>                                                                        </td></tr>\n",
       "\t<tr><td>345</td><td>       *       *       *       *       *                                </td></tr>\n",
       "\t<tr><td>345</td><td>                                                                        </td></tr>\n",
       "\t<tr><td>345</td><td>                       _There's More to Follow!_                        </td></tr>\n",
       "\t<tr><td>345</td><td>                                                                        </td></tr>\n",
       "\t<tr><td>345</td><td>     More stories of the sort you like; more, probably, by the author of</td></tr>\n",
       "\t<tr><td>345</td><td>     this one; more than 500 titles all told by writers of world-wide   </td></tr>\n",
       "\t<tr><td>345</td><td>     reputation, in the Authors' Alphabetical List which you will find  </td></tr>\n",
       "\t<tr><td>345</td><td>     on the _reverse side_ of the wrapper of this book. Look it over    </td></tr>\n",
       "\t<tr><td>345</td><td>     before you lay it aside. There are books here you are sure to      </td></tr>\n",
       "\t<tr><td>345</td><td>     want--some, possibly, that you have _always_ wanted.               </td></tr>\n",
       "\t<tr><td>345</td><td>                                                                        </td></tr>\n",
       "\t<tr><td>345</td><td>     It is a _selected_ list; every book in it has achieved a certain   </td></tr>\n",
       "\t<tr><td>345</td><td>     measure of _success_.                                              </td></tr>\n",
       "\t<tr><td>345</td><td>                                                                        </td></tr>\n",
       "\t<tr><td>345</td><td><span style=white-space:pre-wrap>     The Grosset &amp; Dunlap list is not only the greatest Index of Good   </span></td></tr>\n",
       "\t<tr><td>...</td><td>...</td></tr>\n",
       "\t<tr><td>345</td><td>                                                                      </td></tr>\n",
       "\t<tr><td>345</td><td>THE VALLEY OF HEADSTRONG MEN                                          </td></tr>\n",
       "\t<tr><td>345</td><td>                                                                      </td></tr>\n",
       "\t<tr><td>345</td><td><span style=white-space:pre-wrap>_Ask for Complete free list of G. &amp; D. Popular Copyrighted Fiction_   </span></td></tr>\n",
       "\t<tr><td>345</td><td>                                                                      </td></tr>\n",
       "\t<tr><td>345</td><td><span style=white-space:pre-wrap>GROSSET &amp; DUNLAP, _Publishers_, NEW YORK                              </span></td></tr>\n",
       "\t<tr><td>345</td><td>                                                                      </td></tr>\n",
       "\t<tr><td>345</td><td>       *       *       *       *       *                              </td></tr>\n",
       "\t<tr><td>345</td><td>                                                                      </td></tr>\n",
       "\t<tr><td>345</td><td>Typographical errors corrected by the etext transcriber:              </td></tr>\n",
       "\t<tr><td>345</td><td>                                                                      </td></tr>\n",
       "\t<tr><td>345</td><td><span style=white-space:pre-wrap>in a very simply way=&gt; in a very simple way {pg 68}                   </span></td></tr>\n",
       "\t<tr><td>345</td><td>                                                                      </td></tr>\n",
       "\t<tr><td>345</td><td>\"The Westminister Gazette,\" 25 September.=&gt; \"The Westminster Gazette,\"</td></tr>\n",
       "\t<tr><td>345</td><td>25 September. {pg 165}                                                </td></tr>\n",
       "\t<tr><td>345</td><td>                                                                      </td></tr>\n",
       "\t<tr><td>345</td><td><span style=white-space:pre-wrap>It have told him=&gt; She must have told him {pg 169}                    </span></td></tr>\n",
       "\t<tr><td>345</td><td>                                                                      </td></tr>\n",
       "\t<tr><td>345</td><td><span style=white-space:pre-wrap>from md sight=&gt; from my sight {pg}184                                 </span></td></tr>\n",
       "\t<tr><td>345</td><td>                                                                      </td></tr>\n",
       "\t<tr><td>345</td><td><span style=white-space:pre-wrap>Goldaming=&gt; Godalming {pg 226}                                        </span></td></tr>\n",
       "\t<tr><td>345</td><td>                                                                      </td></tr>\n",
       "\t<tr><td>345</td><td>I I did not want to hinder him=&gt; I did not want to hinder him {pg 267}</td></tr>\n",
       "\t<tr><td>345</td><td>                                                                      </td></tr>\n",
       "\t<tr><td>345</td><td><span style=white-space:pre-wrap>They lay in a sort of or-orderly=&gt; They lay in a sort of orderly {pg  </span></td></tr>\n",
       "\t<tr><td>345</td><td>279}                                                                  </td></tr>\n",
       "\t<tr><td>345</td><td>                                                                      </td></tr>\n",
       "\t<tr><td>345</td><td><span style=white-space:pre-wrap>Translyvania=&gt; Transylvania {pg 294}                                  </span></td></tr>\n",
       "\t<tr><td>345</td><td>                                                                      </td></tr>\n",
       "\t<tr><td>345</td><td>this mrrning from Dardanelles=&gt; this morning from Dardanelles {pg 313}</td></tr>\n",
       "</tbody>\n",
       "</table>\n"
      ],
      "text/latex": [
       "A tibble: 100 × 2\n",
       "\\begin{tabular}{ll}\n",
       " gutenberg\\_id & text\\\\\n",
       " <int> & <chr>\\\\\n",
       "\\hline\n",
       "\t 345 & authentic document; nothing but a mass of typewriting, except the later \\\\\n",
       "\t 345 & note-books of Mina and Seward and myself, and Van Helsing's memorandum. \\\\\n",
       "\t 345 & We could hardly ask any one, even did we wish to, to accept these as    \\\\\n",
       "\t 345 & proofs of so wild a story. Van Helsing summed it all up as he said, with\\\\\n",
       "\t 345 & our boy on his knee:--                                                  \\\\\n",
       "\t 345 &                                                                         \\\\\n",
       "\t 345 & \"We want no proofs; we ask none to believe us! This boy will some day   \\\\\n",
       "\t 345 & know what a brave and gallant woman his mother is. Already he knows her \\\\\n",
       "\t 345 & sweetness and loving care; later on he will understand how some men so  \\\\\n",
       "\t 345 & loved her, that they did dare much for her sake.\"                       \\\\\n",
       "\t 345 &                                                                         \\\\\n",
       "\t 345 & JONATHAN HARKER.                                                        \\\\\n",
       "\t 345 &                                                                         \\\\\n",
       "\t 345 &                                 THE END                                 \\\\\n",
       "\t 345 &                                                                         \\\\\n",
       "\t 345 &        *       *       *       *       *                                \\\\\n",
       "\t 345 &                                                                         \\\\\n",
       "\t 345 &                        \\_There's More to Follow!\\_                        \\\\\n",
       "\t 345 &                                                                         \\\\\n",
       "\t 345 &      More stories of the sort you like; more, probably, by the author of\\\\\n",
       "\t 345 &      this one; more than 500 titles all told by writers of world-wide   \\\\\n",
       "\t 345 &      reputation, in the Authors' Alphabetical List which you will find  \\\\\n",
       "\t 345 &      on the \\_reverse side\\_ of the wrapper of this book. Look it over    \\\\\n",
       "\t 345 &      before you lay it aside. There are books here you are sure to      \\\\\n",
       "\t 345 &      want--some, possibly, that you have \\_always\\_ wanted.               \\\\\n",
       "\t 345 &                                                                         \\\\\n",
       "\t 345 &      It is a \\_selected\\_ list; every book in it has achieved a certain   \\\\\n",
       "\t 345 &      measure of \\_success\\_.                                              \\\\\n",
       "\t 345 &                                                                         \\\\\n",
       "\t 345 &      The Grosset \\& Dunlap list is not only the greatest Index of Good   \\\\\n",
       "\t ... & ...\\\\\n",
       "\t 345 &                                                                       \\\\\n",
       "\t 345 & THE VALLEY OF HEADSTRONG MEN                                          \\\\\n",
       "\t 345 &                                                                       \\\\\n",
       "\t 345 & \\_Ask for Complete free list of G. \\& D. Popular Copyrighted Fiction\\_   \\\\\n",
       "\t 345 &                                                                       \\\\\n",
       "\t 345 & GROSSET \\& DUNLAP, \\_Publishers\\_, NEW YORK                              \\\\\n",
       "\t 345 &                                                                       \\\\\n",
       "\t 345 &        *       *       *       *       *                              \\\\\n",
       "\t 345 &                                                                       \\\\\n",
       "\t 345 & Typographical errors corrected by the etext transcriber:              \\\\\n",
       "\t 345 &                                                                       \\\\\n",
       "\t 345 & in a very simply way=> in a very simple way \\{pg 68\\}                   \\\\\n",
       "\t 345 &                                                                       \\\\\n",
       "\t 345 & \"The Westminister Gazette,\" 25 September.=> \"The Westminster Gazette,\"\\\\\n",
       "\t 345 & 25 September. \\{pg 165\\}                                                \\\\\n",
       "\t 345 &                                                                       \\\\\n",
       "\t 345 & It have told him=> She must have told him \\{pg 169\\}                    \\\\\n",
       "\t 345 &                                                                       \\\\\n",
       "\t 345 & from md sight=> from my sight \\{pg\\}184                                 \\\\\n",
       "\t 345 &                                                                       \\\\\n",
       "\t 345 & Goldaming=> Godalming \\{pg 226\\}                                        \\\\\n",
       "\t 345 &                                                                       \\\\\n",
       "\t 345 & I I did not want to hinder him=> I did not want to hinder him \\{pg 267\\}\\\\\n",
       "\t 345 &                                                                       \\\\\n",
       "\t 345 & They lay in a sort of or-orderly=> They lay in a sort of orderly \\{pg  \\\\\n",
       "\t 345 & 279\\}                                                                  \\\\\n",
       "\t 345 &                                                                       \\\\\n",
       "\t 345 & Translyvania=> Transylvania \\{pg 294\\}                                  \\\\\n",
       "\t 345 &                                                                       \\\\\n",
       "\t 345 & this mrrning from Dardanelles=> this morning from Dardanelles \\{pg 313\\}\\\\\n",
       "\\end{tabular}\n"
      ],
      "text/markdown": [
       "\n",
       "A tibble: 100 × 2\n",
       "\n",
       "| gutenberg_id &lt;int&gt; | text &lt;chr&gt; |\n",
       "|---|---|\n",
       "| 345 | authentic document; nothing but a mass of typewriting, except the later  |\n",
       "| 345 | note-books of Mina and Seward and myself, and Van Helsing's memorandum.  |\n",
       "| 345 | We could hardly ask any one, even did we wish to, to accept these as     |\n",
       "| 345 | proofs of so wild a story. Van Helsing summed it all up as he said, with |\n",
       "| 345 | our boy on his knee:--                                                   |\n",
       "| 345 | <!----> |\n",
       "| 345 | \"We want no proofs; we ask none to believe us! This boy will some day    |\n",
       "| 345 | know what a brave and gallant woman his mother is. Already he knows her  |\n",
       "| 345 | sweetness and loving care; later on he will understand how some men so   |\n",
       "| 345 | loved her, that they did dare much for her sake.\"                        |\n",
       "| 345 | <!----> |\n",
       "| 345 | JONATHAN HARKER.                                                         |\n",
       "| 345 | <!----> |\n",
       "| 345 |                                 THE END                                  |\n",
       "| 345 | <!----> |\n",
       "| 345 |        *       *       *       *       *                                 |\n",
       "| 345 | <!----> |\n",
       "| 345 |                        _There's More to Follow!_                         |\n",
       "| 345 | <!----> |\n",
       "| 345 |      More stories of the sort you like; more, probably, by the author of |\n",
       "| 345 |      this one; more than 500 titles all told by writers of world-wide    |\n",
       "| 345 |      reputation, in the Authors' Alphabetical List which you will find   |\n",
       "| 345 |      on the _reverse side_ of the wrapper of this book. Look it over     |\n",
       "| 345 |      before you lay it aside. There are books here you are sure to       |\n",
       "| 345 |      want--some, possibly, that you have _always_ wanted.                |\n",
       "| 345 | <!----> |\n",
       "| 345 |      It is a _selected_ list; every book in it has achieved a certain    |\n",
       "| 345 |      measure of _success_.                                               |\n",
       "| 345 | <!----> |\n",
       "| 345 |      The Grosset &amp; Dunlap list is not only the greatest Index of Good    |\n",
       "| ... | ... |\n",
       "| 345 | <!----> |\n",
       "| 345 | THE VALLEY OF HEADSTRONG MEN                                           |\n",
       "| 345 | <!----> |\n",
       "| 345 | _Ask for Complete free list of G. &amp; D. Popular Copyrighted Fiction_    |\n",
       "| 345 | <!----> |\n",
       "| 345 | GROSSET &amp; DUNLAP, _Publishers_, NEW YORK                               |\n",
       "| 345 | <!----> |\n",
       "| 345 |        *       *       *       *       *                               |\n",
       "| 345 | <!----> |\n",
       "| 345 | Typographical errors corrected by the etext transcriber:               |\n",
       "| 345 | <!----> |\n",
       "| 345 | in a very simply way=&gt; in a very simple way {pg 68}                    |\n",
       "| 345 | <!----> |\n",
       "| 345 | \"The Westminister Gazette,\" 25 September.=&gt; \"The Westminster Gazette,\" |\n",
       "| 345 | 25 September. {pg 165}                                                 |\n",
       "| 345 | <!----> |\n",
       "| 345 | It have told him=&gt; She must have told him {pg 169}                     |\n",
       "| 345 | <!----> |\n",
       "| 345 | from md sight=&gt; from my sight {pg}184                                  |\n",
       "| 345 | <!----> |\n",
       "| 345 | Goldaming=&gt; Godalming {pg 226}                                         |\n",
       "| 345 | <!----> |\n",
       "| 345 | I I did not want to hinder him=&gt; I did not want to hinder him {pg 267} |\n",
       "| 345 | <!----> |\n",
       "| 345 | They lay in a sort of or-orderly=&gt; They lay in a sort of orderly {pg   |\n",
       "| 345 | 279}                                                                   |\n",
       "| 345 | <!----> |\n",
       "| 345 | Translyvania=&gt; Transylvania {pg 294}                                   |\n",
       "| 345 | <!----> |\n",
       "| 345 | this mrrning from Dardanelles=&gt; this morning from Dardanelles {pg 313} |\n",
       "\n"
      ],
      "text/plain": [
       "    gutenberg_id\n",
       "1   345         \n",
       "2   345         \n",
       "3   345         \n",
       "4   345         \n",
       "5   345         \n",
       "6   345         \n",
       "7   345         \n",
       "8   345         \n",
       "9   345         \n",
       "10  345         \n",
       "11  345         \n",
       "12  345         \n",
       "13  345         \n",
       "14  345         \n",
       "15  345         \n",
       "16  345         \n",
       "17  345         \n",
       "18  345         \n",
       "19  345         \n",
       "20  345         \n",
       "21  345         \n",
       "22  345         \n",
       "23  345         \n",
       "24  345         \n",
       "25  345         \n",
       "26  345         \n",
       "27  345         \n",
       "28  345         \n",
       "29  345         \n",
       "30  345         \n",
       "... ...         \n",
       "71  345         \n",
       "72  345         \n",
       "73  345         \n",
       "74  345         \n",
       "75  345         \n",
       "76  345         \n",
       "77  345         \n",
       "78  345         \n",
       "79  345         \n",
       "80  345         \n",
       "81  345         \n",
       "82  345         \n",
       "83  345         \n",
       "84  345         \n",
       "85  345         \n",
       "86  345         \n",
       "87  345         \n",
       "88  345         \n",
       "89  345         \n",
       "90  345         \n",
       "91  345         \n",
       "92  345         \n",
       "93  345         \n",
       "94  345         \n",
       "95  345         \n",
       "96  345         \n",
       "97  345         \n",
       "98  345         \n",
       "99  345         \n",
       "100 345         \n",
       "    text                                                                    \n",
       "1   authentic document; nothing but a mass of typewriting, except the later \n",
       "2   note-books of Mina and Seward and myself, and Van Helsing's memorandum. \n",
       "3   We could hardly ask any one, even did we wish to, to accept these as    \n",
       "4   proofs of so wild a story. Van Helsing summed it all up as he said, with\n",
       "5   our boy on his knee:--                                                  \n",
       "6                                                                           \n",
       "7   \"We want no proofs; we ask none to believe us! This boy will some day   \n",
       "8   know what a brave and gallant woman his mother is. Already he knows her \n",
       "9   sweetness and loving care; later on he will understand how some men so  \n",
       "10  loved her, that they did dare much for her sake.\"                       \n",
       "11                                                                          \n",
       "12  JONATHAN HARKER.                                                        \n",
       "13                                                                          \n",
       "14                                  THE END                                 \n",
       "15                                                                          \n",
       "16         *       *       *       *       *                                \n",
       "17                                                                          \n",
       "18                         _There's More to Follow!_                        \n",
       "19                                                                          \n",
       "20       More stories of the sort you like; more, probably, by the author of\n",
       "21       this one; more than 500 titles all told by writers of world-wide   \n",
       "22       reputation, in the Authors' Alphabetical List which you will find  \n",
       "23       on the _reverse side_ of the wrapper of this book. Look it over    \n",
       "24       before you lay it aside. There are books here you are sure to      \n",
       "25       want--some, possibly, that you have _always_ wanted.               \n",
       "26                                                                          \n",
       "27       It is a _selected_ list; every book in it has achieved a certain   \n",
       "28       measure of _success_.                                              \n",
       "29                                                                          \n",
       "30       The Grosset & Dunlap list is not only the greatest Index of Good   \n",
       "... ...                                                                     \n",
       "71                                                                          \n",
       "72  THE VALLEY OF HEADSTRONG MEN                                            \n",
       "73                                                                          \n",
       "74  _Ask for Complete free list of G. & D. Popular Copyrighted Fiction_     \n",
       "75                                                                          \n",
       "76  GROSSET & DUNLAP, _Publishers_, NEW YORK                                \n",
       "77                                                                          \n",
       "78         *       *       *       *       *                                \n",
       "79                                                                          \n",
       "80  Typographical errors corrected by the etext transcriber:                \n",
       "81                                                                          \n",
       "82  in a very simply way=> in a very simple way {pg 68}                     \n",
       "83                                                                          \n",
       "84  \"The Westminister Gazette,\" 25 September.=> \"The Westminster Gazette,\"  \n",
       "85  25 September. {pg 165}                                                  \n",
       "86                                                                          \n",
       "87  It have told him=> She must have told him {pg 169}                      \n",
       "88                                                                          \n",
       "89  from md sight=> from my sight {pg}184                                   \n",
       "90                                                                          \n",
       "91  Goldaming=> Godalming {pg 226}                                          \n",
       "92                                                                          \n",
       "93  I I did not want to hinder him=> I did not want to hinder him {pg 267}  \n",
       "94                                                                          \n",
       "95  They lay in a sort of or-orderly=> They lay in a sort of orderly {pg    \n",
       "96  279}                                                                    \n",
       "97                                                                          \n",
       "98  Translyvania=> Transylvania {pg 294}                                    \n",
       "99                                                                          \n",
       "100 this mrrning from Dardanelles=> this morning from Dardanelles {pg 313}  "
      ]
     },
     "metadata": {},
     "output_type": "display_data"
    }
   ],
   "source": [
    "tail(libro, 100)"
   ]
  },
  {
   "cell_type": "markdown",
   "metadata": {},
   "source": [
    "Hay una sección de erratas y otros datos que se escapan del contenido del libro, por lo que se procederá a eliminarlos, lo que sucede a partir de la línea que contienen \"THE END\"."
   ]
  },
  {
   "cell_type": "code",
   "execution_count": 7,
   "metadata": {},
   "outputs": [],
   "source": [
    "t = grep(\"THE END\", libro$text) # línea donde se termina el libro\n",
    "\n",
    "libro2 = libro[1:t, ]"
   ]
  },
  {
   "cell_type": "code",
   "execution_count": 8,
   "metadata": {},
   "outputs": [
    {
     "data": {
      "text/html": [
       "<table>\n",
       "<caption>A tibble: 6 × 2</caption>\n",
       "<thead>\n",
       "\t<tr><th scope=col>gutenberg_id</th><th scope=col>text</th></tr>\n",
       "\t<tr><th scope=col>&lt;int&gt;</th><th scope=col>&lt;chr&gt;</th></tr>\n",
       "</thead>\n",
       "<tbody>\n",
       "\t<tr><td>345</td><td>sweetness and loving care; later on he will understand how some men so</td></tr>\n",
       "\t<tr><td>345</td><td>loved her, that they did dare much for her sake.\"                     </td></tr>\n",
       "\t<tr><td>345</td><td>                                                                      </td></tr>\n",
       "\t<tr><td>345</td><td>JONATHAN HARKER.                                                      </td></tr>\n",
       "\t<tr><td>345</td><td>                                                                      </td></tr>\n",
       "\t<tr><td>345</td><td>                                THE END                               </td></tr>\n",
       "</tbody>\n",
       "</table>\n"
      ],
      "text/latex": [
       "A tibble: 6 × 2\n",
       "\\begin{tabular}{ll}\n",
       " gutenberg\\_id & text\\\\\n",
       " <int> & <chr>\\\\\n",
       "\\hline\n",
       "\t 345 & sweetness and loving care; later on he will understand how some men so\\\\\n",
       "\t 345 & loved her, that they did dare much for her sake.\"                     \\\\\n",
       "\t 345 &                                                                       \\\\\n",
       "\t 345 & JONATHAN HARKER.                                                      \\\\\n",
       "\t 345 &                                                                       \\\\\n",
       "\t 345 &                                 THE END                               \\\\\n",
       "\\end{tabular}\n"
      ],
      "text/markdown": [
       "\n",
       "A tibble: 6 × 2\n",
       "\n",
       "| gutenberg_id &lt;int&gt; | text &lt;chr&gt; |\n",
       "|---|---|\n",
       "| 345 | sweetness and loving care; later on he will understand how some men so |\n",
       "| 345 | loved her, that they did dare much for her sake.\"                      |\n",
       "| 345 | <!----> |\n",
       "| 345 | JONATHAN HARKER.                                                       |\n",
       "| 345 | <!----> |\n",
       "| 345 |                                 THE END                                |\n",
       "\n"
      ],
      "text/plain": [
       "  gutenberg_id\n",
       "1 345         \n",
       "2 345         \n",
       "3 345         \n",
       "4 345         \n",
       "5 345         \n",
       "6 345         \n",
       "  text                                                                  \n",
       "1 sweetness and loving care; later on he will understand how some men so\n",
       "2 loved her, that they did dare much for her sake.\"                     \n",
       "3                                                                       \n",
       "4 JONATHAN HARKER.                                                      \n",
       "5                                                                       \n",
       "6                                 THE END                               "
      ]
     },
     "metadata": {},
     "output_type": "display_data"
    }
   ],
   "source": [
    "tail(libro2)"
   ]
  },
  {
   "cell_type": "markdown",
   "metadata": {},
   "source": [
    "Ahora se procede a extraer los caracteres usados y las palabras completas."
   ]
  },
  {
   "cell_type": "code",
   "execution_count": 9,
   "metadata": {},
   "outputs": [
    {
     "data": {
      "text/html": [
       "<table>\n",
       "<caption>A tibble: 6 × 2</caption>\n",
       "<thead>\n",
       "\t<tr><th scope=col>gutenberg_id</th><th scope=col>letras</th></tr>\n",
       "\t<tr><th scope=col>&lt;int&gt;</th><th scope=col>&lt;chr&gt;</th></tr>\n",
       "</thead>\n",
       "<tbody>\n",
       "\t<tr><td>345</td><td>d</td></tr>\n",
       "\t<tr><td>345</td><td>r</td></tr>\n",
       "\t<tr><td>345</td><td>a</td></tr>\n",
       "\t<tr><td>345</td><td>c</td></tr>\n",
       "\t<tr><td>345</td><td>u</td></tr>\n",
       "\t<tr><td>345</td><td>l</td></tr>\n",
       "</tbody>\n",
       "</table>\n"
      ],
      "text/latex": [
       "A tibble: 6 × 2\n",
       "\\begin{tabular}{ll}\n",
       " gutenberg\\_id & letras\\\\\n",
       " <int> & <chr>\\\\\n",
       "\\hline\n",
       "\t 345 & d\\\\\n",
       "\t 345 & r\\\\\n",
       "\t 345 & a\\\\\n",
       "\t 345 & c\\\\\n",
       "\t 345 & u\\\\\n",
       "\t 345 & l\\\\\n",
       "\\end{tabular}\n"
      ],
      "text/markdown": [
       "\n",
       "A tibble: 6 × 2\n",
       "\n",
       "| gutenberg_id &lt;int&gt; | letras &lt;chr&gt; |\n",
       "|---|---|\n",
       "| 345 | d |\n",
       "| 345 | r |\n",
       "| 345 | a |\n",
       "| 345 | c |\n",
       "| 345 | u |\n",
       "| 345 | l |\n",
       "\n"
      ],
      "text/plain": [
       "  gutenberg_id letras\n",
       "1 345          d     \n",
       "2 345          r     \n",
       "3 345          a     \n",
       "4 345          c     \n",
       "5 345          u     \n",
       "6 345          l     "
      ]
     },
     "metadata": {},
     "output_type": "display_data"
    }
   ],
   "source": [
    "letras = libro2 %>% unnest_tokens(letras, text, \"characters\")\n",
    "head(letras)"
   ]
  },
  {
   "cell_type": "code",
   "execution_count": 10,
   "metadata": {},
   "outputs": [
    {
     "data": {
      "text/html": [
       "<table>\n",
       "<caption>A tibble: 6 × 2</caption>\n",
       "<thead>\n",
       "\t<tr><th scope=col>gutenberg_id</th><th scope=col>word</th></tr>\n",
       "\t<tr><th scope=col>&lt;int&gt;</th><th scope=col>&lt;chr&gt;</th></tr>\n",
       "</thead>\n",
       "<tbody>\n",
       "\t<tr><td>345</td><td>dracula     </td></tr>\n",
       "\t<tr><td>345</td><td>dracula     </td></tr>\n",
       "\t<tr><td>345</td><td>_by_        </td></tr>\n",
       "\t<tr><td>345</td><td>bram        </td></tr>\n",
       "\t<tr><td>345</td><td>stoker      </td></tr>\n",
       "\t<tr><td>345</td><td>illustration</td></tr>\n",
       "</tbody>\n",
       "</table>\n"
      ],
      "text/latex": [
       "A tibble: 6 × 2\n",
       "\\begin{tabular}{ll}\n",
       " gutenberg\\_id & word\\\\\n",
       " <int> & <chr>\\\\\n",
       "\\hline\n",
       "\t 345 & dracula     \\\\\n",
       "\t 345 & dracula     \\\\\n",
       "\t 345 & \\_by\\_        \\\\\n",
       "\t 345 & bram        \\\\\n",
       "\t 345 & stoker      \\\\\n",
       "\t 345 & illustration\\\\\n",
       "\\end{tabular}\n"
      ],
      "text/markdown": [
       "\n",
       "A tibble: 6 × 2\n",
       "\n",
       "| gutenberg_id &lt;int&gt; | word &lt;chr&gt; |\n",
       "|---|---|\n",
       "| 345 | dracula      |\n",
       "| 345 | dracula      |\n",
       "| 345 | _by_         |\n",
       "| 345 | bram         |\n",
       "| 345 | stoker       |\n",
       "| 345 | illustration |\n",
       "\n"
      ],
      "text/plain": [
       "  gutenberg_id word        \n",
       "1 345          dracula     \n",
       "2 345          dracula     \n",
       "3 345          _by_        \n",
       "4 345          bram        \n",
       "5 345          stoker      \n",
       "6 345          illustration"
      ]
     },
     "metadata": {},
     "output_type": "display_data"
    }
   ],
   "source": [
    "palabras = libro2 %>% unnest_tokens(word, text, \"words\")\n",
    "head(palabras)"
   ]
  },
  {
   "cell_type": "markdown",
   "metadata": {},
   "source": [
    "El conteo de letras y palabras puede extraerse mediante la función `table`"
   ]
  },
  {
   "cell_type": "code",
   "execution_count": 11,
   "metadata": {},
   "outputs": [],
   "source": [
    "t_letras = table(letras)\n",
    "t_palabras = table(palabras)"
   ]
  },
  {
   "cell_type": "markdown",
   "metadata": {},
   "source": [
    "Para poder graficar los diagramas de frecuencias, ambas se convierten a `data.frame`."
   ]
  },
  {
   "cell_type": "code",
   "execution_count": 12,
   "metadata": {},
   "outputs": [
    {
     "data": {
      "text/html": [
       "<table>\n",
       "<caption>A data.frame: 6 × 3</caption>\n",
       "<thead>\n",
       "\t<tr><th></th><th scope=col>gutenberg_id</th><th scope=col>letras</th><th scope=col>Freq</th></tr>\n",
       "\t<tr><th></th><th scope=col>&lt;fct&gt;</th><th scope=col>&lt;fct&gt;</th><th scope=col>&lt;int&gt;</th></tr>\n",
       "</thead>\n",
       "<tbody>\n",
       "\t<tr><th scope=row>1</th><td>345</td><td>0</td><td> 44</td></tr>\n",
       "\t<tr><th scope=row>2</th><td>345</td><td>1</td><td>119</td></tr>\n",
       "\t<tr><th scope=row>3</th><td>345</td><td>2</td><td>101</td></tr>\n",
       "\t<tr><th scope=row>4</th><td>345</td><td>3</td><td> 60</td></tr>\n",
       "\t<tr><th scope=row>5</th><td>345</td><td>4</td><td> 41</td></tr>\n",
       "\t<tr><th scope=row>6</th><td>345</td><td>5</td><td> 38</td></tr>\n",
       "</tbody>\n",
       "</table>\n"
      ],
      "text/latex": [
       "A data.frame: 6 × 3\n",
       "\\begin{tabular}{r|lll}\n",
       "  & gutenberg\\_id & letras & Freq\\\\\n",
       "  & <fct> & <fct> & <int>\\\\\n",
       "\\hline\n",
       "\t1 & 345 & 0 &  44\\\\\n",
       "\t2 & 345 & 1 & 119\\\\\n",
       "\t3 & 345 & 2 & 101\\\\\n",
       "\t4 & 345 & 3 &  60\\\\\n",
       "\t5 & 345 & 4 &  41\\\\\n",
       "\t6 & 345 & 5 &  38\\\\\n",
       "\\end{tabular}\n"
      ],
      "text/markdown": [
       "\n",
       "A data.frame: 6 × 3\n",
       "\n",
       "| <!--/--> | gutenberg_id &lt;fct&gt; | letras &lt;fct&gt; | Freq &lt;int&gt; |\n",
       "|---|---|---|---|\n",
       "| 1 | 345 | 0 |  44 |\n",
       "| 2 | 345 | 1 | 119 |\n",
       "| 3 | 345 | 2 | 101 |\n",
       "| 4 | 345 | 3 |  60 |\n",
       "| 5 | 345 | 4 |  41 |\n",
       "| 6 | 345 | 5 |  38 |\n",
       "\n"
      ],
      "text/plain": [
       "  gutenberg_id letras Freq\n",
       "1 345          0       44 \n",
       "2 345          1      119 \n",
       "3 345          2      101 \n",
       "4 345          3       60 \n",
       "5 345          4       41 \n",
       "6 345          5       38 "
      ]
     },
     "metadata": {},
     "output_type": "display_data"
    },
    {
     "data": {
      "text/html": [
       "<table>\n",
       "<caption>A data.frame: 6 × 3</caption>\n",
       "<thead>\n",
       "\t<tr><th></th><th scope=col>gutenberg_id</th><th scope=col>word</th><th scope=col>Freq</th></tr>\n",
       "\t<tr><th></th><th scope=col>&lt;fct&gt;</th><th scope=col>&lt;fct&gt;</th><th scope=col>&lt;int&gt;</th></tr>\n",
       "</thead>\n",
       "<tbody>\n",
       "\t<tr><th scope=row>1</th><td>345</td><td>_1 </td><td>13</td></tr>\n",
       "\t<tr><th scope=row>2</th><td>345</td><td>_10</td><td> 3</td></tr>\n",
       "\t<tr><th scope=row>3</th><td>345</td><td>_11</td><td> 5</td></tr>\n",
       "\t<tr><th scope=row>4</th><td>345</td><td>_12</td><td> 4</td></tr>\n",
       "\t<tr><th scope=row>5</th><td>345</td><td>_13</td><td> 2</td></tr>\n",
       "\t<tr><th scope=row>6</th><td>345</td><td>_14</td><td> 1</td></tr>\n",
       "</tbody>\n",
       "</table>\n"
      ],
      "text/latex": [
       "A data.frame: 6 × 3\n",
       "\\begin{tabular}{r|lll}\n",
       "  & gutenberg\\_id & word & Freq\\\\\n",
       "  & <fct> & <fct> & <int>\\\\\n",
       "\\hline\n",
       "\t1 & 345 & \\_1  & 13\\\\\n",
       "\t2 & 345 & \\_10 &  3\\\\\n",
       "\t3 & 345 & \\_11 &  5\\\\\n",
       "\t4 & 345 & \\_12 &  4\\\\\n",
       "\t5 & 345 & \\_13 &  2\\\\\n",
       "\t6 & 345 & \\_14 &  1\\\\\n",
       "\\end{tabular}\n"
      ],
      "text/markdown": [
       "\n",
       "A data.frame: 6 × 3\n",
       "\n",
       "| <!--/--> | gutenberg_id &lt;fct&gt; | word &lt;fct&gt; | Freq &lt;int&gt; |\n",
       "|---|---|---|---|\n",
       "| 1 | 345 | _1  | 13 |\n",
       "| 2 | 345 | _10 |  3 |\n",
       "| 3 | 345 | _11 |  5 |\n",
       "| 4 | 345 | _12 |  4 |\n",
       "| 5 | 345 | _13 |  2 |\n",
       "| 6 | 345 | _14 |  1 |\n",
       "\n"
      ],
      "text/plain": [
       "  gutenberg_id word Freq\n",
       "1 345          _1   13  \n",
       "2 345          _10   3  \n",
       "3 345          _11   5  \n",
       "4 345          _12   4  \n",
       "5 345          _13   2  \n",
       "6 345          _14   1  "
      ]
     },
     "metadata": {},
     "output_type": "display_data"
    }
   ],
   "source": [
    "df_letras = as.data.frame(t_letras)\n",
    "df_palabras = as.data.frame(t_palabras)\n",
    "\n",
    "head(df_letras)\n",
    "head(df_palabras)"
   ]
  },
  {
   "cell_type": "markdown",
   "metadata": {},
   "source": [
    "En ambos, la primera columna indica el índice del libro en el sitio Project Gutemberg, así que se eliminará."
   ]
  },
  {
   "cell_type": "code",
   "execution_count": 13,
   "metadata": {},
   "outputs": [],
   "source": [
    "# https://stackoverflow.com/a/6286336/3113008\n",
    "df_letras$gutenberg_id <- NULL\n",
    "df_palabras$gutenberg_id <- NULL"
   ]
  },
  {
   "cell_type": "markdown",
   "metadata": {},
   "source": [
    "Ahora se ordenan de manera descendiente por frecuencia."
   ]
  },
  {
   "cell_type": "code",
   "execution_count": 14,
   "metadata": {},
   "outputs": [
    {
     "data": {
      "text/html": [
       "<table>\n",
       "<caption>A data.frame: 6 × 2</caption>\n",
       "<thead>\n",
       "\t<tr><th></th><th scope=col>letras</th><th scope=col>Freq</th></tr>\n",
       "\t<tr><th></th><th scope=col>&lt;fct&gt;</th><th scope=col>&lt;int&gt;</th></tr>\n",
       "</thead>\n",
       "<tbody>\n",
       "\t<tr><th scope=row>15</th><td>e</td><td>79735</td></tr>\n",
       "\t<tr><th scope=row>30</th><td>t</td><td>58469</td></tr>\n",
       "\t<tr><th scope=row>11</th><td>a</td><td>52682</td></tr>\n",
       "\t<tr><th scope=row>25</th><td>o</td><td>50577</td></tr>\n",
       "\t<tr><th scope=row>24</th><td>n</td><td>43841</td></tr>\n",
       "\t<tr><th scope=row>18</th><td>h</td><td>43487</td></tr>\n",
       "</tbody>\n",
       "</table>\n"
      ],
      "text/latex": [
       "A data.frame: 6 × 2\n",
       "\\begin{tabular}{r|ll}\n",
       "  & letras & Freq\\\\\n",
       "  & <fct> & <int>\\\\\n",
       "\\hline\n",
       "\t15 & e & 79735\\\\\n",
       "\t30 & t & 58469\\\\\n",
       "\t11 & a & 52682\\\\\n",
       "\t25 & o & 50577\\\\\n",
       "\t24 & n & 43841\\\\\n",
       "\t18 & h & 43487\\\\\n",
       "\\end{tabular}\n"
      ],
      "text/markdown": [
       "\n",
       "A data.frame: 6 × 2\n",
       "\n",
       "| <!--/--> | letras &lt;fct&gt; | Freq &lt;int&gt; |\n",
       "|---|---|---|\n",
       "| 15 | e | 79735 |\n",
       "| 30 | t | 58469 |\n",
       "| 11 | a | 52682 |\n",
       "| 25 | o | 50577 |\n",
       "| 24 | n | 43841 |\n",
       "| 18 | h | 43487 |\n",
       "\n"
      ],
      "text/plain": [
       "   letras Freq \n",
       "15 e      79735\n",
       "30 t      58469\n",
       "11 a      52682\n",
       "25 o      50577\n",
       "24 n      43841\n",
       "18 h      43487"
      ]
     },
     "metadata": {},
     "output_type": "display_data"
    },
    {
     "data": {
      "text/html": [
       "<table>\n",
       "<caption>A data.frame: 6 × 2</caption>\n",
       "<thead>\n",
       "\t<tr><th></th><th scope=col>word</th><th scope=col>Freq</th></tr>\n",
       "\t<tr><th></th><th scope=col>&lt;fct&gt;</th><th scope=col>&lt;int&gt;</th></tr>\n",
       "</thead>\n",
       "<tbody>\n",
       "\t<tr><th scope=row>8494</th><td>the</td><td>7882</td></tr>\n",
       "\t<tr><th scope=row>531</th><td>and</td><td>5905</td></tr>\n",
       "\t<tr><th scope=row>4314</th><td>i  </td><td>4798</td></tr>\n",
       "\t<tr><th scope=row>8627</th><td>to </td><td>4659</td></tr>\n",
       "\t<tr><th scope=row>5772</th><td>of </td><td>3614</td></tr>\n",
       "\t<tr><th scope=row>247</th><td>a  </td><td>2946</td></tr>\n",
       "</tbody>\n",
       "</table>\n"
      ],
      "text/latex": [
       "A data.frame: 6 × 2\n",
       "\\begin{tabular}{r|ll}\n",
       "  & word & Freq\\\\\n",
       "  & <fct> & <int>\\\\\n",
       "\\hline\n",
       "\t8494 & the & 7882\\\\\n",
       "\t531 & and & 5905\\\\\n",
       "\t4314 & i   & 4798\\\\\n",
       "\t8627 & to  & 4659\\\\\n",
       "\t5772 & of  & 3614\\\\\n",
       "\t247 & a   & 2946\\\\\n",
       "\\end{tabular}\n"
      ],
      "text/markdown": [
       "\n",
       "A data.frame: 6 × 2\n",
       "\n",
       "| <!--/--> | word &lt;fct&gt; | Freq &lt;int&gt; |\n",
       "|---|---|---|\n",
       "| 8494 | the | 7882 |\n",
       "| 531 | and | 5905 |\n",
       "| 4314 | i   | 4798 |\n",
       "| 8627 | to  | 4659 |\n",
       "| 5772 | of  | 3614 |\n",
       "| 247 | a   | 2946 |\n",
       "\n"
      ],
      "text/plain": [
       "     word Freq\n",
       "8494 the  7882\n",
       "531  and  5905\n",
       "4314 i    4798\n",
       "8627 to   4659\n",
       "5772 of   3614\n",
       "247  a    2946"
      ]
     },
     "metadata": {},
     "output_type": "display_data"
    }
   ],
   "source": [
    "s_letras = df_letras[order(-df_letras$Freq), ]\n",
    "s_palabras = df_palabras[order(-df_palabras$Freq), ]\n",
    "\n",
    "head(s_letras)\n",
    "head(s_palabras)"
   ]
  },
  {
   "cell_type": "markdown",
   "metadata": {},
   "source": [
    "Por último se grafican los resultados."
   ]
  },
  {
   "cell_type": "code",
   "execution_count": 15,
   "metadata": {},
   "outputs": [
    {
     "data": {
      "image/png": "[encoded data removed]",
      "text/plain": [
       "plot without title"
      ]
     },
     "metadata": {
      "image/png": {
       "height": 480,
       "width": 720
      }
     },
     "output_type": "display_data"
    },
    {
     "data": {
      "image/png": "[encoded data removed]",
      "text/plain": [
       "plot without title"
      ]
     },
     "metadata": {
      "image/png": {
       "height": 480,
       "width": 720
      }
     },
     "output_type": "display_data"
    }
   ],
   "source": [
    "library(repr)\n",
    "options(repr.plot.width=12, repr.plot.height=8)\n",
    "\n",
    "barplot(s_letras$Freq, names = s_letras$letras)\n",
    "barplot(s_palabras$Freq, names = s_palabras$word)"
   ]
  },
  {
   "cell_type": "markdown",
   "metadata": {},
   "source": [
    "De esto podríamos decir que la letra *e* es la más usada en este libro y que el artículo *the*¨también lo es, pero esto no agrega mucho al entendimiento de la estructura del libro en sí. Existe un término denominado *palabras vacías* (o *stop words* en ingl+es) que se refiere a palabras que en un idioma carecen de significado fuera de contexto (más información [aquí](https://googleseo.marketing/seo-que-son-stop-words-palabras-vacias/)). En español se incluyen todos las preposiciones, artículos y adverbios. Una lista más detallada se halla en (esta página)[https://googleseo.marketing/lista-de-stop-words-o-palabras-vacias-en-espanol/]. Al eliminar estas palabras, se obtendría una lista de palabras más significativas.\n",
    "\n",
    "Primero se carga la librería `stopwords` (también existe la opción de `tidytext` pero la librería de `stopwords` posee más opciones para filtrar palabras) y se guardan las palabras vacías del inglés."
   ]
  },
  {
   "cell_type": "code",
   "execution_count": 16,
   "metadata": {},
   "outputs": [],
   "source": [
    " #head(s_palabras %>% anti_join(stop_words), 20)"
   ]
  },
  {
   "cell_type": "code",
   "execution_count": 17,
   "metadata": {},
   "outputs": [
    {
     "name": "stderr",
     "output_type": "stream",
     "text": [
      "Loading required package: stopwords\n",
      "\n"
     ]
    }
   ],
   "source": [
    "if (!require('stopwords')) install.packages('stopwords'); library('stopwords')"
   ]
  },
  {
   "cell_type": "code",
   "execution_count": 18,
   "metadata": {},
   "outputs": [
    {
     "data": {
      "text/html": [
       "<style>\n",
       ".list-inline {list-style: none; margin:0; padding: 0}\n",
       ".list-inline>li {display: inline-block}\n",
       ".list-inline>li:not(:last-child)::after {content: \"\\00b7\"; padding: 0 .5ex}\n",
       "</style>\n",
       "<ol class=list-inline><li>'\\'ll'</li><li>'\\'tis'</li><li>'\\'twas'</li><li>'\\'ve'</li><li>'10'</li><li>'39'</li></ol>\n"
      ],
      "text/latex": [
       "\\begin{enumerate*}\n",
       "\\item '\\textbackslash{}'ll'\n",
       "\\item '\\textbackslash{}'tis'\n",
       "\\item '\\textbackslash{}'twas'\n",
       "\\item '\\textbackslash{}'ve'\n",
       "\\item '10'\n",
       "\\item '39'\n",
       "\\end{enumerate*}\n"
      ],
      "text/markdown": [
       "1. '\\'ll'\n",
       "2. '\\'tis'\n",
       "3. '\\'twas'\n",
       "4. '\\'ve'\n",
       "5. '10'\n",
       "6. '39'\n",
       "\n",
       "\n"
      ],
      "text/plain": [
       "[1] \"'ll\"   \"'tis\"  \"'twas\" \"'ve\"   \"10\"    \"39\"   "
      ]
     },
     "metadata": {},
     "output_type": "display_data"
    }
   ],
   "source": [
    "sw = stopwords::stopwords(\"en\", source = \"stopwords-iso\")\n",
    "head(sw)"
   ]
  },
  {
   "cell_type": "markdown",
   "metadata": {},
   "source": [
    "Ahora se eliminan de la lista de letras."
   ]
  },
  {
   "cell_type": "code",
   "execution_count": 19,
   "metadata": {},
   "outputs": [
    {
     "data": {
      "text/html": [
       "<table>\n",
       "<caption>A data.frame: 20 × 2</caption>\n",
       "<thead>\n",
       "\t<tr><th></th><th scope=col>word</th><th scope=col>Freq</th></tr>\n",
       "\t<tr><th></th><th scope=col>&lt;fct&gt;</th><th scope=col>&lt;int&gt;</th></tr>\n",
       "</thead>\n",
       "<tbody>\n",
       "\t<tr><th scope=row>8607</th><td>time     </td><td>390</td></tr>\n",
       "\t<tr><th scope=row>9038</th><td>van      </td><td>323</td></tr>\n",
       "\t<tr><th scope=row>5628</th><td>night    </td><td>310</td></tr>\n",
       "\t<tr><th scope=row>4097</th><td>helsing  </td><td>301</td></tr>\n",
       "\t<tr><th scope=row>5085</th><td>lucy     </td><td>223</td></tr>\n",
       "\t<tr><th scope=row>2241</th><td>day      </td><td>220</td></tr>\n",
       "\t<tr><th scope=row>3942</th><td>hand     </td><td>210</td></tr>\n",
       "\t<tr><th scope=row>5338</th><td>mina     </td><td>210</td></tr>\n",
       "\t<tr><th scope=row>2633</th><td>door     </td><td>200</td></tr>\n",
       "\t<tr><th scope=row>6307</th><td>poor     </td><td>193</td></tr>\n",
       "\t<tr><th scope=row>7668</th><td>sleep    </td><td>192</td></tr>\n",
       "\t<tr><th scope=row>3155</th><td>eyes     </td><td>188</td></tr>\n",
       "\t<tr><th scope=row>5043</th><td>looked   </td><td>186</td></tr>\n",
       "\t<tr><th scope=row>3550</th><td>friend   </td><td>184</td></tr>\n",
       "\t<tr><th scope=row>4665</th><td>jonathan </td><td>181</td></tr>\n",
       "\t<tr><th scope=row>2664</th><td>dr       </td><td>162</td></tr>\n",
       "\t<tr><th scope=row>6476</th><td>professor</td><td>155</td></tr>\n",
       "\t<tr><th scope=row>2026</th><td>count    </td><td>153</td></tr>\n",
       "\t<tr><th scope=row>3758</th><td>god      </td><td>150</td></tr>\n",
       "\t<tr><th scope=row>4949</th><td>life     </td><td>149</td></tr>\n",
       "</tbody>\n",
       "</table>\n"
      ],
      "text/latex": [
       "A data.frame: 20 × 2\n",
       "\\begin{tabular}{r|ll}\n",
       "  & word & Freq\\\\\n",
       "  & <fct> & <int>\\\\\n",
       "\\hline\n",
       "\t8607 & time      & 390\\\\\n",
       "\t9038 & van       & 323\\\\\n",
       "\t5628 & night     & 310\\\\\n",
       "\t4097 & helsing   & 301\\\\\n",
       "\t5085 & lucy      & 223\\\\\n",
       "\t2241 & day       & 220\\\\\n",
       "\t3942 & hand      & 210\\\\\n",
       "\t5338 & mina      & 210\\\\\n",
       "\t2633 & door      & 200\\\\\n",
       "\t6307 & poor      & 193\\\\\n",
       "\t7668 & sleep     & 192\\\\\n",
       "\t3155 & eyes      & 188\\\\\n",
       "\t5043 & looked    & 186\\\\\n",
       "\t3550 & friend    & 184\\\\\n",
       "\t4665 & jonathan  & 181\\\\\n",
       "\t2664 & dr        & 162\\\\\n",
       "\t6476 & professor & 155\\\\\n",
       "\t2026 & count     & 153\\\\\n",
       "\t3758 & god       & 150\\\\\n",
       "\t4949 & life      & 149\\\\\n",
       "\\end{tabular}\n"
      ],
      "text/markdown": [
       "\n",
       "A data.frame: 20 × 2\n",
       "\n",
       "| <!--/--> | word &lt;fct&gt; | Freq &lt;int&gt; |\n",
       "|---|---|---|\n",
       "| 8607 | time      | 390 |\n",
       "| 9038 | van       | 323 |\n",
       "| 5628 | night     | 310 |\n",
       "| 4097 | helsing   | 301 |\n",
       "| 5085 | lucy      | 223 |\n",
       "| 2241 | day       | 220 |\n",
       "| 3942 | hand      | 210 |\n",
       "| 5338 | mina      | 210 |\n",
       "| 2633 | door      | 200 |\n",
       "| 6307 | poor      | 193 |\n",
       "| 7668 | sleep     | 192 |\n",
       "| 3155 | eyes      | 188 |\n",
       "| 5043 | looked    | 186 |\n",
       "| 3550 | friend    | 184 |\n",
       "| 4665 | jonathan  | 181 |\n",
       "| 2664 | dr        | 162 |\n",
       "| 6476 | professor | 155 |\n",
       "| 2026 | count     | 153 |\n",
       "| 3758 | god       | 150 |\n",
       "| 4949 | life      | 149 |\n",
       "\n"
      ],
      "text/plain": [
       "     word      Freq\n",
       "8607 time      390 \n",
       "9038 van       323 \n",
       "5628 night     310 \n",
       "4097 helsing   301 \n",
       "5085 lucy      223 \n",
       "2241 day       220 \n",
       "3942 hand      210 \n",
       "5338 mina      210 \n",
       "2633 door      200 \n",
       "6307 poor      193 \n",
       "7668 sleep     192 \n",
       "3155 eyes      188 \n",
       "5043 looked    186 \n",
       "3550 friend    184 \n",
       "4665 jonathan  181 \n",
       "2664 dr        162 \n",
       "6476 professor 155 \n",
       "2026 count     153 \n",
       "3758 god       150 \n",
       "4949 life      149 "
      ]
     },
     "metadata": {},
     "output_type": "display_data"
    }
   ],
   "source": [
    "sw_palabras = s_palabras[!(s_palabras$word %in% sw), ]\n",
    "head(sw_palabras, 20)"
   ]
  },
  {
   "cell_type": "markdown",
   "metadata": {},
   "source": [
    "Finalmente se puede generar una nube de palabras con estos resultados y la librería `wordcloud`."
   ]
  },
  {
   "cell_type": "code",
   "execution_count": 20,
   "metadata": {},
   "outputs": [
    {
     "name": "stderr",
     "output_type": "stream",
     "text": [
      "Loading required package: wordcloud\n",
      "\n",
      "Loading required package: RColorBrewer\n",
      "\n"
     ]
    }
   ],
   "source": [
    "if (!require('wordcloud')) install.packages('wordcloud'); library('wordcloud')"
   ]
  },
  {
   "cell_type": "code",
   "execution_count": 31,
   "metadata": {},
   "outputs": [
    {
     "data": {
      "image/png": "[encoded data removed]",
      "text/plain": [
       "plot without title"
      ]
     },
     "metadata": {
      "image/png": {
       "height": 480,
       "width": 720
      }
     },
     "output_type": "display_data"
    },
    {
     "data": {
      "image/png": "[encoded data removed]",
      "text/plain": [
       "plot without title"
      ]
     },
     "metadata": {
      "image/png": {
       "height": 480,
       "width": 720
      }
     },
     "output_type": "display_data"
    }
   ],
   "source": [
    "wordcloud(words = sw_palabras$word, freq = sw_palabras$Freq, min.freq = 1,\n",
    "          max.words=200, random.order=FALSE, colors=brewer.pal(8, \"Dark2\"))\n",
    "wordcloud(words = s_letras$letras, freq = s_letras$Freq, min.freq = 1,\n",
    "          max.words=200, random.order=FALSE, colors=brewer.pal(8, \"Dark2\"))"
   ]
  }
 ],
 "metadata": {
  "kernelspec": {
   "display_name": "R",
   "language": "R",
   "name": "ir"
  },
  "language_info": {
   "codemirror_mode": "r",
   "file_extension": ".r",
   "mimetype": "text/x-r-source",
   "name": "R",
   "pygments_lexer": "r",
   "version": "4.0.2"
  }
 },
 "nbformat": 4,
 "nbformat_minor": 4
}
