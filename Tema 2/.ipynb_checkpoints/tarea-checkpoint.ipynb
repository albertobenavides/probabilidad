{
 "cells": [
  {
   "cell_type": "markdown",
   "metadata": {},
   "source": [
    "# Frecuencia de palabras en *Dracula* de Bram Stocker\n",
    "## Alberto Benavides"
   ]
  },
  {
   "cell_type": "markdown",
   "metadata": {},
   "source": [
    "Un análisis estadístico básico de un libro consiste en analizar la frecuencia con que aparecen las palabras con que está escrito. Una guía bastante completa para lograrlo en R puede consultarse [aquí](https://compsocialscience.github.io/summer-institute/2018/materials/day3-text-analysis/basic-text-analysis/rmarkdown/Basic_Text_Analysis_in_R.html).\n",
    "\n",
    "El libro de *Dracula* se encuentra disponible de manera gratuita en el sitio de [Project Gutemberg](https://www.gutenberg.org/) que alberga libros cuya propiedad intelectual ha caducado y, por lo tanto, se trata de obras que forman parte del dominio público. Se puede acceder a los textos planos de estas obras mediante la librería [`gutembergr`](https://cran.r-project.org/web/packages/gutenbergr/vignettes/intro.html) de R y la descomposición en palabras de la obra se facilita con el uso de [`tidytext`](https://cran.r-project.org/web/packages/tidytext/index.html) que, a su vez, utiliza para su funcionamiento la librería [`dplyr`](https://www.rdocumentation.org/packages/dplyr/versions/0.7.8)."
   ]
  },
  {
   "cell_type": "code",
   "execution_count": 1,
   "metadata": {},
   "outputs": [
    {
     "name": "stderr",
     "output_type": "stream",
     "text": [
      "Loading required package: gutenbergr\n",
      "\n",
      "Loading required package: tidytext\n",
      "\n",
      "Loading required package: dplyr\n",
      "\n",
      "\n",
      "Attaching package: 'dplyr'\n",
      "\n",
      "\n",
      "The following objects are masked from 'package:stats':\n",
      "\n",
      "    filter, lag\n",
      "\n",
      "\n",
      "The following objects are masked from 'package:base':\n",
      "\n",
      "    intersect, setdiff, setequal, union\n",
      "\n",
      "\n"
     ]
    }
   ],
   "source": [
    "if (!require('gutenbergr')) install.packages('gutenbergr'); library('gutenbergr')\n",
    "if (!require('tidytext')) install.packages('tidytext'); library('tidytext')\n",
    "if (!require('dplyr')) install.packages('dplyr'); library('dplyr')"
   ]
  },
  {
   "cell_type": "code",
   "execution_count": 2,
   "metadata": {},
   "outputs": [],
   "source": [
    "# https://github.com/IRkernel/IRkernel/issues/470#issuecomment-296786927\n",
    "# Muestra más filas y columnas en Jupyter R\n",
    "options(repr.matrix.max.rows=60, repr.matrix.max.cols=20)"
   ]
  },
  {
   "cell_type": "code",
   "execution_count": 3,
   "metadata": {},
   "outputs": [
    {
     "name": "stderr",
     "output_type": "stream",
     "text": [
      "Determining mirror for Project Gutenberg from http://www.gutenberg.org/robot/harvest\n",
      "\n",
      "Using mirror http://aleph.gutenberg.org\n",
      "\n"
     ]
    }
   ],
   "source": [
    "libro = gutenberg_download(c(345))"
   ]
  },
  {
   "cell_type": "code",
   "execution_count": 4,
   "metadata": {},
   "outputs": [
    {
     "data": {
      "text/html": [
       "<table>\n",
       "<caption>A tibble: 100 × 2</caption>\n",
       "<thead>\n",
       "\t<tr><th scope=col>gutenberg_id</th><th scope=col>text</th></tr>\n",
       "\t<tr><th scope=col>&lt;int&gt;</th><th scope=col>&lt;chr&gt;</th></tr>\n",
       "</thead>\n",
       "<tbody>\n",
       "\t<tr><td>345</td><td>authentic document; nothing but a mass of typewriting, except the later </td></tr>\n",
       "\t<tr><td>345</td><td>note-books of Mina and Seward and myself, and Van Helsing's memorandum. </td></tr>\n",
       "\t<tr><td>345</td><td>We could hardly ask any one, even did we wish to, to accept these as    </td></tr>\n",
       "\t<tr><td>345</td><td>proofs of so wild a story. Van Helsing summed it all up as he said, with</td></tr>\n",
       "\t<tr><td>345</td><td>our boy on his knee:--                                                  </td></tr>\n",
       "\t<tr><td>345</td><td>                                                                        </td></tr>\n",
       "\t<tr><td>345</td><td>\"We want no proofs; we ask none to believe us! This boy will some day   </td></tr>\n",
       "\t<tr><td>345</td><td>know what a brave and gallant woman his mother is. Already he knows her </td></tr>\n",
       "\t<tr><td>345</td><td>sweetness and loving care; later on he will understand how some men so  </td></tr>\n",
       "\t<tr><td>345</td><td>loved her, that they did dare much for her sake.\"                       </td></tr>\n",
       "\t<tr><td>345</td><td>                                                                        </td></tr>\n",
       "\t<tr><td>345</td><td>JONATHAN HARKER.                                                        </td></tr>\n",
       "\t<tr><td>345</td><td>                                                                        </td></tr>\n",
       "\t<tr><td>345</td><td>                                THE END                                 </td></tr>\n",
       "\t<tr><td>345</td><td>                                                                        </td></tr>\n",
       "\t<tr><td>345</td><td>       *       *       *       *       *                                </td></tr>\n",
       "\t<tr><td>345</td><td>                                                                        </td></tr>\n",
       "\t<tr><td>345</td><td>                       _There's More to Follow!_                        </td></tr>\n",
       "\t<tr><td>345</td><td>                                                                        </td></tr>\n",
       "\t<tr><td>345</td><td>     More stories of the sort you like; more, probably, by the author of</td></tr>\n",
       "\t<tr><td>345</td><td>     this one; more than 500 titles all told by writers of world-wide   </td></tr>\n",
       "\t<tr><td>345</td><td>     reputation, in the Authors' Alphabetical List which you will find  </td></tr>\n",
       "\t<tr><td>345</td><td>     on the _reverse side_ of the wrapper of this book. Look it over    </td></tr>\n",
       "\t<tr><td>345</td><td>     before you lay it aside. There are books here you are sure to      </td></tr>\n",
       "\t<tr><td>345</td><td>     want--some, possibly, that you have _always_ wanted.               </td></tr>\n",
       "\t<tr><td>345</td><td>                                                                        </td></tr>\n",
       "\t<tr><td>345</td><td>     It is a _selected_ list; every book in it has achieved a certain   </td></tr>\n",
       "\t<tr><td>345</td><td>     measure of _success_.                                              </td></tr>\n",
       "\t<tr><td>345</td><td>                                                                        </td></tr>\n",
       "\t<tr><td>345</td><td><span style=white-space:pre-wrap>     The Grosset &amp; Dunlap list is not only the greatest Index of Good   </span></td></tr>\n",
       "\t<tr><td>...</td><td>...</td></tr>\n",
       "\t<tr><td>345</td><td>                                                                      </td></tr>\n",
       "\t<tr><td>345</td><td>THE VALLEY OF HEADSTRONG MEN                                          </td></tr>\n",
       "\t<tr><td>345</td><td>                                                                      </td></tr>\n",
       "\t<tr><td>345</td><td><span style=white-space:pre-wrap>_Ask for Complete free list of G. &amp; D. Popular Copyrighted Fiction_   </span></td></tr>\n",
       "\t<tr><td>345</td><td>                                                                      </td></tr>\n",
       "\t<tr><td>345</td><td><span style=white-space:pre-wrap>GROSSET &amp; DUNLAP, _Publishers_, NEW YORK                              </span></td></tr>\n",
       "\t<tr><td>345</td><td>                                                                      </td></tr>\n",
       "\t<tr><td>345</td><td>       *       *       *       *       *                              </td></tr>\n",
       "\t<tr><td>345</td><td>                                                                      </td></tr>\n",
       "\t<tr><td>345</td><td>Typographical errors corrected by the etext transcriber:              </td></tr>\n",
       "\t<tr><td>345</td><td>                                                                      </td></tr>\n",
       "\t<tr><td>345</td><td><span style=white-space:pre-wrap>in a very simply way=&gt; in a very simple way {pg 68}                   </span></td></tr>\n",
       "\t<tr><td>345</td><td>                                                                      </td></tr>\n",
       "\t<tr><td>345</td><td>\"The Westminister Gazette,\" 25 September.=&gt; \"The Westminster Gazette,\"</td></tr>\n",
       "\t<tr><td>345</td><td>25 September. {pg 165}                                                </td></tr>\n",
       "\t<tr><td>345</td><td>                                                                      </td></tr>\n",
       "\t<tr><td>345</td><td><span style=white-space:pre-wrap>It have told him=&gt; She must have told him {pg 169}                    </span></td></tr>\n",
       "\t<tr><td>345</td><td>                                                                      </td></tr>\n",
       "\t<tr><td>345</td><td><span style=white-space:pre-wrap>from md sight=&gt; from my sight {pg}184                                 </span></td></tr>\n",
       "\t<tr><td>345</td><td>                                                                      </td></tr>\n",
       "\t<tr><td>345</td><td><span style=white-space:pre-wrap>Goldaming=&gt; Godalming {pg 226}                                        </span></td></tr>\n",
       "\t<tr><td>345</td><td>                                                                      </td></tr>\n",
       "\t<tr><td>345</td><td>I I did not want to hinder him=&gt; I did not want to hinder him {pg 267}</td></tr>\n",
       "\t<tr><td>345</td><td>                                                                      </td></tr>\n",
       "\t<tr><td>345</td><td><span style=white-space:pre-wrap>They lay in a sort of or-orderly=&gt; They lay in a sort of orderly {pg  </span></td></tr>\n",
       "\t<tr><td>345</td><td>279}                                                                  </td></tr>\n",
       "\t<tr><td>345</td><td>                                                                      </td></tr>\n",
       "\t<tr><td>345</td><td><span style=white-space:pre-wrap>Translyvania=&gt; Transylvania {pg 294}                                  </span></td></tr>\n",
       "\t<tr><td>345</td><td>                                                                      </td></tr>\n",
       "\t<tr><td>345</td><td>this mrrning from Dardanelles=&gt; this morning from Dardanelles {pg 313}</td></tr>\n",
       "</tbody>\n",
       "</table>\n"
      ],
      "text/latex": [
       "A tibble: 100 × 2\n",
       "\\begin{tabular}{ll}\n",
       " gutenberg\\_id & text\\\\\n",
       " <int> & <chr>\\\\\n",
       "\\hline\n",
       "\t 345 & authentic document; nothing but a mass of typewriting, except the later \\\\\n",
       "\t 345 & note-books of Mina and Seward and myself, and Van Helsing's memorandum. \\\\\n",
       "\t 345 & We could hardly ask any one, even did we wish to, to accept these as    \\\\\n",
       "\t 345 & proofs of so wild a story. Van Helsing summed it all up as he said, with\\\\\n",
       "\t 345 & our boy on his knee:--                                                  \\\\\n",
       "\t 345 &                                                                         \\\\\n",
       "\t 345 & \"We want no proofs; we ask none to believe us! This boy will some day   \\\\\n",
       "\t 345 & know what a brave and gallant woman his mother is. Already he knows her \\\\\n",
       "\t 345 & sweetness and loving care; later on he will understand how some men so  \\\\\n",
       "\t 345 & loved her, that they did dare much for her sake.\"                       \\\\\n",
       "\t 345 &                                                                         \\\\\n",
       "\t 345 & JONATHAN HARKER.                                                        \\\\\n",
       "\t 345 &                                                                         \\\\\n",
       "\t 345 &                                 THE END                                 \\\\\n",
       "\t 345 &                                                                         \\\\\n",
       "\t 345 &        *       *       *       *       *                                \\\\\n",
       "\t 345 &                                                                         \\\\\n",
       "\t 345 &                        \\_There's More to Follow!\\_                        \\\\\n",
       "\t 345 &                                                                         \\\\\n",
       "\t 345 &      More stories of the sort you like; more, probably, by the author of\\\\\n",
       "\t 345 &      this one; more than 500 titles all told by writers of world-wide   \\\\\n",
       "\t 345 &      reputation, in the Authors' Alphabetical List which you will find  \\\\\n",
       "\t 345 &      on the \\_reverse side\\_ of the wrapper of this book. Look it over    \\\\\n",
       "\t 345 &      before you lay it aside. There are books here you are sure to      \\\\\n",
       "\t 345 &      want--some, possibly, that you have \\_always\\_ wanted.               \\\\\n",
       "\t 345 &                                                                         \\\\\n",
       "\t 345 &      It is a \\_selected\\_ list; every book in it has achieved a certain   \\\\\n",
       "\t 345 &      measure of \\_success\\_.                                              \\\\\n",
       "\t 345 &                                                                         \\\\\n",
       "\t 345 &      The Grosset \\& Dunlap list is not only the greatest Index of Good   \\\\\n",
       "\t ... & ...\\\\\n",
       "\t 345 &                                                                       \\\\\n",
       "\t 345 & THE VALLEY OF HEADSTRONG MEN                                          \\\\\n",
       "\t 345 &                                                                       \\\\\n",
       "\t 345 & \\_Ask for Complete free list of G. \\& D. Popular Copyrighted Fiction\\_   \\\\\n",
       "\t 345 &                                                                       \\\\\n",
       "\t 345 & GROSSET \\& DUNLAP, \\_Publishers\\_, NEW YORK                              \\\\\n",
       "\t 345 &                                                                       \\\\\n",
       "\t 345 &        *       *       *       *       *                              \\\\\n",
       "\t 345 &                                                                       \\\\\n",
       "\t 345 & Typographical errors corrected by the etext transcriber:              \\\\\n",
       "\t 345 &                                                                       \\\\\n",
       "\t 345 & in a very simply way=> in a very simple way \\{pg 68\\}                   \\\\\n",
       "\t 345 &                                                                       \\\\\n",
       "\t 345 & \"The Westminister Gazette,\" 25 September.=> \"The Westminster Gazette,\"\\\\\n",
       "\t 345 & 25 September. \\{pg 165\\}                                                \\\\\n",
       "\t 345 &                                                                       \\\\\n",
       "\t 345 & It have told him=> She must have told him \\{pg 169\\}                    \\\\\n",
       "\t 345 &                                                                       \\\\\n",
       "\t 345 & from md sight=> from my sight \\{pg\\}184                                 \\\\\n",
       "\t 345 &                                                                       \\\\\n",
       "\t 345 & Goldaming=> Godalming \\{pg 226\\}                                        \\\\\n",
       "\t 345 &                                                                       \\\\\n",
       "\t 345 & I I did not want to hinder him=> I did not want to hinder him \\{pg 267\\}\\\\\n",
       "\t 345 &                                                                       \\\\\n",
       "\t 345 & They lay in a sort of or-orderly=> They lay in a sort of orderly \\{pg  \\\\\n",
       "\t 345 & 279\\}                                                                  \\\\\n",
       "\t 345 &                                                                       \\\\\n",
       "\t 345 & Translyvania=> Transylvania \\{pg 294\\}                                  \\\\\n",
       "\t 345 &                                                                       \\\\\n",
       "\t 345 & this mrrning from Dardanelles=> this morning from Dardanelles \\{pg 313\\}\\\\\n",
       "\\end{tabular}\n"
      ],
      "text/markdown": [
       "\n",
       "A tibble: 100 × 2\n",
       "\n",
       "| gutenberg_id &lt;int&gt; | text &lt;chr&gt; |\n",
       "|---|---|\n",
       "| 345 | authentic document; nothing but a mass of typewriting, except the later  |\n",
       "| 345 | note-books of Mina and Seward and myself, and Van Helsing's memorandum.  |\n",
       "| 345 | We could hardly ask any one, even did we wish to, to accept these as     |\n",
       "| 345 | proofs of so wild a story. Van Helsing summed it all up as he said, with |\n",
       "| 345 | our boy on his knee:--                                                   |\n",
       "| 345 | <!----> |\n",
       "| 345 | \"We want no proofs; we ask none to believe us! This boy will some day    |\n",
       "| 345 | know what a brave and gallant woman his mother is. Already he knows her  |\n",
       "| 345 | sweetness and loving care; later on he will understand how some men so   |\n",
       "| 345 | loved her, that they did dare much for her sake.\"                        |\n",
       "| 345 | <!----> |\n",
       "| 345 | JONATHAN HARKER.                                                         |\n",
       "| 345 | <!----> |\n",
       "| 345 |                                 THE END                                  |\n",
       "| 345 | <!----> |\n",
       "| 345 |        *       *       *       *       *                                 |\n",
       "| 345 | <!----> |\n",
       "| 345 |                        _There's More to Follow!_                         |\n",
       "| 345 | <!----> |\n",
       "| 345 |      More stories of the sort you like; more, probably, by the author of |\n",
       "| 345 |      this one; more than 500 titles all told by writers of world-wide    |\n",
       "| 345 |      reputation, in the Authors' Alphabetical List which you will find   |\n",
       "| 345 |      on the _reverse side_ of the wrapper of this book. Look it over     |\n",
       "| 345 |      before you lay it aside. There are books here you are sure to       |\n",
       "| 345 |      want--some, possibly, that you have _always_ wanted.                |\n",
       "| 345 | <!----> |\n",
       "| 345 |      It is a _selected_ list; every book in it has achieved a certain    |\n",
       "| 345 |      measure of _success_.                                               |\n",
       "| 345 | <!----> |\n",
       "| 345 |      The Grosset &amp; Dunlap list is not only the greatest Index of Good    |\n",
       "| ... | ... |\n",
       "| 345 | <!----> |\n",
       "| 345 | THE VALLEY OF HEADSTRONG MEN                                           |\n",
       "| 345 | <!----> |\n",
       "| 345 | _Ask for Complete free list of G. &amp; D. Popular Copyrighted Fiction_    |\n",
       "| 345 | <!----> |\n",
       "| 345 | GROSSET &amp; DUNLAP, _Publishers_, NEW YORK                               |\n",
       "| 345 | <!----> |\n",
       "| 345 |        *       *       *       *       *                               |\n",
       "| 345 | <!----> |\n",
       "| 345 | Typographical errors corrected by the etext transcriber:               |\n",
       "| 345 | <!----> |\n",
       "| 345 | in a very simply way=&gt; in a very simple way {pg 68}                    |\n",
       "| 345 | <!----> |\n",
       "| 345 | \"The Westminister Gazette,\" 25 September.=&gt; \"The Westminster Gazette,\" |\n",
       "| 345 | 25 September. {pg 165}                                                 |\n",
       "| 345 | <!----> |\n",
       "| 345 | It have told him=&gt; She must have told him {pg 169}                     |\n",
       "| 345 | <!----> |\n",
       "| 345 | from md sight=&gt; from my sight {pg}184                                  |\n",
       "| 345 | <!----> |\n",
       "| 345 | Goldaming=&gt; Godalming {pg 226}                                         |\n",
       "| 345 | <!----> |\n",
       "| 345 | I I did not want to hinder him=&gt; I did not want to hinder him {pg 267} |\n",
       "| 345 | <!----> |\n",
       "| 345 | They lay in a sort of or-orderly=&gt; They lay in a sort of orderly {pg   |\n",
       "| 345 | 279}                                                                   |\n",
       "| 345 | <!----> |\n",
       "| 345 | Translyvania=&gt; Transylvania {pg 294}                                   |\n",
       "| 345 | <!----> |\n",
       "| 345 | this mrrning from Dardanelles=&gt; this morning from Dardanelles {pg 313} |\n",
       "\n"
      ],
      "text/plain": [
       "    gutenberg_id\n",
       "1   345         \n",
       "2   345         \n",
       "3   345         \n",
       "4   345         \n",
       "5   345         \n",
       "6   345         \n",
       "7   345         \n",
       "8   345         \n",
       "9   345         \n",
       "10  345         \n",
       "11  345         \n",
       "12  345         \n",
       "13  345         \n",
       "14  345         \n",
       "15  345         \n",
       "16  345         \n",
       "17  345         \n",
       "18  345         \n",
       "19  345         \n",
       "20  345         \n",
       "21  345         \n",
       "22  345         \n",
       "23  345         \n",
       "24  345         \n",
       "25  345         \n",
       "26  345         \n",
       "27  345         \n",
       "28  345         \n",
       "29  345         \n",
       "30  345         \n",
       "... ...         \n",
       "71  345         \n",
       "72  345         \n",
       "73  345         \n",
       "74  345         \n",
       "75  345         \n",
       "76  345         \n",
       "77  345         \n",
       "78  345         \n",
       "79  345         \n",
       "80  345         \n",
       "81  345         \n",
       "82  345         \n",
       "83  345         \n",
       "84  345         \n",
       "85  345         \n",
       "86  345         \n",
       "87  345         \n",
       "88  345         \n",
       "89  345         \n",
       "90  345         \n",
       "91  345         \n",
       "92  345         \n",
       "93  345         \n",
       "94  345         \n",
       "95  345         \n",
       "96  345         \n",
       "97  345         \n",
       "98  345         \n",
       "99  345         \n",
       "100 345         \n",
       "    text                                                                    \n",
       "1   authentic document; nothing but a mass of typewriting, except the later \n",
       "2   note-books of Mina and Seward and myself, and Van Helsing's memorandum. \n",
       "3   We could hardly ask any one, even did we wish to, to accept these as    \n",
       "4   proofs of so wild a story. Van Helsing summed it all up as he said, with\n",
       "5   our boy on his knee:--                                                  \n",
       "6                                                                           \n",
       "7   \"We want no proofs; we ask none to believe us! This boy will some day   \n",
       "8   know what a brave and gallant woman his mother is. Already he knows her \n",
       "9   sweetness and loving care; later on he will understand how some men so  \n",
       "10  loved her, that they did dare much for her sake.\"                       \n",
       "11                                                                          \n",
       "12  JONATHAN HARKER.                                                        \n",
       "13                                                                          \n",
       "14                                  THE END                                 \n",
       "15                                                                          \n",
       "16         *       *       *       *       *                                \n",
       "17                                                                          \n",
       "18                         _There's More to Follow!_                        \n",
       "19                                                                          \n",
       "20       More stories of the sort you like; more, probably, by the author of\n",
       "21       this one; more than 500 titles all told by writers of world-wide   \n",
       "22       reputation, in the Authors' Alphabetical List which you will find  \n",
       "23       on the _reverse side_ of the wrapper of this book. Look it over    \n",
       "24       before you lay it aside. There are books here you are sure to      \n",
       "25       want--some, possibly, that you have _always_ wanted.               \n",
       "26                                                                          \n",
       "27       It is a _selected_ list; every book in it has achieved a certain   \n",
       "28       measure of _success_.                                              \n",
       "29                                                                          \n",
       "30       The Grosset & Dunlap list is not only the greatest Index of Good   \n",
       "... ...                                                                     \n",
       "71                                                                          \n",
       "72  THE VALLEY OF HEADSTRONG MEN                                            \n",
       "73                                                                          \n",
       "74  _Ask for Complete free list of G. & D. Popular Copyrighted Fiction_     \n",
       "75                                                                          \n",
       "76  GROSSET & DUNLAP, _Publishers_, NEW YORK                                \n",
       "77                                                                          \n",
       "78         *       *       *       *       *                                \n",
       "79                                                                          \n",
       "80  Typographical errors corrected by the etext transcriber:                \n",
       "81                                                                          \n",
       "82  in a very simply way=> in a very simple way {pg 68}                     \n",
       "83                                                                          \n",
       "84  \"The Westminister Gazette,\" 25 September.=> \"The Westminster Gazette,\"  \n",
       "85  25 September. {pg 165}                                                  \n",
       "86                                                                          \n",
       "87  It have told him=> She must have told him {pg 169}                      \n",
       "88                                                                          \n",
       "89  from md sight=> from my sight {pg}184                                   \n",
       "90                                                                          \n",
       "91  Goldaming=> Godalming {pg 226}                                          \n",
       "92                                                                          \n",
       "93  I I did not want to hinder him=> I did not want to hinder him {pg 267}  \n",
       "94                                                                          \n",
       "95  They lay in a sort of or-orderly=> They lay in a sort of orderly {pg    \n",
       "96  279}                                                                    \n",
       "97                                                                          \n",
       "98  Translyvania=> Transylvania {pg 294}                                    \n",
       "99                                                                          \n",
       "100 this mrrning from Dardanelles=> this morning from Dardanelles {pg 313}  "
      ]
     },
     "metadata": {},
     "output_type": "display_data"
    }
   ],
   "source": [
    "tail(libro, 100)"
   ]
  },
  {
   "cell_type": "markdown",
   "metadata": {},
   "source": [
    "Hay una sección de erratas y otros datos que se escapan del contenido del libro, por lo que se procederá a eliminarlos, lo que sucede a partir de la línea que contienen \"THE END\"."
   ]
  },
  {
   "cell_type": "code",
   "execution_count": 5,
   "metadata": {},
   "outputs": [],
   "source": [
    "t = grep(\"THE END\", libro$text) # línea donde se termina el libro"
   ]
  },
  {
   "cell_type": "markdown",
   "metadata": {},
   "source": [
    "Tampoco interesa el Índice."
   ]
  },
  {
   "cell_type": "code",
   "execution_count": 6,
   "metadata": {},
   "outputs": [
    {
     "data": {
      "text/html": [
       "<table>\n",
       "<caption>A tibble: 3 × 2</caption>\n",
       "<thead>\n",
       "\t<tr><th scope=col>gutenberg_id</th><th scope=col>text</th></tr>\n",
       "\t<tr><th scope=col>&lt;int&gt;</th><th scope=col>&lt;chr&gt;</th></tr>\n",
       "</thead>\n",
       "<tbody>\n",
       "\t<tr><td>345</td><td>CHAPTER I                </td></tr>\n",
       "\t<tr><td>345</td><td>                         </td></tr>\n",
       "\t<tr><td>345</td><td>JONATHAN HARKER'S JOURNAL</td></tr>\n",
       "</tbody>\n",
       "</table>\n"
      ],
      "text/latex": [
       "A tibble: 3 × 2\n",
       "\\begin{tabular}{ll}\n",
       " gutenberg\\_id & text\\\\\n",
       " <int> & <chr>\\\\\n",
       "\\hline\n",
       "\t 345 & CHAPTER I                \\\\\n",
       "\t 345 &                          \\\\\n",
       "\t 345 & JONATHAN HARKER'S JOURNAL\\\\\n",
       "\\end{tabular}\n"
      ],
      "text/markdown": [
       "\n",
       "A tibble: 3 × 2\n",
       "\n",
       "| gutenberg_id &lt;int&gt; | text &lt;chr&gt; |\n",
       "|---|---|\n",
       "| 345 | CHAPTER I                 |\n",
       "| 345 | <!----> |\n",
       "| 345 | JONATHAN HARKER'S JOURNAL |\n",
       "\n"
      ],
      "text/plain": [
       "  gutenberg_id text                     \n",
       "1 345          CHAPTER I                \n",
       "2 345                                   \n",
       "3 345          JONATHAN HARKER'S JOURNAL"
      ]
     },
     "metadata": {},
     "output_type": "display_data"
    },
    {
     "data": {
      "text/html": [
       "<table>\n",
       "<caption>A tibble: 3 × 2</caption>\n",
       "<thead>\n",
       "\t<tr><th scope=col>gutenberg_id</th><th scope=col>text</th></tr>\n",
       "\t<tr><th scope=col>&lt;int&gt;</th><th scope=col>&lt;chr&gt;</th></tr>\n",
       "</thead>\n",
       "<tbody>\n",
       "\t<tr><td>345</td><td>JONATHAN HARKER.                       </td></tr>\n",
       "\t<tr><td>345</td><td>                                       </td></tr>\n",
       "\t<tr><td>345</td><td>                                THE END</td></tr>\n",
       "</tbody>\n",
       "</table>\n"
      ],
      "text/latex": [
       "A tibble: 3 × 2\n",
       "\\begin{tabular}{ll}\n",
       " gutenberg\\_id & text\\\\\n",
       " <int> & <chr>\\\\\n",
       "\\hline\n",
       "\t 345 & JONATHAN HARKER.                       \\\\\n",
       "\t 345 &                                        \\\\\n",
       "\t 345 &                                 THE END\\\\\n",
       "\\end{tabular}\n"
      ],
      "text/markdown": [
       "\n",
       "A tibble: 3 × 2\n",
       "\n",
       "| gutenberg_id &lt;int&gt; | text &lt;chr&gt; |\n",
       "|---|---|\n",
       "| 345 | JONATHAN HARKER.                        |\n",
       "| 345 | <!----> |\n",
       "| 345 |                                 THE END |\n",
       "\n"
      ],
      "text/plain": [
       "  gutenberg_id text                                   \n",
       "1 345          JONATHAN HARKER.                       \n",
       "2 345                                                 \n",
       "3 345                                          THE END"
      ]
     },
     "metadata": {},
     "output_type": "display_data"
    }
   ],
   "source": [
    "libro2 = libro[162:t, ] # 161 inicia el capítulo 1\n",
    "head(libro2, 3)\n",
    "tail(libro2, 3)"
   ]
  },
  {
   "cell_type": "markdown",
   "metadata": {},
   "source": [
    "Por último se eliminan las líneas vacías."
   ]
  },
  {
   "cell_type": "code",
   "execution_count": 7,
   "metadata": {},
   "outputs": [],
   "source": [
    "libro2 = libro2[libro2$text != \"\",]"
   ]
  },
  {
   "cell_type": "markdown",
   "metadata": {},
   "source": [
    "Ahora se procede a extraer los caracteres usados y las palabras completas."
   ]
  },
  {
   "cell_type": "code",
   "execution_count": 8,
   "metadata": {},
   "outputs": [
    {
     "data": {
      "text/html": [
       "<table>\n",
       "<caption>A tibble: 6 × 2</caption>\n",
       "<thead>\n",
       "\t<tr><th scope=col>gutenberg_id</th><th scope=col>letras</th></tr>\n",
       "\t<tr><th scope=col>&lt;int&gt;</th><th scope=col>&lt;chr&gt;</th></tr>\n",
       "</thead>\n",
       "<tbody>\n",
       "\t<tr><td>345</td><td>c</td></tr>\n",
       "\t<tr><td>345</td><td>h</td></tr>\n",
       "\t<tr><td>345</td><td>a</td></tr>\n",
       "\t<tr><td>345</td><td>p</td></tr>\n",
       "\t<tr><td>345</td><td>t</td></tr>\n",
       "\t<tr><td>345</td><td>e</td></tr>\n",
       "</tbody>\n",
       "</table>\n"
      ],
      "text/latex": [
       "A tibble: 6 × 2\n",
       "\\begin{tabular}{ll}\n",
       " gutenberg\\_id & letras\\\\\n",
       " <int> & <chr>\\\\\n",
       "\\hline\n",
       "\t 345 & c\\\\\n",
       "\t 345 & h\\\\\n",
       "\t 345 & a\\\\\n",
       "\t 345 & p\\\\\n",
       "\t 345 & t\\\\\n",
       "\t 345 & e\\\\\n",
       "\\end{tabular}\n"
      ],
      "text/markdown": [
       "\n",
       "A tibble: 6 × 2\n",
       "\n",
       "| gutenberg_id &lt;int&gt; | letras &lt;chr&gt; |\n",
       "|---|---|\n",
       "| 345 | c |\n",
       "| 345 | h |\n",
       "| 345 | a |\n",
       "| 345 | p |\n",
       "| 345 | t |\n",
       "| 345 | e |\n",
       "\n"
      ],
      "text/plain": [
       "  gutenberg_id letras\n",
       "1 345          c     \n",
       "2 345          h     \n",
       "3 345          a     \n",
       "4 345          p     \n",
       "5 345          t     \n",
       "6 345          e     "
      ]
     },
     "metadata": {},
     "output_type": "display_data"
    },
    {
     "data": {
      "text/html": [
       "<table>\n",
       "<caption>A tibble: 6 × 2</caption>\n",
       "<thead>\n",
       "\t<tr><th scope=col>gutenberg_id</th><th scope=col>word</th></tr>\n",
       "\t<tr><th scope=col>&lt;int&gt;</th><th scope=col>&lt;chr&gt;</th></tr>\n",
       "</thead>\n",
       "<tbody>\n",
       "\t<tr><td>345</td><td>chapter </td></tr>\n",
       "\t<tr><td>345</td><td>i       </td></tr>\n",
       "\t<tr><td>345</td><td>jonathan</td></tr>\n",
       "\t<tr><td>345</td><td>harker's</td></tr>\n",
       "\t<tr><td>345</td><td>journal </td></tr>\n",
       "\t<tr><td>345</td><td>_kept   </td></tr>\n",
       "</tbody>\n",
       "</table>\n"
      ],
      "text/latex": [
       "A tibble: 6 × 2\n",
       "\\begin{tabular}{ll}\n",
       " gutenberg\\_id & word\\\\\n",
       " <int> & <chr>\\\\\n",
       "\\hline\n",
       "\t 345 & chapter \\\\\n",
       "\t 345 & i       \\\\\n",
       "\t 345 & jonathan\\\\\n",
       "\t 345 & harker's\\\\\n",
       "\t 345 & journal \\\\\n",
       "\t 345 & \\_kept   \\\\\n",
       "\\end{tabular}\n"
      ],
      "text/markdown": [
       "\n",
       "A tibble: 6 × 2\n",
       "\n",
       "| gutenberg_id &lt;int&gt; | word &lt;chr&gt; |\n",
       "|---|---|\n",
       "| 345 | chapter  |\n",
       "| 345 | i        |\n",
       "| 345 | jonathan |\n",
       "| 345 | harker's |\n",
       "| 345 | journal  |\n",
       "| 345 | _kept    |\n",
       "\n"
      ],
      "text/plain": [
       "  gutenberg_id word    \n",
       "1 345          chapter \n",
       "2 345          i       \n",
       "3 345          jonathan\n",
       "4 345          harker's\n",
       "5 345          journal \n",
       "6 345          _kept   "
      ]
     },
     "metadata": {},
     "output_type": "display_data"
    }
   ],
   "source": [
    "letras = libro2 %>% unnest_tokens(letras, text, \"characters\")\n",
    "head(letras)\n",
    "\n",
    "palabras = libro2 %>% unnest_tokens(word, text, \"words\")\n",
    "head(palabras)"
   ]
  },
  {
   "cell_type": "markdown",
   "metadata": {},
   "source": [
    "El conteo de letras y palabras puede extraerse mediante la función `table`"
   ]
  },
  {
   "cell_type": "code",
   "execution_count": 9,
   "metadata": {},
   "outputs": [],
   "source": [
    "t_letras = table(letras)\n",
    "t_palabras = table(palabras)"
   ]
  },
  {
   "cell_type": "markdown",
   "metadata": {},
   "source": [
    "Para poder graficar los diagramas de frecuencias, ambas se convierten a `data.frame`."
   ]
  },
  {
   "cell_type": "code",
   "execution_count": 10,
   "metadata": {},
   "outputs": [
    {
     "data": {
      "text/html": [
       "<table>\n",
       "<caption>A data.frame: 6 × 3</caption>\n",
       "<thead>\n",
       "\t<tr><th></th><th scope=col>gutenberg_id</th><th scope=col>letras</th><th scope=col>Freq</th></tr>\n",
       "\t<tr><th></th><th scope=col>&lt;fct&gt;</th><th scope=col>&lt;fct&gt;</th><th scope=col>&lt;int&gt;</th></tr>\n",
       "</thead>\n",
       "<tbody>\n",
       "\t<tr><th scope=row>1</th><td>345</td><td>0</td><td> 42</td></tr>\n",
       "\t<tr><th scope=row>2</th><td>345</td><td>1</td><td>101</td></tr>\n",
       "\t<tr><th scope=row>3</th><td>345</td><td>2</td><td> 88</td></tr>\n",
       "\t<tr><th scope=row>4</th><td>345</td><td>3</td><td> 52</td></tr>\n",
       "\t<tr><th scope=row>5</th><td>345</td><td>4</td><td> 34</td></tr>\n",
       "\t<tr><th scope=row>6</th><td>345</td><td>5</td><td> 34</td></tr>\n",
       "</tbody>\n",
       "</table>\n"
      ],
      "text/latex": [
       "A data.frame: 6 × 3\n",
       "\\begin{tabular}{r|lll}\n",
       "  & gutenberg\\_id & letras & Freq\\\\\n",
       "  & <fct> & <fct> & <int>\\\\\n",
       "\\hline\n",
       "\t1 & 345 & 0 &  42\\\\\n",
       "\t2 & 345 & 1 & 101\\\\\n",
       "\t3 & 345 & 2 &  88\\\\\n",
       "\t4 & 345 & 3 &  52\\\\\n",
       "\t5 & 345 & 4 &  34\\\\\n",
       "\t6 & 345 & 5 &  34\\\\\n",
       "\\end{tabular}\n"
      ],
      "text/markdown": [
       "\n",
       "A data.frame: 6 × 3\n",
       "\n",
       "| <!--/--> | gutenberg_id &lt;fct&gt; | letras &lt;fct&gt; | Freq &lt;int&gt; |\n",
       "|---|---|---|---|\n",
       "| 1 | 345 | 0 |  42 |\n",
       "| 2 | 345 | 1 | 101 |\n",
       "| 3 | 345 | 2 |  88 |\n",
       "| 4 | 345 | 3 |  52 |\n",
       "| 5 | 345 | 4 |  34 |\n",
       "| 6 | 345 | 5 |  34 |\n",
       "\n"
      ],
      "text/plain": [
       "  gutenberg_id letras Freq\n",
       "1 345          0       42 \n",
       "2 345          1      101 \n",
       "3 345          2       88 \n",
       "4 345          3       52 \n",
       "5 345          4       34 \n",
       "6 345          5       34 "
      ]
     },
     "metadata": {},
     "output_type": "display_data"
    },
    {
     "data": {
      "text/html": [
       "<table>\n",
       "<caption>A data.frame: 6 × 3</caption>\n",
       "<thead>\n",
       "\t<tr><th></th><th scope=col>gutenberg_id</th><th scope=col>word</th><th scope=col>Freq</th></tr>\n",
       "\t<tr><th></th><th scope=col>&lt;fct&gt;</th><th scope=col>&lt;fct&gt;</th><th scope=col>&lt;int&gt;</th></tr>\n",
       "</thead>\n",
       "<tbody>\n",
       "\t<tr><th scope=row>1</th><td>345</td><td>_1 </td><td>13</td></tr>\n",
       "\t<tr><th scope=row>2</th><td>345</td><td>_10</td><td> 3</td></tr>\n",
       "\t<tr><th scope=row>3</th><td>345</td><td>_11</td><td> 5</td></tr>\n",
       "\t<tr><th scope=row>4</th><td>345</td><td>_12</td><td> 4</td></tr>\n",
       "\t<tr><th scope=row>5</th><td>345</td><td>_13</td><td> 2</td></tr>\n",
       "\t<tr><th scope=row>6</th><td>345</td><td>_14</td><td> 1</td></tr>\n",
       "</tbody>\n",
       "</table>\n"
      ],
      "text/latex": [
       "A data.frame: 6 × 3\n",
       "\\begin{tabular}{r|lll}\n",
       "  & gutenberg\\_id & word & Freq\\\\\n",
       "  & <fct> & <fct> & <int>\\\\\n",
       "\\hline\n",
       "\t1 & 345 & \\_1  & 13\\\\\n",
       "\t2 & 345 & \\_10 &  3\\\\\n",
       "\t3 & 345 & \\_11 &  5\\\\\n",
       "\t4 & 345 & \\_12 &  4\\\\\n",
       "\t5 & 345 & \\_13 &  2\\\\\n",
       "\t6 & 345 & \\_14 &  1\\\\\n",
       "\\end{tabular}\n"
      ],
      "text/markdown": [
       "\n",
       "A data.frame: 6 × 3\n",
       "\n",
       "| <!--/--> | gutenberg_id &lt;fct&gt; | word &lt;fct&gt; | Freq &lt;int&gt; |\n",
       "|---|---|---|---|\n",
       "| 1 | 345 | _1  | 13 |\n",
       "| 2 | 345 | _10 |  3 |\n",
       "| 3 | 345 | _11 |  5 |\n",
       "| 4 | 345 | _12 |  4 |\n",
       "| 5 | 345 | _13 |  2 |\n",
       "| 6 | 345 | _14 |  1 |\n",
       "\n"
      ],
      "text/plain": [
       "  gutenberg_id word Freq\n",
       "1 345          _1   13  \n",
       "2 345          _10   3  \n",
       "3 345          _11   5  \n",
       "4 345          _12   4  \n",
       "5 345          _13   2  \n",
       "6 345          _14   1  "
      ]
     },
     "metadata": {},
     "output_type": "display_data"
    }
   ],
   "source": [
    "df_letras = as.data.frame(t_letras)\n",
    "df_palabras = as.data.frame(t_palabras)\n",
    "\n",
    "head(df_letras)\n",
    "head(df_palabras)"
   ]
  },
  {
   "cell_type": "markdown",
   "metadata": {},
   "source": [
    "En ambos, la primera columna indica el índice del libro en el sitio Project Gutemberg, así que se eliminará."
   ]
  },
  {
   "cell_type": "code",
   "execution_count": 11,
   "metadata": {},
   "outputs": [],
   "source": [
    "# https://stackoverflow.com/a/6286336/3113008\n",
    "df_letras$gutenberg_id <- NULL\n",
    "df_palabras$gutenberg_id <- NULL"
   ]
  },
  {
   "cell_type": "markdown",
   "metadata": {},
   "source": [
    "Ahora se ordenan de manera descendiente por frecuencia."
   ]
  },
  {
   "cell_type": "code",
   "execution_count": 12,
   "metadata": {},
   "outputs": [
    {
     "data": {
      "text/html": [
       "<table>\n",
       "<caption>A data.frame: 6 × 2</caption>\n",
       "<thead>\n",
       "\t<tr><th></th><th scope=col>letras</th><th scope=col>Freq</th></tr>\n",
       "\t<tr><th></th><th scope=col>&lt;fct&gt;</th><th scope=col>&lt;int&gt;</th></tr>\n",
       "</thead>\n",
       "<tbody>\n",
       "\t<tr><th scope=row>15</th><td>e</td><td>79655</td></tr>\n",
       "\t<tr><th scope=row>30</th><td>t</td><td>58403</td></tr>\n",
       "\t<tr><th scope=row>11</th><td>a</td><td>52557</td></tr>\n",
       "\t<tr><th scope=row>25</th><td>o</td><td>50535</td></tr>\n",
       "\t<tr><th scope=row>24</th><td>n</td><td>43783</td></tr>\n",
       "\t<tr><th scope=row>18</th><td>h</td><td>43431</td></tr>\n",
       "</tbody>\n",
       "</table>\n"
      ],
      "text/latex": [
       "A data.frame: 6 × 2\n",
       "\\begin{tabular}{r|ll}\n",
       "  & letras & Freq\\\\\n",
       "  & <fct> & <int>\\\\\n",
       "\\hline\n",
       "\t15 & e & 79655\\\\\n",
       "\t30 & t & 58403\\\\\n",
       "\t11 & a & 52557\\\\\n",
       "\t25 & o & 50535\\\\\n",
       "\t24 & n & 43783\\\\\n",
       "\t18 & h & 43431\\\\\n",
       "\\end{tabular}\n"
      ],
      "text/markdown": [
       "\n",
       "A data.frame: 6 × 2\n",
       "\n",
       "| <!--/--> | letras &lt;fct&gt; | Freq &lt;int&gt; |\n",
       "|---|---|---|\n",
       "| 15 | e | 79655 |\n",
       "| 30 | t | 58403 |\n",
       "| 11 | a | 52557 |\n",
       "| 25 | o | 50535 |\n",
       "| 24 | n | 43783 |\n",
       "| 18 | h | 43431 |\n",
       "\n"
      ],
      "text/plain": [
       "   letras Freq \n",
       "15 e      79655\n",
       "30 t      58403\n",
       "11 a      52557\n",
       "25 o      50535\n",
       "24 n      43783\n",
       "18 h      43431"
      ]
     },
     "metadata": {},
     "output_type": "display_data"
    },
    {
     "data": {
      "text/html": [
       "<table>\n",
       "<caption>A data.frame: 6 × 2</caption>\n",
       "<thead>\n",
       "\t<tr><th></th><th scope=col>word</th><th scope=col>Freq</th></tr>\n",
       "\t<tr><th></th><th scope=col>&lt;fct&gt;</th><th scope=col>&lt;int&gt;</th></tr>\n",
       "</thead>\n",
       "<tbody>\n",
       "\t<tr><th scope=row>8454</th><td>the</td><td>7878</td></tr>\n",
       "\t<tr><th scope=row>503</th><td>and</td><td>5904</td></tr>\n",
       "\t<tr><th scope=row>4279</th><td>i  </td><td>4797</td></tr>\n",
       "\t<tr><th scope=row>8587</th><td>to </td><td>4657</td></tr>\n",
       "\t<tr><th scope=row>5735</th><td>of </td><td>3612</td></tr>\n",
       "\t<tr><th scope=row>219</th><td>a  </td><td>2946</td></tr>\n",
       "</tbody>\n",
       "</table>\n"
      ],
      "text/latex": [
       "A data.frame: 6 × 2\n",
       "\\begin{tabular}{r|ll}\n",
       "  & word & Freq\\\\\n",
       "  & <fct> & <int>\\\\\n",
       "\\hline\n",
       "\t8454 & the & 7878\\\\\n",
       "\t503 & and & 5904\\\\\n",
       "\t4279 & i   & 4797\\\\\n",
       "\t8587 & to  & 4657\\\\\n",
       "\t5735 & of  & 3612\\\\\n",
       "\t219 & a   & 2946\\\\\n",
       "\\end{tabular}\n"
      ],
      "text/markdown": [
       "\n",
       "A data.frame: 6 × 2\n",
       "\n",
       "| <!--/--> | word &lt;fct&gt; | Freq &lt;int&gt; |\n",
       "|---|---|---|\n",
       "| 8454 | the | 7878 |\n",
       "| 503 | and | 5904 |\n",
       "| 4279 | i   | 4797 |\n",
       "| 8587 | to  | 4657 |\n",
       "| 5735 | of  | 3612 |\n",
       "| 219 | a   | 2946 |\n",
       "\n"
      ],
      "text/plain": [
       "     word Freq\n",
       "8454 the  7878\n",
       "503  and  5904\n",
       "4279 i    4797\n",
       "8587 to   4657\n",
       "5735 of   3612\n",
       "219  a    2946"
      ]
     },
     "metadata": {},
     "output_type": "display_data"
    }
   ],
   "source": [
    "s_letras = df_letras[order(-df_letras$Freq), ]\n",
    "s_palabras = df_palabras[order(-df_palabras$Freq), ]\n",
    "\n",
    "head(s_letras)\n",
    "head(s_palabras)"
   ]
  },
  {
   "cell_type": "markdown",
   "metadata": {},
   "source": [
    "Se grafican los resultados."
   ]
  },
  {
   "cell_type": "code",
   "execution_count": 17,
   "metadata": {},
   "outputs": [
    {
     "data": {
      "image/png": "[encoded data removed]",
      "text/plain": [
       "plot without title"
      ]
     },
     "metadata": {
      "image/png": {
       "height": 480,
       "width": 720
      }
     },
     "output_type": "display_data"
    },
    {
     "data": {
      "text/html": [
       "<strong>png:</strong> 2"
      ],
      "text/latex": [
       "\\textbf{png:} 2"
      ],
      "text/markdown": [
       "**png:** 2"
      ],
      "text/plain": [
       "png \n",
       "  2 "
      ]
     },
     "metadata": {},
     "output_type": "display_data"
    },
    {
     "data": {
      "text/html": [
       "<strong>png:</strong> 2"
      ],
      "text/latex": [
       "\\textbf{png:} 2"
      ],
      "text/markdown": [
       "**png:** 2"
      ],
      "text/plain": [
       "png \n",
       "  2 "
      ]
     },
     "metadata": {},
     "output_type": "display_data"
    },
    {
     "data": {
      "image/png": "[encoded data removed]",
      "text/plain": [
       "plot without title"
      ]
     },
     "metadata": {
      "image/png": {
       "height": 480,
       "width": 720
      }
     },
     "output_type": "display_data"
    }
   ],
   "source": [
    "library(repr)\n",
    "options(repr.plot.width=12, repr.plot.height=8)\n",
    "barplot(s_letras$Freq[1:10], names = s_letras$letras[1:10])\n",
    "barplot(s_palabras$Freq[1:10], names = s_palabras$word[1:10], las=2)\n",
    "\n",
    "# https://stackoverflow.com/a/8147482/3113008\n",
    "setEPS()\n",
    "postscript(file=\"letras.eps\", width=12, height=8)\n",
    "barplot(s_letras$Freq[1:10], names = s_letras$letras[1:10], cex.axis=1.5, cex.names=1.5)\n",
    "dev.off()\n",
    "\n",
    "setEPS()\n",
    "postscript(file=\"palabras.eps\", width=12, height=8)\n",
    "barplot(s_palabras$Freq[1:10], names = s_palabras$word[1:10], las=2, cex.axis=1.5, cex.names=1.5)\n",
    "dev.off()"
   ]
  },
  {
   "cell_type": "markdown",
   "metadata": {},
   "source": [
    "De esto podríamos decir que la letra *e* es la más usada en este libro y que el artículo *the* también lo es, pero esto no agrega mucho al entendimiento de la estructura del libro en sí. Existe un término denominado *palabras vacías* (o *stop words* en ingl+es) que se refiere a palabras que en un idioma carecen de significado fuera de contexto (más información [aquí](https://googleseo.marketing/seo-que-son-stop-words-palabras-vacias/)). En español se incluyen todos las preposiciones, artículos y adverbios. Una lista más detallada se halla en [esta página](https://googleseo.marketing/lista-de-stop-words-o-palabras-vacias-en-espanol/). Al eliminar estas palabras, se obtendría una lista de palabras más significativas.\n",
    "\n",
    "Primero se carga la librería [`stopwords`](https://www.rdocumentation.org/packages/stopwords/versions/2.0) (también existe la opción de `tidytext` pero la librería de `stopwords` posee más opciones para filtrar palabras) y se guardan las palabras vacías del inglés."
   ]
  },
  {
   "cell_type": "code",
   "execution_count": 15,
   "metadata": {},
   "outputs": [],
   "source": [
    "# https://stackoverflow.com/a/43969398/3113008 \n",
    "# head(s_palabras %>% anti_join(stop_words), 20)"
   ]
  },
  {
   "cell_type": "code",
   "execution_count": 16,
   "metadata": {},
   "outputs": [
    {
     "name": "stderr",
     "output_type": "stream",
     "text": [
      "Loading required package: stopwords\n",
      "\n"
     ]
    }
   ],
   "source": [
    "if (!require('stopwords')) install.packages('stopwords'); library('stopwords')"
   ]
  },
  {
   "cell_type": "code",
   "execution_count": 17,
   "metadata": {},
   "outputs": [
    {
     "data": {
      "text/html": [
       "<style>\n",
       ".list-inline {list-style: none; margin:0; padding: 0}\n",
       ".list-inline>li {display: inline-block}\n",
       ".list-inline>li:not(:last-child)::after {content: \"\\00b7\"; padding: 0 .5ex}\n",
       "</style>\n",
       "<ol class=list-inline><li>'\\'ll'</li><li>'\\'tis'</li><li>'\\'twas'</li><li>'\\'ve'</li><li>'10'</li><li>'39'</li></ol>\n"
      ],
      "text/latex": [
       "\\begin{enumerate*}\n",
       "\\item '\\textbackslash{}'ll'\n",
       "\\item '\\textbackslash{}'tis'\n",
       "\\item '\\textbackslash{}'twas'\n",
       "\\item '\\textbackslash{}'ve'\n",
       "\\item '10'\n",
       "\\item '39'\n",
       "\\end{enumerate*}\n"
      ],
      "text/markdown": [
       "1. '\\'ll'\n",
       "2. '\\'tis'\n",
       "3. '\\'twas'\n",
       "4. '\\'ve'\n",
       "5. '10'\n",
       "6. '39'\n",
       "\n",
       "\n"
      ],
      "text/plain": [
       "[1] \"'ll\"   \"'tis\"  \"'twas\" \"'ve\"   \"10\"    \"39\"   "
      ]
     },
     "metadata": {},
     "output_type": "display_data"
    }
   ],
   "source": [
    "sw = stopwords::stopwords(\"en\", source = \"stopwords-iso\")\n",
    "head(sw)"
   ]
  },
  {
   "cell_type": "markdown",
   "metadata": {},
   "source": [
    "Ahora se eliminan de la lista de letras."
   ]
  },
  {
   "cell_type": "code",
   "execution_count": 18,
   "metadata": {},
   "outputs": [
    {
     "data": {
      "text/html": [
       "<table>\n",
       "<caption>A data.frame: 20 × 2</caption>\n",
       "<thead>\n",
       "\t<tr><th></th><th scope=col>word</th><th scope=col>Freq</th></tr>\n",
       "\t<tr><th></th><th scope=col>&lt;fct&gt;</th><th scope=col>&lt;int&gt;</th></tr>\n",
       "</thead>\n",
       "<tbody>\n",
       "\t<tr><th scope=row>8567</th><td>time     </td><td>390</td></tr>\n",
       "\t<tr><th scope=row>8998</th><td>van      </td><td>322</td></tr>\n",
       "\t<tr><th scope=row>5591</th><td>night    </td><td>310</td></tr>\n",
       "\t<tr><th scope=row>4063</th><td>helsing  </td><td>300</td></tr>\n",
       "\t<tr><th scope=row>5049</th><td>lucy     </td><td>221</td></tr>\n",
       "\t<tr><th scope=row>2209</th><td>day      </td><td>220</td></tr>\n",
       "\t<tr><th scope=row>3908</th><td>hand     </td><td>210</td></tr>\n",
       "\t<tr><th scope=row>5302</th><td>mina     </td><td>203</td></tr>\n",
       "\t<tr><th scope=row>2601</th><td>door     </td><td>200</td></tr>\n",
       "\t<tr><th scope=row>6270</th><td>poor     </td><td>193</td></tr>\n",
       "\t<tr><th scope=row>7629</th><td>sleep    </td><td>192</td></tr>\n",
       "\t<tr><th scope=row>3122</th><td>eyes     </td><td>188</td></tr>\n",
       "\t<tr><th scope=row>5007</th><td>looked   </td><td>186</td></tr>\n",
       "\t<tr><th scope=row>3517</th><td>friend   </td><td>183</td></tr>\n",
       "\t<tr><th scope=row>4629</th><td>jonathan </td><td>174</td></tr>\n",
       "\t<tr><th scope=row>6438</th><td>professor</td><td>155</td></tr>\n",
       "\t<tr><th scope=row>1994</th><td>count    </td><td>153</td></tr>\n",
       "\t<tr><th scope=row>2632</th><td>dr       </td><td>151</td></tr>\n",
       "\t<tr><th scope=row>3725</th><td>god      </td><td>150</td></tr>\n",
       "\t<tr><th scope=row>4913</th><td>life     </td><td>148</td></tr>\n",
       "</tbody>\n",
       "</table>\n"
      ],
      "text/latex": [
       "A data.frame: 20 × 2\n",
       "\\begin{tabular}{r|ll}\n",
       "  & word & Freq\\\\\n",
       "  & <fct> & <int>\\\\\n",
       "\\hline\n",
       "\t8567 & time      & 390\\\\\n",
       "\t8998 & van       & 322\\\\\n",
       "\t5591 & night     & 310\\\\\n",
       "\t4063 & helsing   & 300\\\\\n",
       "\t5049 & lucy      & 221\\\\\n",
       "\t2209 & day       & 220\\\\\n",
       "\t3908 & hand      & 210\\\\\n",
       "\t5302 & mina      & 203\\\\\n",
       "\t2601 & door      & 200\\\\\n",
       "\t6270 & poor      & 193\\\\\n",
       "\t7629 & sleep     & 192\\\\\n",
       "\t3122 & eyes      & 188\\\\\n",
       "\t5007 & looked    & 186\\\\\n",
       "\t3517 & friend    & 183\\\\\n",
       "\t4629 & jonathan  & 174\\\\\n",
       "\t6438 & professor & 155\\\\\n",
       "\t1994 & count     & 153\\\\\n",
       "\t2632 & dr        & 151\\\\\n",
       "\t3725 & god       & 150\\\\\n",
       "\t4913 & life      & 148\\\\\n",
       "\\end{tabular}\n"
      ],
      "text/markdown": [
       "\n",
       "A data.frame: 20 × 2\n",
       "\n",
       "| <!--/--> | word &lt;fct&gt; | Freq &lt;int&gt; |\n",
       "|---|---|---|\n",
       "| 8567 | time      | 390 |\n",
       "| 8998 | van       | 322 |\n",
       "| 5591 | night     | 310 |\n",
       "| 4063 | helsing   | 300 |\n",
       "| 5049 | lucy      | 221 |\n",
       "| 2209 | day       | 220 |\n",
       "| 3908 | hand      | 210 |\n",
       "| 5302 | mina      | 203 |\n",
       "| 2601 | door      | 200 |\n",
       "| 6270 | poor      | 193 |\n",
       "| 7629 | sleep     | 192 |\n",
       "| 3122 | eyes      | 188 |\n",
       "| 5007 | looked    | 186 |\n",
       "| 3517 | friend    | 183 |\n",
       "| 4629 | jonathan  | 174 |\n",
       "| 6438 | professor | 155 |\n",
       "| 1994 | count     | 153 |\n",
       "| 2632 | dr        | 151 |\n",
       "| 3725 | god       | 150 |\n",
       "| 4913 | life      | 148 |\n",
       "\n"
      ],
      "text/plain": [
       "     word      Freq\n",
       "8567 time      390 \n",
       "8998 van       322 \n",
       "5591 night     310 \n",
       "4063 helsing   300 \n",
       "5049 lucy      221 \n",
       "2209 day       220 \n",
       "3908 hand      210 \n",
       "5302 mina      203 \n",
       "2601 door      200 \n",
       "6270 poor      193 \n",
       "7629 sleep     192 \n",
       "3122 eyes      188 \n",
       "5007 looked    186 \n",
       "3517 friend    183 \n",
       "4629 jonathan  174 \n",
       "6438 professor 155 \n",
       "1994 count     153 \n",
       "2632 dr        151 \n",
       "3725 god       150 \n",
       "4913 life      148 "
      ]
     },
     "metadata": {},
     "output_type": "display_data"
    },
    {
     "data": {
      "image/png": "[encoded data removed]",
      "text/plain": [
       "plot without title"
      ]
     },
     "metadata": {
      "image/png": {
       "height": 480,
       "width": 720
      }
     },
     "output_type": "display_data"
    }
   ],
   "source": [
    "sw_palabras = s_palabras[!(s_palabras$word %in% sw), ]\n",
    "head(sw_palabras, 20)\n",
    "options(repr.plot.width=12, repr.plot.height=8)\n",
    "barplot(sw_palabras$Freq[1:50], names = sw_palabras$word[1:50],las=2)"
   ]
  },
  {
   "cell_type": "markdown",
   "metadata": {},
   "source": [
    "Finalmente se puede generar una nube de palabras con estos resultados y la librería `wordcloud`."
   ]
  },
  {
   "cell_type": "code",
   "execution_count": 19,
   "metadata": {},
   "outputs": [
    {
     "name": "stderr",
     "output_type": "stream",
     "text": [
      "Loading required package: wordcloud\n",
      "\n",
      "Loading required package: RColorBrewer\n",
      "\n"
     ]
    }
   ],
   "source": [
    "if (!require('wordcloud')) install.packages('wordcloud'); library('wordcloud')"
   ]
  },
  {
   "cell_type": "code",
   "execution_count": 20,
   "metadata": {},
   "outputs": [
    {
     "data": {
      "image/png": "[encoded data removed]",
      "text/plain": [
       "plot without title"
      ]
     },
     "metadata": {
      "image/png": {
       "height": 480,
       "width": 720
      }
     },
     "output_type": "display_data"
    }
   ],
   "source": [
    "wordcloud(words = sw_palabras$word, freq = sw_palabras$Freq, min.freq = 1, max.words=200, random.order=FALSE, colors=brewer.pal(8, \"Dark2\"))\n",
    "# wordcloud(words = s_letras$letras, freq = s_letras$Freq, min.freq = 1, max.words=200, random.order=FALSE, colors=brewer.pal(8, \"Dark2\"))"
   ]
  },
  {
   "cell_type": "markdown",
   "metadata": {},
   "source": [
    "Se puede hacer una animación de nube de palabras que muestren la frecuencia acumulada de estas palabras para entender mejor cómo evoluciona la historia. Para no hacerlo línea por línea, se pueden hacer en acumulados de líneas."
   ]
  },
  {
   "cell_type": "code",
   "execution_count": 47,
   "metadata": {},
   "outputs": [],
   "source": [
    "lineas = nrow(libro2)\n",
    "saltos = floor(lineas / 100)\n",
    "\n",
    "digitos = floor(log(nrow(libro2)))\n",
    "\n",
    "j = 1\n",
    "for (i in seq(saltos, lineas, saltos)){\n",
    "    set.seed(33)\n",
    "    p = libro2[1:i,] %>% unnest_tokens(word, text, \"words\")\n",
    "    t_p = table(p)\n",
    "    df_p = as.data.frame(t_p)\n",
    "    df_p$gutenberg_id <- NULL\n",
    "    s_p = df_p[order(-df_p$Freq), ]\n",
    "    sw_p = s_p[!(s_p$word %in% sw), ]\n",
    "    \n",
    "    n = sprintf(\"imgs/wc_%d.png\", digitos)\n",
    "    png(sprintf(\"imgs/wc_%03d.png\", j), width = 480, height = 960)\n",
    "    par(mar = c(5.1, 8, 4.1, 2.1)) # https://bookdown.org/ndphillips/YaRrr/plot-margins.html\n",
    "    \n",
    "    # https://stackoverflow.com/a/21912337/3113008\n",
    "    barplot(rev(sw_p$Freq[1:50]), names = rev(sw_p$word[1:50]), main=sprintf(\"%d%%\",j), horiz=TRUE, las=1)\n",
    "    #layout(matrix(c(1, 2), nrow=2), heights=c(1, 4))\n",
    "    #par(mar=rep(0, 4))\n",
    "    #plot.new()\n",
    "    #text(x=0.5, y=0.5, paste(j, \"%\", collapse=\"\"))\n",
    "    #wordcloud(words = sw_p$word, freq = sw_p$Freq, min.freq = 1, max.words=200, random.order=FALSE, colors=brewer.pal(8, \"Dark2\"))\n",
    "    dev.off()\n",
    "    j = j + 1\n",
    "}"
   ]
  },
  {
   "cell_type": "code",
   "execution_count": 48,
   "metadata": {},
   "outputs": [],
   "source": [
    "# https://www.r-bloggers.com/working-with-windows-cmd-system-commands-in-r/\n",
    "# https://imagemagick.org/discourse-server/viewtopic.php?t=24912\n",
    "\n",
    "shell(\"magick -delay 50 imgs/*.png animation.gif\")"
   ]
  }
 ],
 "metadata": {
  "kernelspec": {
   "display_name": "R",
   "language": "R",
   "name": "ir"
  },
  "language_info": {
   "codemirror_mode": "r",
   "file_extension": ".r",
   "mimetype": "text/x-r-source",
   "name": "R",
   "pygments_lexer": "r",
   "version": "4.0.2"
  }
 },
 "nbformat": 4,
 "nbformat_minor": 4
}
