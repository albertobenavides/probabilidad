{
 "cells": [
  {
   "cell_type": "markdown",
   "metadata": {},
   "source": [
    "# Ley de los grandes números\n",
    "\n",
    "La ley de los grandes números afirma que mientras un experimento aleatorio se repita una gran cantidad de veces $n$, el promedio de los resultados $\\frac{X_1, X_2, \\ldots, X_n}{n}$ de ese experimento se aproximará a su valor esperado $E(X)$ conforme $n$ se aproxime a $+\\infty$.\n",
    "\n",
    "Los ejemplos más usados para demostrar la ley de los grandes números consisten en lanzar una moneda al aire o la tirada de un dado de seis caras.\n",
    "\n",
    "Para el lanzamiento de una moneda, el $E(X) = 0.5$. Los lenguajes computacionales permiten experimentar computacionalmente mediante la obtencion de [valores pseudoaleatorios](https://es.wikipedia.org/wiki/Generador_de_n%C3%BAmeros_pseudoaleatorios). En [R](https://www.r-project.org/) se puede realizar un experimento que simule mil lanzamientos de monedas para, de ellos, calcular la media, con el procedimiento"
   ]
  },
  {
   "cell_type": "code",
   "execution_count": 164,
   "metadata": {},
   "outputs": [
    {
     "data": {
      "text/html": [
       "0.507"
      ],
      "text/latex": [
       "0.507"
      ],
      "text/markdown": [
       "0.507"
      ],
      "text/plain": [
       "[1] 0.507"
      ]
     },
     "metadata": {},
     "output_type": "display_data"
    }
   ],
   "source": [
    "set.seed(33)\n",
    "mean(sample(0:1, 1000, replace=TRUE))"
   ]
  },
  {
   "cell_type": "markdown",
   "metadata": {},
   "source": [
    "que da por resultado $0.503 \\approx E(X)$. En este caso, ese `0:1` simula el conjunto de resultados`0` para cara y `1` para cruz. En el caso de la tirada del dado, se puede simular así:"
   ]
  },
  {
   "cell_type": "code",
   "execution_count": 165,
   "metadata": {},
   "outputs": [
    {
     "data": {
      "text/html": [
       "3.554"
      ],
      "text/latex": [
       "3.554"
      ],
      "text/markdown": [
       "3.554"
      ],
      "text/plain": [
       "[1] 3.554"
      ]
     },
     "metadata": {},
     "output_type": "display_data"
    }
   ],
   "source": [
    "mean(sample(1:6, 1000, replace=TRUE))"
   ]
  },
  {
   "cell_type": "markdown",
   "metadata": {},
   "source": [
    "donde el valor $E(X) = \\frac{1 + 2 + 3 + 4 + 5 + 6}{6} = 2.5 \\approx 3.524$."
   ]
  },
  {
   "cell_type": "markdown",
   "metadata": {},
   "source": [
    "Una representación gráfica de la parte en la que $n$ se aproxima a $+\\infty$ consiste en graficar las medias conforme $n$ crece. Para el ejemplo de la tirada del dado de seis cara, se logra mediante:"
   ]
  },
  {
   "cell_type": "code",
   "execution_count": 20,
   "metadata": {},
   "outputs": [],
   "source": [
    "medias <- c()\n",
    "for (i in 1:10000){\n",
    "    medias <- c(medias, mean(sample(1:6, i, replace=TRUE)))\n",
    "}"
   ]
  },
  {
   "cell_type": "code",
   "execution_count": 167,
   "metadata": {},
   "outputs": [
    {
     "data": {
      "text/html": [
       "<strong>png:</strong> 2"
      ],
      "text/latex": [
       "\\textbf{png:} 2"
      ],
      "text/markdown": [
       "**png:** 2"
      ],
      "text/plain": [
       "png \n",
       "  2 "
      ]
     },
     "metadata": {},
     "output_type": "display_data"
    }
   ],
   "source": [
    "pdf('dados.pdf')\n",
    "plot(medias, type='l', ylab=\"Medias\", xlab=\"Repeticiones\", cex.lab = 1.4, cex.axis = 1.4)\n",
    "dev.off()"
   ]
  },
  {
   "cell_type": "markdown",
   "metadata": {},
   "source": [
    "Actualmente, investigo la relación que hay entre los contaminantes del aire y los reportes de enfermedades por parte de los centros de salud, estudio delimitado al Área Metropolitana de Monterrey durante el año 2017. Los datos de contaminantes para ese año se obtuvieron del [Sistema Integral de Monitoreo Ambiental](http://aire.nl.gob.mx/).\n",
    "\n",
    "Primero se leen los datos."
   ]
  },
  {
   "cell_type": "code",
   "execution_count": 172,
   "metadata": {},
   "outputs": [],
   "source": [
    "datos <- read.csv('all.csv')"
   ]
  },
  {
   "cell_type": "markdown",
   "metadata": {},
   "source": [
    "Este es un ejemplo de los datos obtenidos."
   ]
  },
  {
   "cell_type": "code",
   "execution_count": 168,
   "metadata": {},
   "outputs": [],
   "source": [
    "library(xtable)"
   ]
  },
  {
   "cell_type": "code",
   "execution_count": 208,
   "metadata": {},
   "outputs": [
    {
     "name": "stdout",
     "output_type": "stream",
     "text": [
      "% latex table generated in R 4.0.2 by xtable 1.8-4 package\n",
      "% Tue Dec 01 00:11:29 2020\n",
      "\\begin{table}[ht]\n",
      "\\centering\n",
      "\\begin{tabular}{rllrrrrrrrrrrrrrrrrl}\n",
      "  \\hline\n",
      " & timestamp & station & CO & NO & NO2 & NOX & O3 & PM10 & PM2\\_5 & pressure & rainfall & humidity & SO2 & solar & temperature & velocity & direction & valid & notes \\\\ \n",
      "  \\hline\n",
      "1018306 & 29-Jul-13 11 & Noreste2 & 0.44 & 4.00 & 1.40 & 5.40 & 49.00 & 83.00 &  & 719.50 & 0.00 & 64.00 & 6.50 & 0.81 & 29.41 & 4.70 & 92.00 &   1 &  \\\\ \n",
      "  761468 & 25-Dec-09 6 & Noreste & 0.18 & 2.70 & 8.40 & 10.90 & 22.00 & 14.00 & 8.00 &  &  & 50.00 & 3.30 &  & 5.94 & 5.30 & 316.00 &   1 &  \\\\ \n",
      "  623230 & 22-Mar-07 13 & Suroeste & 1.36 & 12.50 & 23.40 & 35.50 & 30.00 & 114.00 &  & 700.90 & 0.00 & 68.00 & 6.80 &  & 21.86 & 5.40 & 137.00 &   1 &  \\\\ \n",
      "  850935 & 21-May-11 16 & Norte & 3.44 & 2.20 & 6.30 & 8.20 & 57.00 & 20.00 & 8.00 & 714.20 & 0.00 & 42.00 & 2.30 & 0.62 & 35.16 & 15.40 & 103.00 &   1 &  \\\\ \n",
      "  431462 & 05-Nov-02 12 & Noreste & 0.70 &  &  &  & 22.00 & 58.00 &  &  &  &  & 0.00 &  & 24.30 & 11.18 & 331.38 &   1 &  \\\\ \n",
      "  1266071 & 11-Jun-16 9 & Suroeste & 0.64 &  &  &  & 25.00 & 65.00 & 20.00 & 702.10 & 0.00 & 70.00 & 4.60 & 0.55 & 27.42 & 7.50 & 104.00 &   1 &  \\\\ \n",
      "  1378535 & 23-Jul-17 20 & Centro & 0.73 & 73.60 & 4.00 & 77.60 & 32.00 & 43.00 & 20.00 & 708.20 & 0.00 & 36.00 &  & 0.01 & 32.66 & 13.30 & 149.00 &   1 &  \\\\ \n",
      "  203018 & 19-Aug-97 19 & Centro & 0.83 & 8.00 & 26.50 & 33.50 & 6.00 & 33.00 &  &  &  &  & 2.75 &  & 34.40 & 11.02 & 119.88 &   1 &  \\\\ \n",
      "  1271251 & 2-Jul-16 23 & Suroeste & 0.44 &  &  &  & 20.00 & 62.00 & 21.00 & 700.90 & 0.00 & 55.00 & 5.30 & 0.00 & 28.43 & 9.10 & 119.00 &   1 &  \\\\ \n",
      "  1453199 & 20-Mar-18 3 & Noreste2 & 0.60 &  &  &  &  & 68.00 &  & 712.90 & 0.00 & 32.00 &  & 0.00 & 20.13 & 4.30 &  &   1 &  \\\\ \n",
      "   \\hline\n",
      "\\end{tabular}\n",
      "\\end{table}\n"
     ]
    }
   ],
   "source": [
    "set.seed(94)\n",
    "tabla = datos[sample(nrow(datos), 10), ]\n",
    "print(xtable(tabla), include.rownames = TRUE)"
   ]
  },
  {
   "cell_type": "markdown",
   "metadata": {},
   "source": [
    "La primera columna es una fecha, así que se convierte en un formato de fecha que interpreta R:"
   ]
  },
  {
   "cell_type": "code",
   "execution_count": 47,
   "metadata": {},
   "outputs": [
    {
     "data": {
      "text/html": [
       "'LC_COLLATE=English_United States.1252;LC_CTYPE=English_United States.1252;LC_MONETARY=English_United States.1252;LC_NUMERIC=C;LC_TIME=English_United States.1252'"
      ],
      "text/latex": [
       "'LC\\_COLLATE=English\\_United States.1252;LC\\_CTYPE=English\\_United States.1252;LC\\_MONETARY=English\\_United States.1252;LC\\_NUMERIC=C;LC\\_TIME=English\\_United States.1252'"
      ],
      "text/markdown": [
       "'LC_COLLATE=English_United States.1252;LC_CTYPE=English_United States.1252;LC_MONETARY=English_United States.1252;LC_NUMERIC=C;LC_TIME=English_United States.1252'"
      ],
      "text/plain": [
       "[1] \"LC_COLLATE=English_United States.1252;LC_CTYPE=English_United States.1252;LC_MONETARY=English_United States.1252;LC_NUMERIC=C;LC_TIME=English_United States.1252\""
      ]
     },
     "metadata": {},
     "output_type": "display_data"
    }
   ],
   "source": [
    "# https://stackoverflow.com/a/32068524/3113008\n",
    "# https://stackoverflow.com/a/29197887/3113008\n",
    "Sys.setlocale(\"LC_ALL\",\"English\")\n",
    "\n",
    "datos$timestamp = as.Date(tolower(datos$timestamp), format = '%d-%b-%y %H')"
   ]
  },
  {
   "cell_type": "markdown",
   "metadata": {},
   "source": [
    "Para esta tarea, nos intersa estimar los valores inválidos que se presentarán por mes, año y estación, así que primero se resta $1$ a todos los valores de la columna `valid`, para que los valores inválidos tengan un valor de `-1`  y los válidos de `0`."
   ]
  },
  {
   "cell_type": "code",
   "execution_count": 56,
   "metadata": {},
   "outputs": [],
   "source": [
    "datos$valid = datos$valid - 1"
   ]
  },
  {
   "cell_type": "markdown",
   "metadata": {},
   "source": [
    "Ahora se pueden agrupar por mes, año y estación."
   ]
  },
  {
   "cell_type": "code",
   "execution_count": 60,
   "metadata": {},
   "outputs": [],
   "source": [
    "library(dplyr)"
   ]
  },
  {
   "cell_type": "code",
   "execution_count": 138,
   "metadata": {},
   "outputs": [
    {
     "name": "stderr",
     "output_type": "stream",
     "text": [
      "`summarise()` regrouping output by 'year' (override with `.groups` argument)\n",
      "\n"
     ]
    }
   ],
   "source": [
    "errores = datos %>%\n",
    "    mutate(month = format(timestamp, \"%m\"), year = format(timestamp, \"%Y\")) %>%\n",
    "    group_by(year, station) %>%\n",
    "    summarise(errores = abs(sum(valid)), total = n())"
   ]
  },
  {
   "cell_type": "code",
   "execution_count": 211,
   "metadata": {},
   "outputs": [
    {
     "name": "stdout",
     "output_type": "stream",
     "text": [
      "% latex table generated in R 4.0.2 by xtable 1.8-4 package\n",
      "% Tue Dec 01 00:26:31 2020\n",
      "\\begin{table}[ht]\n",
      "\\centering\n",
      "\\begin{tabular}{rllrr}\n",
      "  \\hline\n",
      " & year & station & errores & total \\\\ \n",
      "  \\hline\n",
      "1 & 1999 & Noroeste & 40.00 & 8760 \\\\ \n",
      "  2 & 2003 & Suroeste & 0.00 & 8760 \\\\ \n",
      "  3 & 2000 & Centro & 35.00 & 8784 \\\\ \n",
      "   \\hline\n",
      "\\end{tabular}\n",
      "\\end{table}\n"
     ]
    }
   ],
   "source": [
    "print(xtable(errores[sample(nrow(errores), 3), ]))"
   ]
  },
  {
   "cell_type": "code",
   "execution_count": 140,
   "metadata": {},
   "outputs": [
    {
     "data": {
      "text/html": [
       "<style>\n",
       ".list-inline {list-style: none; margin:0; padding: 0}\n",
       ".list-inline>li {display: inline-block}\n",
       ".list-inline>li:not(:last-child)::after {content: \"\\00b7\"; padding: 0 .5ex}\n",
       "</style>\n",
       "<ol class=list-inline><li>'Centro'</li><li>'Noreste'</li><li>'Noroeste'</li><li>'Sureste'</li><li>'Suroeste'</li><li>'Noroeste2'</li><li>'Norte'</li><li>'Noreste2'</li><li>'Sureste2'</li><li>'Suroeste2'</li><li>'Norte2'</li><li>'Sur'</li><li>'Sureste3'</li></ol>\n"
      ],
      "text/latex": [
       "\\begin{enumerate*}\n",
       "\\item 'Centro'\n",
       "\\item 'Noreste'\n",
       "\\item 'Noroeste'\n",
       "\\item 'Sureste'\n",
       "\\item 'Suroeste'\n",
       "\\item 'Noroeste2'\n",
       "\\item 'Norte'\n",
       "\\item 'Noreste2'\n",
       "\\item 'Sureste2'\n",
       "\\item 'Suroeste2'\n",
       "\\item 'Norte2'\n",
       "\\item 'Sur'\n",
       "\\item 'Sureste3'\n",
       "\\end{enumerate*}\n"
      ],
      "text/markdown": [
       "1. 'Centro'\n",
       "2. 'Noreste'\n",
       "3. 'Noroeste'\n",
       "4. 'Sureste'\n",
       "5. 'Suroeste'\n",
       "6. 'Noroeste2'\n",
       "7. 'Norte'\n",
       "8. 'Noreste2'\n",
       "9. 'Sureste2'\n",
       "10. 'Suroeste2'\n",
       "11. 'Norte2'\n",
       "12. 'Sur'\n",
       "13. 'Sureste3'\n",
       "\n",
       "\n"
      ],
      "text/plain": [
       " [1] \"Centro\"    \"Noreste\"   \"Noroeste\"  \"Sureste\"   \"Suroeste\"  \"Noroeste2\"\n",
       " [7] \"Norte\"     \"Noreste2\"  \"Sureste2\"  \"Suroeste2\" \"Norte2\"    \"Sur\"      \n",
       "[13] \"Sureste3\" "
      ]
     },
     "metadata": {},
     "output_type": "display_data"
    }
   ],
   "source": [
    "estaciones = unique(errores$station)\n",
    "estaciones"
   ]
  },
  {
   "cell_type": "code",
   "execution_count": 162,
   "metadata": {},
   "outputs": [],
   "source": [
    "# for (e in estaciones){\n",
    "#     t = errores[errores$station == e, ]\n",
    "#     plot(t$year, t$errores / t$total, xlab=\"Año\", ylab=\"Total de errores\", type='l')\n",
    "#     cat(e, ' ', sum(t$errores / t$total), '\\n')\n",
    "# }"
   ]
  },
  {
   "cell_type": "markdown",
   "metadata": {},
   "source": [
    "Del análisis anterior, se ve que la estación Suroeste es la que más datos inválidos registra (un $41.47\\%$ de los datos reportados):"
   ]
  },
  {
   "cell_type": "code",
   "execution_count": 212,
   "metadata": {},
   "outputs": [
    {
     "data": {
      "text/html": [
       "<strong>png:</strong> 2"
      ],
      "text/latex": [
       "\\textbf{png:} 2"
      ],
      "text/markdown": [
       "**png:** 2"
      ],
      "text/plain": [
       "png \n",
       "  2 "
      ]
     },
     "metadata": {},
     "output_type": "display_data"
    },
    {
     "name": "stdout",
     "output_type": "stream",
     "text": [
      "Suroeste   0.4147042 \n"
     ]
    }
   ],
   "source": [
    "t = errores[errores$station == 'Suroeste', ]\n",
    "pdf('so.pdf')\n",
    "plot(t$year, t$errores / t$total, xlab=\"Año\", ylab=\"Porcentaje de errores\", type='l', cex.lab = 1.4, cex.axis = 1.4)\n",
    "dev.off()\n",
    "cat('Suroeste', ' ', sum(t$errores / t$total), '\\n')"
   ]
  },
  {
   "cell_type": "markdown",
   "metadata": {},
   "source": [
    "Por medio de la ley de los grandes números se puede calcular la cantidad de mediciones que se deben hacer para saber, con un $95\\%$ de confianza, que ese porcentaje de errores de medición es correcto. En el caso del sensor del suroeste, se sabe que la probabilidad de obtener una medición inválida es $\\mu = 0.4147 = p$, de donde $\\sigma^2 = p(1 - p) = 0.2427$. Ahora, se puede definir un error de medición $\\epsilon = 0.02$, lo que quiere decir que se probará si una medida sea inválida con probabilidad entre $[0.4147 - 0.02, 0.4147 + 0.02]$. Por la ley de los grandes números, se tiene que\n",
    "$$P[|\\bar{X} - \\mu| > \\epsilon] \\leq \\frac{\\sigma^2}{n \\epsilon^2},$$ \n",
    "al sustituir\n",
    "$$P[|\\bar{X} - 0.4147| > 0.02] \\leq \\frac{0.2427^2}{n (0.02)^2}.$$\n",
    "Como se desea obtener un intervalo de confianza de $95%$, entonces se debe cumplir\n",
    "$$\\frac{0.2427^2}{n (0.02)^2} = 0.05,$$\n",
    "por lo que\n",
    "$$n = \\frac{0.2427^2}{(0.05) (0.02)^2} = 2945.1645 \\approx 2945.$$\n",
    "\n",
    "Así, se podría recomendar realizar $2945$ mediciones"
   ]
  }
 ],
 "metadata": {
  "kernelspec": {
   "display_name": "R",
   "language": "R",
   "name": "ir"
  },
  "language_info": {
   "codemirror_mode": "r",
   "file_extension": ".r",
   "mimetype": "text/x-r-source",
   "name": "R",
   "pygments_lexer": "r",
   "version": "4.0.2"
  }
 },
 "nbformat": 4,
 "nbformat_minor": 4
}
